{
 "metadata": {
  "language_info": {
   "codemirror_mode": {
    "name": "ipython",
    "version": 3
   },
   "file_extension": ".py",
   "mimetype": "text/x-python",
   "name": "python",
   "nbconvert_exporter": "python",
   "pygments_lexer": "ipython3",
   "version": "3.7.7-final"
  },
  "orig_nbformat": 2,
  "kernelspec": {
   "name": "python37764bitdatacondadc3d4e752f5544e9b20925fdd8c32237",
   "display_name": "Python 3.7.7 64-bit ('Data': conda)"
  }
 },
 "nbformat": 4,
 "nbformat_minor": 2,
 "cells": [
  {
   "cell_type": "code",
   "execution_count": 2,
   "metadata": {},
   "outputs": [],
   "source": [
    "import pandas as pd\n",
    "import numpy as np\n",
    "\n",
    "import InfoTrayectosModule as Tracks\n",
    "from DecoderModule import Decoder\n",
    "import InfoStationsModule as Stations"
   ]
  },
  {
   "cell_type": "markdown",
   "metadata": {},
   "source": [
    "# Decoder creation\n",
    "Index file from web, to check Ids, names, coordinates etc... is outdated. Ids do not change, but as the stations may change over time, it is important to have an updated list. With Station file is possible to obtain it. I dont think is necessary to keep it it in the main table of Stations, because is repeated information.\n",
    "\n",
    "It is not necessary to repeat this operation in a daily routine. Everytime a new station file is available would be the best. With savedecoderList() all files are concatenate, and obtain the info of ID, Address, Longitude and Latitude that is saved in ../DataFrame/DatosEstaticos.txt"
   ]
  },
  {
   "cell_type": "code",
   "execution_count": 3,
   "metadata": {
    "tags": []
   },
   "outputs": [
    {
     "output_type": "stream",
     "name": "stdout",
     "text": "1\n['201907.pkl', '201908.pkl', '201909.pkl', '201910.pkl', '201911.pkl', '201912.pkl', '202001.pkl', '202002.pkl', '202003.pkl', '202004.pkl', '202005.pkl', '202006_stations.pkl', 'Bicimad_Estacions_201808.pkl', 'Bicimad_Estacions_201809.pkl', 'Bicimad_Estacions_201810.pkl', 'Bicimad_Stations_201811.pkl', 'Bicimad_Stations_201812.pkl', 'Bicimad_Stations_201901.pkl', 'Bicimad_Stations_201902.pkl', 'Bicimad_Stations_201903.pkl', 'Bicimad_Stations_201904.pkl', 'Bicimad_Stations_201905.pkl', 'Bicimad_Stations_201906.pkl']\nConcatenado\n"
    }
   ],
   "source": [
    "Stations.SaveDecoderList()\n",
    "Estaciones = pd.read_csv(\"../DataFrames/DatosEstaticos.txt\", encoding=\"latin1\")\n"
   ]
  },
  {
   "cell_type": "markdown",
   "metadata": {},
   "source": [
    "# Add info for cluster stations"
   ]
  },
  {
   "cell_type": "code",
   "execution_count": 4,
   "metadata": {},
   "outputs": [],
   "source": [
    "import geopandas\n",
    "from shapely.geometry import Point, Polygon"
   ]
  },
  {
   "cell_type": "code",
   "execution_count": 5,
   "metadata": {},
   "outputs": [],
   "source": [
    "def checkRegionId(Punto):\n",
    "    for i in range(0, len(df)):\n",
    "        if Punto.within(df.iloc[i].geometry):\n",
    "            return df.iloc[i][\"cartodb_id\"]\n",
    "    return \"Not Found\"\n",
    "\n",
    "def checkRegionName(Punto):\n",
    "    for i in range(0, len(df)):\n",
    "        if Punto.within(df.iloc[i].geometry):\n",
    "            return df.iloc[i][\"name\"]\n",
    "    return \"Not Found\"\n",
    "\n",
    "\n"
   ]
  },
  {
   "cell_type": "markdown",
   "metadata": {},
   "source": [
    "# by Districts"
   ]
  },
  {
   "cell_type": "code",
   "execution_count": 6,
   "metadata": {},
   "outputs": [
    {
     "output_type": "execute_result",
     "data": {
      "text/plain": "         name  cartodb_id           created_at           updated_at  \\\n0      Centro           1  2013-12-02T07:20:26  2013-12-02T07:20:26   \n1  Arganzuela           2  2013-12-02T07:20:26  2013-12-02T07:20:26   \n2      Retiro           3  2013-12-02T07:20:26  2013-12-02T07:20:26   \n3   Salamanca           4  2013-12-02T07:20:26  2013-12-02T07:20:26   \n4   Chamartin           5  2013-12-02T07:20:26  2013-12-02T07:20:26   \n\n                                            geometry  \n0  MULTIPOLYGON (((-3.69185 40.40853, -3.69189 40...  \n1  MULTIPOLYGON (((-3.70258 40.40638, -3.70166 40...  \n2  MULTIPOLYGON (((-3.66279 40.40971, -3.66384 40...  \n3  MULTIPOLYGON (((-3.65809 40.43945, -3.65828 40...  \n4  MULTIPOLYGON (((-3.67231 40.48388, -3.67237 40...  ",
      "text/html": "<div>\n<style scoped>\n    .dataframe tbody tr th:only-of-type {\n        vertical-align: middle;\n    }\n\n    .dataframe tbody tr th {\n        vertical-align: top;\n    }\n\n    .dataframe thead th {\n        text-align: right;\n    }\n</style>\n<table border=\"1\" class=\"dataframe\">\n  <thead>\n    <tr style=\"text-align: right;\">\n      <th></th>\n      <th>name</th>\n      <th>cartodb_id</th>\n      <th>created_at</th>\n      <th>updated_at</th>\n      <th>geometry</th>\n    </tr>\n  </thead>\n  <tbody>\n    <tr>\n      <th>0</th>\n      <td>Centro</td>\n      <td>1</td>\n      <td>2013-12-02T07:20:26</td>\n      <td>2013-12-02T07:20:26</td>\n      <td>MULTIPOLYGON (((-3.69185 40.40853, -3.69189 40...</td>\n    </tr>\n    <tr>\n      <th>1</th>\n      <td>Arganzuela</td>\n      <td>2</td>\n      <td>2013-12-02T07:20:26</td>\n      <td>2013-12-02T07:20:26</td>\n      <td>MULTIPOLYGON (((-3.70258 40.40638, -3.70166 40...</td>\n    </tr>\n    <tr>\n      <th>2</th>\n      <td>Retiro</td>\n      <td>3</td>\n      <td>2013-12-02T07:20:26</td>\n      <td>2013-12-02T07:20:26</td>\n      <td>MULTIPOLYGON (((-3.66279 40.40971, -3.66384 40...</td>\n    </tr>\n    <tr>\n      <th>3</th>\n      <td>Salamanca</td>\n      <td>4</td>\n      <td>2013-12-02T07:20:26</td>\n      <td>2013-12-02T07:20:26</td>\n      <td>MULTIPOLYGON (((-3.65809 40.43945, -3.65828 40...</td>\n    </tr>\n    <tr>\n      <th>4</th>\n      <td>Chamartin</td>\n      <td>5</td>\n      <td>2013-12-02T07:20:26</td>\n      <td>2013-12-02T07:20:26</td>\n      <td>MULTIPOLYGON (((-3.67231 40.48388, -3.67237 40...</td>\n    </tr>\n  </tbody>\n</table>\n</div>"
     },
     "metadata": {},
     "execution_count": 6
    }
   ],
   "source": [
    "url = \"https://raw.githubusercontent.com/codeforamerica/click_that_hood/master/public/data/madrid-districts.geojson\"\n",
    "df = geopandas.read_file(url)\n",
    "df.head()"
   ]
  },
  {
   "cell_type": "code",
   "execution_count": 7,
   "metadata": {},
   "outputs": [],
   "source": [
    "Estaciones[\"DistritoId\"] = Estaciones['Longitude'].combine(Estaciones['Latitude'], lambda x1, x2:Point(x1,x2)).apply(lambda x: checkRegionId(x))\n",
    "Estaciones[\"DistritoName\"] = Estaciones['Longitude'].combine(Estaciones['Latitude'], lambda x1, x2:Point(x1,x2)).apply(lambda x: checkRegionName(x))"
   ]
  },
  {
   "cell_type": "code",
   "execution_count": 8,
   "metadata": {},
   "outputs": [
    {
     "output_type": "display_data",
     "data": {
      "application/vnd.plotly.v1+json": {
       "config": {
        "plotlyServerURL": "https://plot.ly"
       },
       "data": [
        {
         "lat": [
          40.4168961,
          40.4170009,
          40.4205886,
          40.4302937,
          40.4285524,
          40.428528,
          40.424147999999995,
          40.4251906,
          40.427868200000006,
          40.4156057,
          40.4250863,
          40.42694829999999,
          40.42842460000001,
          40.4273264,
          40.426095700000005,
          40.426164899999996,
          40.4230721,
          40.4232649,
          40.4207773,
          40.42186160000001,
          40.4192342,
          40.4197872,
          40.419720399999996,
          40.4200783,
          40.4197429,
          40.417908000000004,
          40.4173114,
          40.417278100000004,
          40.423854999999996,
          40.4132798,
          40.418166299999996,
          40.4162619,
          40.419209499999994,
          40.4163638,
          40.4150099,
          40.4157138,
          40.4146755,
          40.414193100000006,
          40.4167281,
          40.41084420000001,
          40.4110406,
          40.4112744,
          40.4138846,
          40.412204700000004,
          40.410708500000005,
          40.4101564,
          40.409761700000004,
          40.407035799999996,
          40.4053153,
          40.404785100000005,
          40.405610700000004,
          40.4060941,
          40.4083684,
          40.407560600000004,
          40.4144226,
          40.4089282,
          40.426682799999995,
          40.42397570000001,
          40.4184192,
          40.4295658,
          40.4222862,
          40.4255495,
          40.419752,
          40.42139829999999,
          40.4213148,
          40.4179237,
          40.416560499999996,
          40.4108472,
          40.412837200000006,
          40.409808,
          40.41530529999999,
          40.4159569,
          40.41574129999999,
          40.411447499999994,
          40.411762700000004,
          40.4082805,
          40.407672600000005,
          40.40635,
          40.400910100000004,
          40.4051451,
          40.4075685,
          40.4074902,
          40.409296999999995,
          40.4084556,
          40.4130243,
          40.4032501,
          40.421501,
          40.4186148,
          40.427735999999996,
          40.4313576,
          40.427258200000004,
          40.4250361,
          40.426134000000005,
          40.4262945,
          40.4257046,
          40.422699,
          40.422658399999996,
          40.422064,
          40.4226906,
          40.4242625,
          40.426185100000005,
          40.424845700000006,
          40.4231526,
          40.4211802,
          40.430305700000005,
          40.4268331,
          40.4267905,
          40.4251002,
          40.424963,
          40.421524600000005,
          40.4273005,
          40.4300481,
          40.4344969,
          40.4337322,
          40.4337036,
          40.432599100000004,
          40.427657,
          40.4277456,
          40.425394399999995,
          40.42402,
          40.42412,
          40.4309797,
          40.400781,
          40.4013216,
          40.4032208,
          40.4017926,
          40.4295863,
          40.4306458,
          40.4220812,
          40.4034076,
          40.4035988,
          40.3919385,
          40.39726160000001,
          40.4591366,
          40.458531799999996,
          40.4572824,
          40.4592351,
          40.4548456,
          40.4527164,
          40.4522938,
          40.4510188,
          40.4480662,
          40.449861299999995,
          40.4488924,
          40.4483269,
          40.4463667,
          40.447125,
          40.4453307,
          40.445411,
          40.4440297,
          40.445741399999996,
          40.4442258,
          40.4412115,
          40.441386,
          40.4415974,
          40.4396792,
          40.438994,
          40.4385316,
          40.4379444,
          40.434473100000005,
          40.435285,
          40.4355143,
          40.4345973,
          40.43340870000001,
          40.4338516,
          40.430952399999995,
          40.4323655,
          40.429887,
          40.457246600000005,
          40.454385200000004,
          40.4138333,
          40.413736,
          40.4044722,
          40.401611100000004,
          40.400999999999996,
          40.39975,
          40.4008888,
          40.398179799999994,
          40.3974444,
          40.396222200000004,
          40.39425,
          40.3914722,
          40.4017222,
          40.3979722,
          40.3941388,
          40.41825,
          40.4186666,
          40.425635,
          40.426,
          40.4250833,
          40.4290555,
          40.4301666,
          40.431194399999995,
          40.4350277,
          40.4343333,
          40.434638799999995,
          40.431861100000006,
          40.4324722,
          40.43725,
          40.4392222,
          40.4441388,
          40.451583299999996,
          40.433111100000005,
          40.434361100000004,
          40.43369439999999,
          40.438694399999996,
          40.4411388,
          40.44175,
          40.447666600000005,
          40.4535,
          40.46075020000001,
          40.4630277,
          40.4663611,
          40.4659166,
          40.419674,
          40.4206389,
          40.398247
         ],
         "lon": [
          -3.7024255,
          -3.7024207000000002,
          -3.7058415,
          -3.7069171,
          -3.7025875,
          -3.7020599,
          -3.6984470000000003,
          -3.6977714999999995,
          -3.6954403,
          -3.7095084000000003,
          -3.6918807,
          -3.7035918,
          -3.7061931000000006,
          -3.7104417,
          -3.713479,
          -3.7073763999999994,
          -3.7075065,
          -3.7038312000000007,
          -3.6996502,
          -3.6954983,
          -3.6954615,
          -3.7014814,
          -3.7015235,
          -3.7065376000000003,
          -3.7080733,
          -3.710692,
          -3.7064809000000003,
          -3.7063837,
          -3.694475,
          -3.6956178,
          -3.6992599999999998,
          -3.6957355000000005,
          -3.711504,
          -3.7068969,
          -3.7061032,
          -3.7031807999999997,
          -3.7036824999999998,
          -3.7103285,
          -3.7124038,
          -3.7144964,
          -3.7120733999999995,
          -3.7088337,
          -3.7049407,
          -3.6991147000000004,
          -3.6982318,
          -3.7025023999999997,
          -3.7040665999999995,
          -3.7110513,
          -3.7071259,
          -3.7028265,
          -3.7022591,
          -3.6992759,
          -3.6933462999999995,
          -3.6935205,
          -3.7007163999999997,
          -3.7008803,
          -3.7004230000000002,
          -3.7020842000000003,
          -3.7032413999999996,
          -3.7126299,
          -3.6978949999999995,
          -3.7043418,
          -3.6883980000000003,
          -3.6752045,
          -3.6724968000000002,
          -3.6708959,
          -3.6904525,
          -3.693225,
          -3.6912023,
          -3.688822,
          -3.6779232000000004,
          -3.6738864999999996,
          -3.6691837999999994,
          -3.6689089,
          -3.6766812999999994,
          -3.6784837999999995,
          -3.6750121,
          -3.6704220000000003,
          -3.6744803999999998,
          -3.6803873999999994,
          -3.6902255,
          -3.6901233999999996,
          -3.691987,
          -3.6697526,
          -3.6751105,
          -3.6726019,
          -3.6800080000000004,
          -3.6926217000000006,
          -3.6832566,
          -3.6838303,
          -3.6752024,
          -3.6837876000000005,
          -3.6787441,
          -3.6865463,
          -3.6893697999999997,
          -3.6909648,
          -3.6870547999999994,
          -3.6821792999999996,
          -3.6801307,
          -3.6753567000000005,
          -3.6738714,
          -3.6738635000000004,
          -3.6691523,
          -3.6840229,
          -3.6865654,
          -3.6895336000000003,
          -3.6873921999999997,
          -3.6877226999999997,
          -3.6877449999999996,
          -3.6884368999999997,
          -3.6706024,
          -3.6816402000000004,
          -3.7206892999999996,
          -3.7175434999999997,
          -3.7175114999999996,
          -3.7246532,
          -3.7205129,
          -3.7174157999999995,
          -3.7170447999999996,
          -3.7116029999999998,
          -3.711703,
          -3.7188898,
          -3.6882406999999997,
          -3.6863218,
          -3.6944767999999995,
          -3.6987665,
          -3.6963983,
          -3.7133412000000003,
          -3.7218482,
          -3.7108108,
          -3.7064516000000003,
          -3.6971828999999996,
          -3.6945025,
          -3.6894150999999997,
          -3.684715,
          -3.7009675000000004,
          -3.691533,
          -3.6946218,
          -3.6990077000000006,
          -3.692651,
          -3.6817962,
          -3.695286,
          -3.6881689,
          -3.6905604,
          -3.6797296000000004,
          -3.7036675000000003,
          -3.7001669,
          -3.690861,
          -3.6853312000000007,
          -3.6956047,
          -3.6917932,
          -3.6787169,
          -3.7039582,
          -3.7016321000000003,
          -3.6927821000000005,
          -3.6907784,
          -3.7154328999999997,
          -3.6982209000000004,
          -3.682862,
          -3.7015686000000003,
          -3.6948626000000004,
          -3.6892367999999993,
          -3.678492,
          -3.6879154,
          -3.708439,
          -3.6993465,
          -3.6758555,
          -3.6712822999999997,
          -3.6763439,
          -3.6835926,
          -3.7135833,
          -3.717487,
          -3.6959166,
          -3.7138055,
          -3.7043611000000003,
          -3.6983888,
          -3.6935833,
          -3.7045805,
          -3.7065277,
          -3.6983055,
          -3.6937222000000003,
          -3.6941943999999998,
          -3.6783055,
          -3.66925,
          -3.6758888,
          -3.6766111000000006,
          -3.6657777,
          -3.669339,
          -3.6653055,
          -3.6615277,
          -3.6782777,
          -3.6638888,
          -3.6590555,
          -3.6555277000000004,
          -3.6835833,
          -3.674,
          -3.6714165999999997,
          -3.6655555,
          -3.6772222,
          -3.6754443999999995,
          -3.6751388,
          -3.6780555,
          -3.6915555,
          -3.7149165999999996,
          -3.7046666,
          -3.7038333,
          -3.7080832999999997,
          -3.7144722000000003,
          -3.7041665999999998,
          -3.7032777,
          -3.6989925,
          -3.6973333,
          -3.6886388,
          -3.6884722,
          -3.7026735,
          -3.7047165,
          -3.716591
         ],
         "marker": {
          "color": [
           1,
           1,
           1,
           1,
           1,
           1,
           1,
           1,
           1,
           1,
           1,
           1,
           1,
           1,
           9,
           1,
           1,
           1,
           1,
           1,
           1,
           1,
           1,
           1,
           1,
           1,
           1,
           1,
           1,
           1,
           1,
           1,
           1,
           1,
           1,
           1,
           1,
           1,
           1,
           1,
           1,
           1,
           1,
           1,
           1,
           1,
           1,
           2,
           2,
           2,
           2,
           2,
           1,
           2,
           1,
           1,
           1,
           1,
           1,
           1,
           1,
           1,
           3,
           3,
           3,
           3,
           3,
           1,
           3,
           3,
           3,
           3,
           3,
           3,
           3,
           3,
           3,
           3,
           3,
           3,
           2,
           2,
           1,
           3,
           3,
           3,
           3,
           1,
           4,
           4,
           4,
           4,
           4,
           4,
           4,
           1,
           4,
           3,
           4,
           4,
           4,
           4,
           4,
           3,
           4,
           7,
           4,
           4,
           4,
           4,
           4,
           4,
           9,
           9,
           9,
           9,
           9,
           9,
           9,
           9,
           9,
           9,
           2,
           2,
           2,
           2,
           7,
           1,
           9,
           2,
           2,
           2,
           2,
           6,
           5,
           6,
           6,
           6,
           6,
           6,
           5,
           6,
           5,
           6,
           5,
           7,
           7,
           7,
           5,
           7,
           7,
           5,
           7,
           7,
           7,
           7,
           7,
           7,
           4,
           7,
           7,
           7,
           4,
           7,
           7,
           7,
           4,
           4,
           5,
           5,
           1,
           2,
           2,
           2,
           2,
           2,
           2,
           2,
           2,
           2,
           2,
           2,
           2,
           13,
           2,
           3,
           3,
           4,
           4,
           4,
           4,
           4,
           15,
           15,
           4,
           4,
           4,
           4,
           4,
           5,
           5,
           5,
           7,
           7,
           7,
           7,
           7,
           7,
           7,
           6,
           6,
           6,
           6,
           6,
           1,
           1,
           11
          ],
          "colorscale": [
           [
            0,
            "#636EFA"
           ],
           [
            0.1111111111111111,
            "#EF553B"
           ],
           [
            0.2222222222222222,
            "#00CC96"
           ],
           [
            0.3333333333333333,
            "#AB63FA"
           ],
           [
            0.4444444444444444,
            "#FFA15A"
           ],
           [
            0.5555555555555556,
            "#19D3F3"
           ],
           [
            0.6666666666666666,
            "#FF6692"
           ],
           [
            0.7777777777777778,
            "#B6E880"
           ],
           [
            0.8888888888888888,
            "#FF97FF"
           ],
           [
            1,
            "#FECB52"
           ]
          ],
          "showscale": true
         },
         "mode": "markers",
         "text": [
          "Centro",
          "Centro",
          "Centro",
          "Centro",
          "Centro",
          "Centro",
          "Centro",
          "Centro",
          "Centro",
          "Centro",
          "Centro",
          "Centro",
          "Centro",
          "Centro",
          "Moncloa-Aravaca",
          "Centro",
          "Centro",
          "Centro",
          "Centro",
          "Centro",
          "Centro",
          "Centro",
          "Centro",
          "Centro",
          "Centro",
          "Centro",
          "Centro",
          "Centro",
          "Centro",
          "Centro",
          "Centro",
          "Centro",
          "Centro",
          "Centro",
          "Centro",
          "Centro",
          "Centro",
          "Centro",
          "Centro",
          "Centro",
          "Centro",
          "Centro",
          "Centro",
          "Centro",
          "Centro",
          "Centro",
          "Centro",
          "Arganzuela",
          "Arganzuela",
          "Arganzuela",
          "Arganzuela",
          "Arganzuela",
          "Centro",
          "Arganzuela",
          "Centro",
          "Centro",
          "Centro",
          "Centro",
          "Centro",
          "Centro",
          "Centro",
          "Centro",
          "Retiro",
          "Retiro",
          "Retiro",
          "Retiro",
          "Retiro",
          "Centro",
          "Retiro",
          "Retiro",
          "Retiro",
          "Retiro",
          "Retiro",
          "Retiro",
          "Retiro",
          "Retiro",
          "Retiro",
          "Retiro",
          "Retiro",
          "Retiro",
          "Arganzuela",
          "Arganzuela",
          "Centro",
          "Retiro",
          "Retiro",
          "Retiro",
          "Retiro",
          "Centro",
          "Salamanca",
          "Salamanca",
          "Salamanca",
          "Salamanca",
          "Salamanca",
          "Salamanca",
          "Salamanca",
          "Centro",
          "Salamanca",
          "Retiro",
          "Salamanca",
          "Salamanca",
          "Salamanca",
          "Salamanca",
          "Salamanca",
          "Retiro",
          "Salamanca",
          "Chamberi",
          "Salamanca",
          "Salamanca",
          "Salamanca",
          "Salamanca",
          "Salamanca",
          "Salamanca",
          "Moncloa-Aravaca",
          "Moncloa-Aravaca",
          "Moncloa-Aravaca",
          "Moncloa-Aravaca",
          "Moncloa-Aravaca",
          "Moncloa-Aravaca",
          "Moncloa-Aravaca",
          "Moncloa-Aravaca",
          "Moncloa-Aravaca",
          "Moncloa-Aravaca",
          "Arganzuela",
          "Arganzuela",
          "Arganzuela",
          "Arganzuela",
          "Chamberi",
          "Centro",
          "Moncloa-Aravaca",
          "Arganzuela",
          "Arganzuela",
          "Arganzuela",
          "Arganzuela",
          "Tetuan",
          "Chamartin",
          "Tetuan",
          "Tetuan",
          "Tetuan",
          "Tetuan",
          "Tetuan",
          "Chamartin",
          "Tetuan",
          "Chamartin",
          "Tetuan",
          "Chamartin",
          "Chamberi",
          "Chamberi",
          "Chamberi",
          "Chamartin",
          "Chamberi",
          "Chamberi",
          "Chamartin",
          "Chamberi",
          "Chamberi",
          "Chamberi",
          "Chamberi",
          "Chamberi",
          "Chamberi",
          "Salamanca",
          "Chamberi",
          "Chamberi",
          "Chamberi",
          "Salamanca",
          "Chamberi",
          "Chamberi",
          "Chamberi",
          "Salamanca",
          "Salamanca",
          "Chamartin",
          "Chamartin",
          "Centro",
          "Arganzuela",
          "Arganzuela",
          "Arganzuela",
          "Arganzuela",
          "Arganzuela",
          "Arganzuela",
          "Arganzuela",
          "Arganzuela",
          "Arganzuela",
          "Arganzuela",
          "Arganzuela",
          "Arganzuela",
          "Puente de Vallecas",
          "Arganzuela",
          "Retiro",
          "Retiro",
          "Salamanca",
          "Salamanca",
          "Salamanca",
          "Salamanca",
          "Salamanca",
          "Ciudad Lineal",
          "Ciudad Lineal",
          "Salamanca",
          "Salamanca",
          "Salamanca",
          "Salamanca",
          "Salamanca",
          "Chamartin",
          "Chamartin",
          "Chamartin",
          "Chamberi",
          "Chamberi",
          "Chamberi",
          "Chamberi",
          "Chamberi",
          "Chamberi",
          "Chamberi",
          "Tetuan",
          "Tetuan",
          "Tetuan",
          "Tetuan",
          "Tetuan",
          "Centro",
          "Centro",
          "Carabanchel"
         ],
         "type": "scattermapbox"
        }
       ],
       "layout": {
        "autosize": true,
        "height": 500,
        "hovermode": "closest",
        "mapbox": {
         "accesstoken": "pk.eyJ1IjoiamJlbml0b2wiLCJhIjoiY2tkZW92bnNyMDBmeTJ5cXBmcXNxanFxOCJ9.PDhf4kysLJ7TFJZAEjT8wA",
         "bearing": 0,
         "center": {
          "lat": 40.4168961,
          "lon": -3.7024255
         },
         "pitch": 0,
         "zoom": 10
        },
        "margin": {
         "b": 50,
         "l": 50,
         "r": 0,
         "t": 50
        },
        "template": {
         "data": {
          "bar": [
           {
            "error_x": {
             "color": "#2a3f5f"
            },
            "error_y": {
             "color": "#2a3f5f"
            },
            "marker": {
             "line": {
              "color": "#E5ECF6",
              "width": 0.5
             }
            },
            "type": "bar"
           }
          ],
          "barpolar": [
           {
            "marker": {
             "line": {
              "color": "#E5ECF6",
              "width": 0.5
             }
            },
            "type": "barpolar"
           }
          ],
          "carpet": [
           {
            "aaxis": {
             "endlinecolor": "#2a3f5f",
             "gridcolor": "white",
             "linecolor": "white",
             "minorgridcolor": "white",
             "startlinecolor": "#2a3f5f"
            },
            "baxis": {
             "endlinecolor": "#2a3f5f",
             "gridcolor": "white",
             "linecolor": "white",
             "minorgridcolor": "white",
             "startlinecolor": "#2a3f5f"
            },
            "type": "carpet"
           }
          ],
          "choropleth": [
           {
            "colorbar": {
             "outlinewidth": 0,
             "ticks": ""
            },
            "type": "choropleth"
           }
          ],
          "contour": [
           {
            "colorbar": {
             "outlinewidth": 0,
             "ticks": ""
            },
            "colorscale": [
             [
              0,
              "#0d0887"
             ],
             [
              0.1111111111111111,
              "#46039f"
             ],
             [
              0.2222222222222222,
              "#7201a8"
             ],
             [
              0.3333333333333333,
              "#9c179e"
             ],
             [
              0.4444444444444444,
              "#bd3786"
             ],
             [
              0.5555555555555556,
              "#d8576b"
             ],
             [
              0.6666666666666666,
              "#ed7953"
             ],
             [
              0.7777777777777778,
              "#fb9f3a"
             ],
             [
              0.8888888888888888,
              "#fdca26"
             ],
             [
              1,
              "#f0f921"
             ]
            ],
            "type": "contour"
           }
          ],
          "contourcarpet": [
           {
            "colorbar": {
             "outlinewidth": 0,
             "ticks": ""
            },
            "type": "contourcarpet"
           }
          ],
          "heatmap": [
           {
            "colorbar": {
             "outlinewidth": 0,
             "ticks": ""
            },
            "colorscale": [
             [
              0,
              "#0d0887"
             ],
             [
              0.1111111111111111,
              "#46039f"
             ],
             [
              0.2222222222222222,
              "#7201a8"
             ],
             [
              0.3333333333333333,
              "#9c179e"
             ],
             [
              0.4444444444444444,
              "#bd3786"
             ],
             [
              0.5555555555555556,
              "#d8576b"
             ],
             [
              0.6666666666666666,
              "#ed7953"
             ],
             [
              0.7777777777777778,
              "#fb9f3a"
             ],
             [
              0.8888888888888888,
              "#fdca26"
             ],
             [
              1,
              "#f0f921"
             ]
            ],
            "type": "heatmap"
           }
          ],
          "heatmapgl": [
           {
            "colorbar": {
             "outlinewidth": 0,
             "ticks": ""
            },
            "colorscale": [
             [
              0,
              "#0d0887"
             ],
             [
              0.1111111111111111,
              "#46039f"
             ],
             [
              0.2222222222222222,
              "#7201a8"
             ],
             [
              0.3333333333333333,
              "#9c179e"
             ],
             [
              0.4444444444444444,
              "#bd3786"
             ],
             [
              0.5555555555555556,
              "#d8576b"
             ],
             [
              0.6666666666666666,
              "#ed7953"
             ],
             [
              0.7777777777777778,
              "#fb9f3a"
             ],
             [
              0.8888888888888888,
              "#fdca26"
             ],
             [
              1,
              "#f0f921"
             ]
            ],
            "type": "heatmapgl"
           }
          ],
          "histogram": [
           {
            "marker": {
             "colorbar": {
              "outlinewidth": 0,
              "ticks": ""
             }
            },
            "type": "histogram"
           }
          ],
          "histogram2d": [
           {
            "colorbar": {
             "outlinewidth": 0,
             "ticks": ""
            },
            "colorscale": [
             [
              0,
              "#0d0887"
             ],
             [
              0.1111111111111111,
              "#46039f"
             ],
             [
              0.2222222222222222,
              "#7201a8"
             ],
             [
              0.3333333333333333,
              "#9c179e"
             ],
             [
              0.4444444444444444,
              "#bd3786"
             ],
             [
              0.5555555555555556,
              "#d8576b"
             ],
             [
              0.6666666666666666,
              "#ed7953"
             ],
             [
              0.7777777777777778,
              "#fb9f3a"
             ],
             [
              0.8888888888888888,
              "#fdca26"
             ],
             [
              1,
              "#f0f921"
             ]
            ],
            "type": "histogram2d"
           }
          ],
          "histogram2dcontour": [
           {
            "colorbar": {
             "outlinewidth": 0,
             "ticks": ""
            },
            "colorscale": [
             [
              0,
              "#0d0887"
             ],
             [
              0.1111111111111111,
              "#46039f"
             ],
             [
              0.2222222222222222,
              "#7201a8"
             ],
             [
              0.3333333333333333,
              "#9c179e"
             ],
             [
              0.4444444444444444,
              "#bd3786"
             ],
             [
              0.5555555555555556,
              "#d8576b"
             ],
             [
              0.6666666666666666,
              "#ed7953"
             ],
             [
              0.7777777777777778,
              "#fb9f3a"
             ],
             [
              0.8888888888888888,
              "#fdca26"
             ],
             [
              1,
              "#f0f921"
             ]
            ],
            "type": "histogram2dcontour"
           }
          ],
          "mesh3d": [
           {
            "colorbar": {
             "outlinewidth": 0,
             "ticks": ""
            },
            "type": "mesh3d"
           }
          ],
          "parcoords": [
           {
            "line": {
             "colorbar": {
              "outlinewidth": 0,
              "ticks": ""
             }
            },
            "type": "parcoords"
           }
          ],
          "pie": [
           {
            "automargin": true,
            "type": "pie"
           }
          ],
          "scatter": [
           {
            "marker": {
             "colorbar": {
              "outlinewidth": 0,
              "ticks": ""
             }
            },
            "type": "scatter"
           }
          ],
          "scatter3d": [
           {
            "line": {
             "colorbar": {
              "outlinewidth": 0,
              "ticks": ""
             }
            },
            "marker": {
             "colorbar": {
              "outlinewidth": 0,
              "ticks": ""
             }
            },
            "type": "scatter3d"
           }
          ],
          "scattercarpet": [
           {
            "marker": {
             "colorbar": {
              "outlinewidth": 0,
              "ticks": ""
             }
            },
            "type": "scattercarpet"
           }
          ],
          "scattergeo": [
           {
            "marker": {
             "colorbar": {
              "outlinewidth": 0,
              "ticks": ""
             }
            },
            "type": "scattergeo"
           }
          ],
          "scattergl": [
           {
            "marker": {
             "colorbar": {
              "outlinewidth": 0,
              "ticks": ""
             }
            },
            "type": "scattergl"
           }
          ],
          "scattermapbox": [
           {
            "marker": {
             "colorbar": {
              "outlinewidth": 0,
              "ticks": ""
             }
            },
            "type": "scattermapbox"
           }
          ],
          "scatterpolar": [
           {
            "marker": {
             "colorbar": {
              "outlinewidth": 0,
              "ticks": ""
             }
            },
            "type": "scatterpolar"
           }
          ],
          "scatterpolargl": [
           {
            "marker": {
             "colorbar": {
              "outlinewidth": 0,
              "ticks": ""
             }
            },
            "type": "scatterpolargl"
           }
          ],
          "scatterternary": [
           {
            "marker": {
             "colorbar": {
              "outlinewidth": 0,
              "ticks": ""
             }
            },
            "type": "scatterternary"
           }
          ],
          "surface": [
           {
            "colorbar": {
             "outlinewidth": 0,
             "ticks": ""
            },
            "colorscale": [
             [
              0,
              "#0d0887"
             ],
             [
              0.1111111111111111,
              "#46039f"
             ],
             [
              0.2222222222222222,
              "#7201a8"
             ],
             [
              0.3333333333333333,
              "#9c179e"
             ],
             [
              0.4444444444444444,
              "#bd3786"
             ],
             [
              0.5555555555555556,
              "#d8576b"
             ],
             [
              0.6666666666666666,
              "#ed7953"
             ],
             [
              0.7777777777777778,
              "#fb9f3a"
             ],
             [
              0.8888888888888888,
              "#fdca26"
             ],
             [
              1,
              "#f0f921"
             ]
            ],
            "type": "surface"
           }
          ],
          "table": [
           {
            "cells": {
             "fill": {
              "color": "#EBF0F8"
             },
             "line": {
              "color": "white"
             }
            },
            "header": {
             "fill": {
              "color": "#C8D4E3"
             },
             "line": {
              "color": "white"
             }
            },
            "type": "table"
           }
          ]
         },
         "layout": {
          "annotationdefaults": {
           "arrowcolor": "#2a3f5f",
           "arrowhead": 0,
           "arrowwidth": 1
          },
          "coloraxis": {
           "colorbar": {
            "outlinewidth": 0,
            "ticks": ""
           }
          },
          "colorscale": {
           "diverging": [
            [
             0,
             "#8e0152"
            ],
            [
             0.1,
             "#c51b7d"
            ],
            [
             0.2,
             "#de77ae"
            ],
            [
             0.3,
             "#f1b6da"
            ],
            [
             0.4,
             "#fde0ef"
            ],
            [
             0.5,
             "#f7f7f7"
            ],
            [
             0.6,
             "#e6f5d0"
            ],
            [
             0.7,
             "#b8e186"
            ],
            [
             0.8,
             "#7fbc41"
            ],
            [
             0.9,
             "#4d9221"
            ],
            [
             1,
             "#276419"
            ]
           ],
           "sequential": [
            [
             0,
             "#0d0887"
            ],
            [
             0.1111111111111111,
             "#46039f"
            ],
            [
             0.2222222222222222,
             "#7201a8"
            ],
            [
             0.3333333333333333,
             "#9c179e"
            ],
            [
             0.4444444444444444,
             "#bd3786"
            ],
            [
             0.5555555555555556,
             "#d8576b"
            ],
            [
             0.6666666666666666,
             "#ed7953"
            ],
            [
             0.7777777777777778,
             "#fb9f3a"
            ],
            [
             0.8888888888888888,
             "#fdca26"
            ],
            [
             1,
             "#f0f921"
            ]
           ],
           "sequentialminus": [
            [
             0,
             "#0d0887"
            ],
            [
             0.1111111111111111,
             "#46039f"
            ],
            [
             0.2222222222222222,
             "#7201a8"
            ],
            [
             0.3333333333333333,
             "#9c179e"
            ],
            [
             0.4444444444444444,
             "#bd3786"
            ],
            [
             0.5555555555555556,
             "#d8576b"
            ],
            [
             0.6666666666666666,
             "#ed7953"
            ],
            [
             0.7777777777777778,
             "#fb9f3a"
            ],
            [
             0.8888888888888888,
             "#fdca26"
            ],
            [
             1,
             "#f0f921"
            ]
           ]
          },
          "colorway": [
           "#636efa",
           "#EF553B",
           "#00cc96",
           "#ab63fa",
           "#FFA15A",
           "#19d3f3",
           "#FF6692",
           "#B6E880",
           "#FF97FF",
           "#FECB52"
          ],
          "font": {
           "color": "#2a3f5f"
          },
          "geo": {
           "bgcolor": "white",
           "lakecolor": "white",
           "landcolor": "#E5ECF6",
           "showlakes": true,
           "showland": true,
           "subunitcolor": "white"
          },
          "hoverlabel": {
           "align": "left"
          },
          "hovermode": "closest",
          "mapbox": {
           "style": "light"
          },
          "paper_bgcolor": "white",
          "plot_bgcolor": "#E5ECF6",
          "polar": {
           "angularaxis": {
            "gridcolor": "white",
            "linecolor": "white",
            "ticks": ""
           },
           "bgcolor": "#E5ECF6",
           "radialaxis": {
            "gridcolor": "white",
            "linecolor": "white",
            "ticks": ""
           }
          },
          "scene": {
           "xaxis": {
            "backgroundcolor": "#E5ECF6",
            "gridcolor": "white",
            "gridwidth": 2,
            "linecolor": "white",
            "showbackground": true,
            "ticks": "",
            "zerolinecolor": "white"
           },
           "yaxis": {
            "backgroundcolor": "#E5ECF6",
            "gridcolor": "white",
            "gridwidth": 2,
            "linecolor": "white",
            "showbackground": true,
            "ticks": "",
            "zerolinecolor": "white"
           },
           "zaxis": {
            "backgroundcolor": "#E5ECF6",
            "gridcolor": "white",
            "gridwidth": 2,
            "linecolor": "white",
            "showbackground": true,
            "ticks": "",
            "zerolinecolor": "white"
           }
          },
          "shapedefaults": {
           "line": {
            "color": "#2a3f5f"
           }
          },
          "ternary": {
           "aaxis": {
            "gridcolor": "white",
            "linecolor": "white",
            "ticks": ""
           },
           "baxis": {
            "gridcolor": "white",
            "linecolor": "white",
            "ticks": ""
           },
           "bgcolor": "#E5ECF6",
           "caxis": {
            "gridcolor": "white",
            "linecolor": "white",
            "ticks": ""
           }
          },
          "title": {
           "x": 0.05
          },
          "xaxis": {
           "automargin": true,
           "gridcolor": "white",
           "linecolor": "white",
           "ticks": "",
           "title": {
            "standoff": 15
           },
           "zerolinecolor": "white",
           "zerolinewidth": 2
          },
          "yaxis": {
           "automargin": true,
           "gridcolor": "white",
           "linecolor": "white",
           "ticks": "",
           "title": {
            "standoff": 15
           },
           "zerolinecolor": "white",
           "zerolinewidth": 2
          }
         }
        },
        "title": {
         "x": 0.5
        },
        "width": 750
       }
      }
     },
     "metadata": {}
    }
   ],
   "source": [
    "import plotly.graph_objects as go\n",
    "import plotly.express as px\n",
    "\n",
    "\n",
    "mapbox_access_token = open(\"mapbox_token\").read()\n",
    "fig = go.Figure(go.Scattermapbox(\n",
    "        lat=Estaciones[\"Latitude\"],\n",
    "        lon=Estaciones[\"Longitude\"],\n",
    "        mode='markers',\n",
    "        marker=go.scattermapbox.Marker(\n",
    "             color= Estaciones[\"DistritoId\"], showscale=True,\n",
    "             colorscale=px.colors.qualitative.Plotly\n",
    "        ),\n",
    "        \n",
    "       text=Estaciones[\"DistritoName\"],\n",
    "        \n",
    "    ))\n",
    "\n",
    "fig.update_layout(\n",
    "    title = dict( \n",
    "        \n",
    "        x=0.5,\n",
    "    ),\n",
    "\n",
    "    autosize=True,\n",
    "    hovermode='closest',\n",
    "    width=750,\n",
    "    height=500,\n",
    "    margin=dict(\n",
    "        l=50,\n",
    "        r=0,\n",
    "        b=50,\n",
    "        t=50\n",
    "        \n",
    "    ),\n",
    "    mapbox=dict(\n",
    "        accesstoken=mapbox_access_token,\n",
    "        bearing=0,\n",
    "        center=dict(\n",
    "            lat=float(Estaciones[\"Latitude\"].iloc[0]),\n",
    "            lon= float(Estaciones[\"Longitude\"].iloc[0])\n",
    "        ),\n",
    "        pitch=0,\n",
    "        zoom=10\n",
    "    ),\n",
    ")\n",
    "\n",
    "fig.show()"
   ]
  },
  {
   "cell_type": "markdown",
   "metadata": {},
   "source": [
    "# by Barrios"
   ]
  },
  {
   "cell_type": "code",
   "execution_count": 9,
   "metadata": {},
   "outputs": [],
   "source": [
    "url = \"https://raw.githubusercontent.com/codeforamerica/click_that_hood/master/public/data/madrid.geojson\"\n",
    "df = geopandas.read_file(url)\n",
    "Estaciones[\"BarrioId\"] = Estaciones['Longitude'].combine(Estaciones['Latitude'], lambda x1, x2:Point(x1,x2)).apply(lambda x: checkRegionId(x))\n",
    "Estaciones[\"BarrioName\"] = Estaciones['Longitude'].combine(Estaciones['Latitude'], lambda x1, x2:Point(x1,x2)).apply(lambda x: checkRegionName(x))"
   ]
  },
  {
   "cell_type": "code",
   "execution_count": 11,
   "metadata": {},
   "outputs": [
    {
     "output_type": "display_data",
     "data": {
      "application/vnd.plotly.v1+json": {
       "config": {
        "plotlyServerURL": "https://plot.ly"
       },
       "data": [
        {
         "lat": [
          40.4168961,
          40.4170009,
          40.4205886,
          40.4302937,
          40.4285524,
          40.428528,
          40.424147999999995,
          40.4251906,
          40.427868200000006,
          40.4156057,
          40.4250863,
          40.42694829999999,
          40.42842460000001,
          40.4273264,
          40.426095700000005,
          40.426164899999996,
          40.4230721,
          40.4232649,
          40.4207773,
          40.42186160000001,
          40.4192342,
          40.4197872,
          40.419720399999996,
          40.4200783,
          40.4197429,
          40.417908000000004,
          40.4173114,
          40.417278100000004,
          40.423854999999996,
          40.4132798,
          40.418166299999996,
          40.4162619,
          40.419209499999994,
          40.4163638,
          40.4150099,
          40.4157138,
          40.4146755,
          40.414193100000006,
          40.4167281,
          40.41084420000001,
          40.4110406,
          40.4112744,
          40.4138846,
          40.412204700000004,
          40.410708500000005,
          40.4101564,
          40.409761700000004,
          40.407035799999996,
          40.4053153,
          40.404785100000005,
          40.405610700000004,
          40.4060941,
          40.4083684,
          40.407560600000004,
          40.4144226,
          40.4089282,
          40.426682799999995,
          40.42397570000001,
          40.4184192,
          40.4295658,
          40.4222862,
          40.4255495,
          40.419752,
          40.42139829999999,
          40.4213148,
          40.4179237,
          40.416560499999996,
          40.4108472,
          40.412837200000006,
          40.409808,
          40.41530529999999,
          40.4159569,
          40.41574129999999,
          40.411447499999994,
          40.411762700000004,
          40.4082805,
          40.407672600000005,
          40.40635,
          40.400910100000004,
          40.4051451,
          40.4075685,
          40.4074902,
          40.409296999999995,
          40.4084556,
          40.4130243,
          40.4032501,
          40.421501,
          40.4186148,
          40.427735999999996,
          40.4313576,
          40.427258200000004,
          40.4250361,
          40.426134000000005,
          40.4262945,
          40.4257046,
          40.422699,
          40.422658399999996,
          40.422064,
          40.4226906,
          40.4242625,
          40.426185100000005,
          40.424845700000006,
          40.4231526,
          40.4211802,
          40.430305700000005,
          40.4268331,
          40.4267905,
          40.4251002,
          40.424963,
          40.421524600000005,
          40.4273005,
          40.4300481,
          40.4344969,
          40.4337322,
          40.4337036,
          40.432599100000004,
          40.427657,
          40.4277456,
          40.425394399999995,
          40.42402,
          40.42412,
          40.4309797,
          40.400781,
          40.4013216,
          40.4032208,
          40.4017926,
          40.4295863,
          40.4306458,
          40.4220812,
          40.4034076,
          40.4035988,
          40.3919385,
          40.39726160000001,
          40.4591366,
          40.458531799999996,
          40.4572824,
          40.4592351,
          40.4548456,
          40.4527164,
          40.4522938,
          40.4510188,
          40.4480662,
          40.449861299999995,
          40.4488924,
          40.4483269,
          40.4463667,
          40.447125,
          40.4453307,
          40.445411,
          40.4440297,
          40.445741399999996,
          40.4442258,
          40.4412115,
          40.441386,
          40.4415974,
          40.4396792,
          40.438994,
          40.4385316,
          40.4379444,
          40.434473100000005,
          40.435285,
          40.4355143,
          40.4345973,
          40.43340870000001,
          40.4338516,
          40.430952399999995,
          40.4323655,
          40.429887,
          40.457246600000005,
          40.454385200000004,
          40.4138333,
          40.413736,
          40.4044722,
          40.401611100000004,
          40.400999999999996,
          40.39975,
          40.4008888,
          40.398179799999994,
          40.3974444,
          40.396222200000004,
          40.39425,
          40.3914722,
          40.4017222,
          40.3979722,
          40.3941388,
          40.41825,
          40.4186666,
          40.425635,
          40.426,
          40.4250833,
          40.4290555,
          40.4301666,
          40.431194399999995,
          40.4350277,
          40.4343333,
          40.434638799999995,
          40.431861100000006,
          40.4324722,
          40.43725,
          40.4392222,
          40.4441388,
          40.451583299999996,
          40.433111100000005,
          40.434361100000004,
          40.43369439999999,
          40.438694399999996,
          40.4411388,
          40.44175,
          40.447666600000005,
          40.4535,
          40.46075020000001,
          40.4630277,
          40.4663611,
          40.4659166,
          40.419674,
          40.4206389,
          40.398247
         ],
         "lon": [
          -3.7024255,
          -3.7024207000000002,
          -3.7058415,
          -3.7069171,
          -3.7025875,
          -3.7020599,
          -3.6984470000000003,
          -3.6977714999999995,
          -3.6954403,
          -3.7095084000000003,
          -3.6918807,
          -3.7035918,
          -3.7061931000000006,
          -3.7104417,
          -3.713479,
          -3.7073763999999994,
          -3.7075065,
          -3.7038312000000007,
          -3.6996502,
          -3.6954983,
          -3.6954615,
          -3.7014814,
          -3.7015235,
          -3.7065376000000003,
          -3.7080733,
          -3.710692,
          -3.7064809000000003,
          -3.7063837,
          -3.694475,
          -3.6956178,
          -3.6992599999999998,
          -3.6957355000000005,
          -3.711504,
          -3.7068969,
          -3.7061032,
          -3.7031807999999997,
          -3.7036824999999998,
          -3.7103285,
          -3.7124038,
          -3.7144964,
          -3.7120733999999995,
          -3.7088337,
          -3.7049407,
          -3.6991147000000004,
          -3.6982318,
          -3.7025023999999997,
          -3.7040665999999995,
          -3.7110513,
          -3.7071259,
          -3.7028265,
          -3.7022591,
          -3.6992759,
          -3.6933462999999995,
          -3.6935205,
          -3.7007163999999997,
          -3.7008803,
          -3.7004230000000002,
          -3.7020842000000003,
          -3.7032413999999996,
          -3.7126299,
          -3.6978949999999995,
          -3.7043418,
          -3.6883980000000003,
          -3.6752045,
          -3.6724968000000002,
          -3.6708959,
          -3.6904525,
          -3.693225,
          -3.6912023,
          -3.688822,
          -3.6779232000000004,
          -3.6738864999999996,
          -3.6691837999999994,
          -3.6689089,
          -3.6766812999999994,
          -3.6784837999999995,
          -3.6750121,
          -3.6704220000000003,
          -3.6744803999999998,
          -3.6803873999999994,
          -3.6902255,
          -3.6901233999999996,
          -3.691987,
          -3.6697526,
          -3.6751105,
          -3.6726019,
          -3.6800080000000004,
          -3.6926217000000006,
          -3.6832566,
          -3.6838303,
          -3.6752024,
          -3.6837876000000005,
          -3.6787441,
          -3.6865463,
          -3.6893697999999997,
          -3.6909648,
          -3.6870547999999994,
          -3.6821792999999996,
          -3.6801307,
          -3.6753567000000005,
          -3.6738714,
          -3.6738635000000004,
          -3.6691523,
          -3.6840229,
          -3.6865654,
          -3.6895336000000003,
          -3.6873921999999997,
          -3.6877226999999997,
          -3.6877449999999996,
          -3.6884368999999997,
          -3.6706024,
          -3.6816402000000004,
          -3.7206892999999996,
          -3.7175434999999997,
          -3.7175114999999996,
          -3.7246532,
          -3.7205129,
          -3.7174157999999995,
          -3.7170447999999996,
          -3.7116029999999998,
          -3.711703,
          -3.7188898,
          -3.6882406999999997,
          -3.6863218,
          -3.6944767999999995,
          -3.6987665,
          -3.6963983,
          -3.7133412000000003,
          -3.7218482,
          -3.7108108,
          -3.7064516000000003,
          -3.6971828999999996,
          -3.6945025,
          -3.6894150999999997,
          -3.684715,
          -3.7009675000000004,
          -3.691533,
          -3.6946218,
          -3.6990077000000006,
          -3.692651,
          -3.6817962,
          -3.695286,
          -3.6881689,
          -3.6905604,
          -3.6797296000000004,
          -3.7036675000000003,
          -3.7001669,
          -3.690861,
          -3.6853312000000007,
          -3.6956047,
          -3.6917932,
          -3.6787169,
          -3.7039582,
          -3.7016321000000003,
          -3.6927821000000005,
          -3.6907784,
          -3.7154328999999997,
          -3.6982209000000004,
          -3.682862,
          -3.7015686000000003,
          -3.6948626000000004,
          -3.6892367999999993,
          -3.678492,
          -3.6879154,
          -3.708439,
          -3.6993465,
          -3.6758555,
          -3.6712822999999997,
          -3.6763439,
          -3.6835926,
          -3.7135833,
          -3.717487,
          -3.6959166,
          -3.7138055,
          -3.7043611000000003,
          -3.6983888,
          -3.6935833,
          -3.7045805,
          -3.7065277,
          -3.6983055,
          -3.6937222000000003,
          -3.6941943999999998,
          -3.6783055,
          -3.66925,
          -3.6758888,
          -3.6766111000000006,
          -3.6657777,
          -3.669339,
          -3.6653055,
          -3.6615277,
          -3.6782777,
          -3.6638888,
          -3.6590555,
          -3.6555277000000004,
          -3.6835833,
          -3.674,
          -3.6714165999999997,
          -3.6655555,
          -3.6772222,
          -3.6754443999999995,
          -3.6751388,
          -3.6780555,
          -3.6915555,
          -3.7149165999999996,
          -3.7046666,
          -3.7038333,
          -3.7080832999999997,
          -3.7144722000000003,
          -3.7041665999999998,
          -3.7032777,
          -3.6989925,
          -3.6973333,
          -3.6886388,
          -3.6884722,
          -3.7026735,
          -3.7047165,
          -3.716591
         ],
         "marker": {
          "color": [
           6,
           6,
           6,
           5,
           5,
           5,
           4,
           4,
           4,
           1,
           4,
           5,
           5,
           5,
           53,
           5,
           1,
           5,
           6,
           4,
           3,
           6,
           6,
           6,
           1,
           1,
           6,
           6,
           4,
           3,
           6,
           3,
           1,
           6,
           6,
           6,
           2,
           1,
           1,
           1,
           1,
           1,
           2,
           2,
           2,
           2,
           2,
           7,
           8,
           8,
           8,
           12,
           2,
           12,
           2,
           2,
           5,
           5,
           6,
           5,
           4,
           5,
           18,
           17,
           17,
           17,
           18,
           2,
           18,
           18,
           18,
           19,
           19,
           19,
           18,
           14,
           14,
           14,
           15,
           14,
           13,
           13,
           2,
           19,
           19,
           15,
           18,
           3,
           20,
           25,
           21,
           20,
           21,
           20,
           20,
           4,
           20,
           18,
           20,
           21,
           21,
           21,
           21,
           18,
           20,
           41,
           20,
           20,
           20,
           20,
           21,
           20,
           53,
           53,
           53,
           52,
           52,
           53,
           52,
           53,
           53,
           53,
           11,
           11,
           12,
           8,
           40,
           5,
           52,
           8,
           8,
           9,
           11,
           34,
           29,
           33,
           34,
           33,
           33,
           33,
           26,
           33,
           26,
           33,
           26,
           43,
           42,
           42,
           26,
           42,
           42,
           26,
           43,
           42,
           42,
           42,
           38,
           41,
           25,
           40,
           41,
           41,
           25,
           41,
           39,
           40,
           24,
           24,
           29,
           29,
           1,
           7,
           12,
           7,
           8,
           9,
           11,
           8,
           8,
           9,
           9,
           10,
           13,
           81,
           13,
           17,
           16,
           21,
           22,
           22,
           21,
           22,
           92,
           95,
           25,
           24,
           24,
           23,
           24,
           27,
           28,
           26,
           41,
           38,
           39,
           39,
           43,
           43,
           43,
           32,
           37,
           36,
           34,
           34,
           6,
           6,
           68
          ],
          "colorscale": [
           [
            0,
            "#636EFA"
           ],
           [
            0.1111111111111111,
            "#EF553B"
           ],
           [
            0.2222222222222222,
            "#00CC96"
           ],
           [
            0.3333333333333333,
            "#AB63FA"
           ],
           [
            0.4444444444444444,
            "#FFA15A"
           ],
           [
            0.5555555555555556,
            "#19D3F3"
           ],
           [
            0.6666666666666666,
            "#FF6692"
           ],
           [
            0.7777777777777778,
            "#B6E880"
           ],
           [
            0.8888888888888888,
            "#FF97FF"
           ],
           [
            1,
            "#FECB52"
           ]
          ],
          "showscale": true
         },
         "mode": "markers",
         "text": [
          "Sol",
          "Sol",
          "Sol",
          "Universidad",
          "Universidad",
          "Universidad",
          "Justicia",
          "Justicia",
          "Justicia",
          "Palacio",
          "Justicia",
          "Universidad",
          "Universidad",
          "Universidad",
          "Argüelles",
          "Universidad",
          "Palacio",
          "Universidad",
          "Sol",
          "Justicia",
          "Cortes",
          "Sol",
          "Sol",
          "Sol",
          "Palacio",
          "Palacio",
          "Sol",
          "Sol",
          "Justicia",
          "Cortes",
          "Sol",
          "Cortes",
          "Palacio",
          "Sol",
          "Sol",
          "Sol",
          "Embajadores",
          "Palacio",
          "Palacio",
          "Palacio",
          "Palacio",
          "Palacio",
          "Embajadores",
          "Embajadores",
          "Embajadores",
          "Embajadores",
          "Embajadores",
          "Imperial",
          "Acacias",
          "Acacias",
          "Acacias",
          "Palos de Moguer",
          "Embajadores",
          "Palos de Moguer",
          "Embajadores",
          "Embajadores",
          "Universidad",
          "Universidad",
          "Sol",
          "Universidad",
          "Justicia",
          "Universidad",
          "Jerónimos",
          "Ibiza",
          "Ibiza",
          "Ibiza",
          "Jerónimos",
          "Embajadores",
          "Jerónimos",
          "Jerónimos",
          "Jerónimos",
          "Niño Jesús",
          "Niño Jesús",
          "Niño Jesús",
          "Jerónimos",
          "Pacífico",
          "Pacífico",
          "Pacífico",
          "Adelfas",
          "Pacífico",
          "Atocha",
          "Atocha",
          "Embajadores",
          "Niño Jesús",
          "Niño Jesús",
          "Adelfas",
          "Jerónimos",
          "Cortes",
          "Recoletos",
          "Castellana",
          "Goya",
          "Recoletos",
          "Goya",
          "Recoletos",
          "Recoletos",
          "Justicia",
          "Recoletos",
          "Jerónimos",
          "Recoletos",
          "Goya",
          "Goya",
          "Goya",
          "Goya",
          "Jerónimos",
          "Recoletos",
          "Almagro",
          "Recoletos",
          "Recoletos",
          "Recoletos",
          "Recoletos",
          "Goya",
          "Recoletos",
          "Argüelles",
          "Argüelles",
          "Argüelles",
          "Casa de Campo",
          "Casa de Campo",
          "Argüelles",
          "Casa de Campo",
          "Argüelles",
          "Argüelles",
          "Argüelles",
          "Delicias",
          "Delicias",
          "Palos de Moguer",
          "Acacias",
          "Trafalgar",
          "Universidad",
          "Casa de Campo",
          "Acacias",
          "Acacias",
          "Chopera",
          "Delicias",
          "Castillejos",
          "Hispanoamérica",
          "Cuatro Caminos",
          "Castillejos",
          "Cuatro Caminos",
          "Cuatro Caminos",
          "Cuatro Caminos",
          "El Viso",
          "Cuatro Caminos",
          "El Viso",
          "Cuatro Caminos",
          "El Viso",
          "Vallehermoso",
          "Rios Rosas",
          "Rios Rosas",
          "El Viso",
          "Rios Rosas",
          "Rios Rosas",
          "El Viso",
          "Vallehermoso",
          "Rios Rosas",
          "Rios Rosas",
          "Rios Rosas",
          "Gaztambide",
          "Almagro",
          "Castellana",
          "Trafalgar",
          "Almagro",
          "Almagro",
          "Castellana",
          "Almagro",
          "Arapiles",
          "Trafalgar",
          "Lista",
          "Lista",
          "Hispanoamérica",
          "Hispanoamérica",
          "Palacio",
          "Imperial",
          "Palos de Moguer",
          "Imperial",
          "Acacias",
          "Chopera",
          "Delicias",
          "Acacias",
          "Acacias",
          "Chopera",
          "Chopera",
          "Legazpi",
          "Atocha",
          "San Diego",
          "Atocha",
          "Ibiza",
          "Estrella",
          "Goya",
          "Fuente del Berro",
          "Fuente del Berro",
          "Goya",
          "Fuente del Berro",
          "Ventas",
          "Concepción",
          "Castellana",
          "Lista",
          "Lista",
          "Guindalera",
          "Lista",
          "Prosperidad",
          "Ciudad Jardín",
          "El Viso",
          "Almagro",
          "Gaztambide",
          "Arapiles",
          "Arapiles",
          "Vallehermoso",
          "Vallehermoso",
          "Vallehermoso",
          "Bellas Vistas",
          "Berruguete",
          "Valdeacederas",
          "Castillejos",
          "Castillejos",
          "Sol",
          "Sol",
          "San Isidro"
         ],
         "type": "scattermapbox"
        }
       ],
       "layout": {
        "autosize": true,
        "height": 500,
        "hovermode": "closest",
        "mapbox": {
         "accesstoken": "pk.eyJ1IjoiamJlbml0b2wiLCJhIjoiY2tkZW92bnNyMDBmeTJ5cXBmcXNxanFxOCJ9.PDhf4kysLJ7TFJZAEjT8wA",
         "bearing": 0,
         "center": {
          "lat": 40.4168961,
          "lon": -3.7024255
         },
         "pitch": 0,
         "zoom": 10
        },
        "margin": {
         "b": 50,
         "l": 50,
         "r": 0,
         "t": 50
        },
        "template": {
         "data": {
          "bar": [
           {
            "error_x": {
             "color": "#2a3f5f"
            },
            "error_y": {
             "color": "#2a3f5f"
            },
            "marker": {
             "line": {
              "color": "#E5ECF6",
              "width": 0.5
             }
            },
            "type": "bar"
           }
          ],
          "barpolar": [
           {
            "marker": {
             "line": {
              "color": "#E5ECF6",
              "width": 0.5
             }
            },
            "type": "barpolar"
           }
          ],
          "carpet": [
           {
            "aaxis": {
             "endlinecolor": "#2a3f5f",
             "gridcolor": "white",
             "linecolor": "white",
             "minorgridcolor": "white",
             "startlinecolor": "#2a3f5f"
            },
            "baxis": {
             "endlinecolor": "#2a3f5f",
             "gridcolor": "white",
             "linecolor": "white",
             "minorgridcolor": "white",
             "startlinecolor": "#2a3f5f"
            },
            "type": "carpet"
           }
          ],
          "choropleth": [
           {
            "colorbar": {
             "outlinewidth": 0,
             "ticks": ""
            },
            "type": "choropleth"
           }
          ],
          "contour": [
           {
            "colorbar": {
             "outlinewidth": 0,
             "ticks": ""
            },
            "colorscale": [
             [
              0,
              "#0d0887"
             ],
             [
              0.1111111111111111,
              "#46039f"
             ],
             [
              0.2222222222222222,
              "#7201a8"
             ],
             [
              0.3333333333333333,
              "#9c179e"
             ],
             [
              0.4444444444444444,
              "#bd3786"
             ],
             [
              0.5555555555555556,
              "#d8576b"
             ],
             [
              0.6666666666666666,
              "#ed7953"
             ],
             [
              0.7777777777777778,
              "#fb9f3a"
             ],
             [
              0.8888888888888888,
              "#fdca26"
             ],
             [
              1,
              "#f0f921"
             ]
            ],
            "type": "contour"
           }
          ],
          "contourcarpet": [
           {
            "colorbar": {
             "outlinewidth": 0,
             "ticks": ""
            },
            "type": "contourcarpet"
           }
          ],
          "heatmap": [
           {
            "colorbar": {
             "outlinewidth": 0,
             "ticks": ""
            },
            "colorscale": [
             [
              0,
              "#0d0887"
             ],
             [
              0.1111111111111111,
              "#46039f"
             ],
             [
              0.2222222222222222,
              "#7201a8"
             ],
             [
              0.3333333333333333,
              "#9c179e"
             ],
             [
              0.4444444444444444,
              "#bd3786"
             ],
             [
              0.5555555555555556,
              "#d8576b"
             ],
             [
              0.6666666666666666,
              "#ed7953"
             ],
             [
              0.7777777777777778,
              "#fb9f3a"
             ],
             [
              0.8888888888888888,
              "#fdca26"
             ],
             [
              1,
              "#f0f921"
             ]
            ],
            "type": "heatmap"
           }
          ],
          "heatmapgl": [
           {
            "colorbar": {
             "outlinewidth": 0,
             "ticks": ""
            },
            "colorscale": [
             [
              0,
              "#0d0887"
             ],
             [
              0.1111111111111111,
              "#46039f"
             ],
             [
              0.2222222222222222,
              "#7201a8"
             ],
             [
              0.3333333333333333,
              "#9c179e"
             ],
             [
              0.4444444444444444,
              "#bd3786"
             ],
             [
              0.5555555555555556,
              "#d8576b"
             ],
             [
              0.6666666666666666,
              "#ed7953"
             ],
             [
              0.7777777777777778,
              "#fb9f3a"
             ],
             [
              0.8888888888888888,
              "#fdca26"
             ],
             [
              1,
              "#f0f921"
             ]
            ],
            "type": "heatmapgl"
           }
          ],
          "histogram": [
           {
            "marker": {
             "colorbar": {
              "outlinewidth": 0,
              "ticks": ""
             }
            },
            "type": "histogram"
           }
          ],
          "histogram2d": [
           {
            "colorbar": {
             "outlinewidth": 0,
             "ticks": ""
            },
            "colorscale": [
             [
              0,
              "#0d0887"
             ],
             [
              0.1111111111111111,
              "#46039f"
             ],
             [
              0.2222222222222222,
              "#7201a8"
             ],
             [
              0.3333333333333333,
              "#9c179e"
             ],
             [
              0.4444444444444444,
              "#bd3786"
             ],
             [
              0.5555555555555556,
              "#d8576b"
             ],
             [
              0.6666666666666666,
              "#ed7953"
             ],
             [
              0.7777777777777778,
              "#fb9f3a"
             ],
             [
              0.8888888888888888,
              "#fdca26"
             ],
             [
              1,
              "#f0f921"
             ]
            ],
            "type": "histogram2d"
           }
          ],
          "histogram2dcontour": [
           {
            "colorbar": {
             "outlinewidth": 0,
             "ticks": ""
            },
            "colorscale": [
             [
              0,
              "#0d0887"
             ],
             [
              0.1111111111111111,
              "#46039f"
             ],
             [
              0.2222222222222222,
              "#7201a8"
             ],
             [
              0.3333333333333333,
              "#9c179e"
             ],
             [
              0.4444444444444444,
              "#bd3786"
             ],
             [
              0.5555555555555556,
              "#d8576b"
             ],
             [
              0.6666666666666666,
              "#ed7953"
             ],
             [
              0.7777777777777778,
              "#fb9f3a"
             ],
             [
              0.8888888888888888,
              "#fdca26"
             ],
             [
              1,
              "#f0f921"
             ]
            ],
            "type": "histogram2dcontour"
           }
          ],
          "mesh3d": [
           {
            "colorbar": {
             "outlinewidth": 0,
             "ticks": ""
            },
            "type": "mesh3d"
           }
          ],
          "parcoords": [
           {
            "line": {
             "colorbar": {
              "outlinewidth": 0,
              "ticks": ""
             }
            },
            "type": "parcoords"
           }
          ],
          "pie": [
           {
            "automargin": true,
            "type": "pie"
           }
          ],
          "scatter": [
           {
            "marker": {
             "colorbar": {
              "outlinewidth": 0,
              "ticks": ""
             }
            },
            "type": "scatter"
           }
          ],
          "scatter3d": [
           {
            "line": {
             "colorbar": {
              "outlinewidth": 0,
              "ticks": ""
             }
            },
            "marker": {
             "colorbar": {
              "outlinewidth": 0,
              "ticks": ""
             }
            },
            "type": "scatter3d"
           }
          ],
          "scattercarpet": [
           {
            "marker": {
             "colorbar": {
              "outlinewidth": 0,
              "ticks": ""
             }
            },
            "type": "scattercarpet"
           }
          ],
          "scattergeo": [
           {
            "marker": {
             "colorbar": {
              "outlinewidth": 0,
              "ticks": ""
             }
            },
            "type": "scattergeo"
           }
          ],
          "scattergl": [
           {
            "marker": {
             "colorbar": {
              "outlinewidth": 0,
              "ticks": ""
             }
            },
            "type": "scattergl"
           }
          ],
          "scattermapbox": [
           {
            "marker": {
             "colorbar": {
              "outlinewidth": 0,
              "ticks": ""
             }
            },
            "type": "scattermapbox"
           }
          ],
          "scatterpolar": [
           {
            "marker": {
             "colorbar": {
              "outlinewidth": 0,
              "ticks": ""
             }
            },
            "type": "scatterpolar"
           }
          ],
          "scatterpolargl": [
           {
            "marker": {
             "colorbar": {
              "outlinewidth": 0,
              "ticks": ""
             }
            },
            "type": "scatterpolargl"
           }
          ],
          "scatterternary": [
           {
            "marker": {
             "colorbar": {
              "outlinewidth": 0,
              "ticks": ""
             }
            },
            "type": "scatterternary"
           }
          ],
          "surface": [
           {
            "colorbar": {
             "outlinewidth": 0,
             "ticks": ""
            },
            "colorscale": [
             [
              0,
              "#0d0887"
             ],
             [
              0.1111111111111111,
              "#46039f"
             ],
             [
              0.2222222222222222,
              "#7201a8"
             ],
             [
              0.3333333333333333,
              "#9c179e"
             ],
             [
              0.4444444444444444,
              "#bd3786"
             ],
             [
              0.5555555555555556,
              "#d8576b"
             ],
             [
              0.6666666666666666,
              "#ed7953"
             ],
             [
              0.7777777777777778,
              "#fb9f3a"
             ],
             [
              0.8888888888888888,
              "#fdca26"
             ],
             [
              1,
              "#f0f921"
             ]
            ],
            "type": "surface"
           }
          ],
          "table": [
           {
            "cells": {
             "fill": {
              "color": "#EBF0F8"
             },
             "line": {
              "color": "white"
             }
            },
            "header": {
             "fill": {
              "color": "#C8D4E3"
             },
             "line": {
              "color": "white"
             }
            },
            "type": "table"
           }
          ]
         },
         "layout": {
          "annotationdefaults": {
           "arrowcolor": "#2a3f5f",
           "arrowhead": 0,
           "arrowwidth": 1
          },
          "coloraxis": {
           "colorbar": {
            "outlinewidth": 0,
            "ticks": ""
           }
          },
          "colorscale": {
           "diverging": [
            [
             0,
             "#8e0152"
            ],
            [
             0.1,
             "#c51b7d"
            ],
            [
             0.2,
             "#de77ae"
            ],
            [
             0.3,
             "#f1b6da"
            ],
            [
             0.4,
             "#fde0ef"
            ],
            [
             0.5,
             "#f7f7f7"
            ],
            [
             0.6,
             "#e6f5d0"
            ],
            [
             0.7,
             "#b8e186"
            ],
            [
             0.8,
             "#7fbc41"
            ],
            [
             0.9,
             "#4d9221"
            ],
            [
             1,
             "#276419"
            ]
           ],
           "sequential": [
            [
             0,
             "#0d0887"
            ],
            [
             0.1111111111111111,
             "#46039f"
            ],
            [
             0.2222222222222222,
             "#7201a8"
            ],
            [
             0.3333333333333333,
             "#9c179e"
            ],
            [
             0.4444444444444444,
             "#bd3786"
            ],
            [
             0.5555555555555556,
             "#d8576b"
            ],
            [
             0.6666666666666666,
             "#ed7953"
            ],
            [
             0.7777777777777778,
             "#fb9f3a"
            ],
            [
             0.8888888888888888,
             "#fdca26"
            ],
            [
             1,
             "#f0f921"
            ]
           ],
           "sequentialminus": [
            [
             0,
             "#0d0887"
            ],
            [
             0.1111111111111111,
             "#46039f"
            ],
            [
             0.2222222222222222,
             "#7201a8"
            ],
            [
             0.3333333333333333,
             "#9c179e"
            ],
            [
             0.4444444444444444,
             "#bd3786"
            ],
            [
             0.5555555555555556,
             "#d8576b"
            ],
            [
             0.6666666666666666,
             "#ed7953"
            ],
            [
             0.7777777777777778,
             "#fb9f3a"
            ],
            [
             0.8888888888888888,
             "#fdca26"
            ],
            [
             1,
             "#f0f921"
            ]
           ]
          },
          "colorway": [
           "#636efa",
           "#EF553B",
           "#00cc96",
           "#ab63fa",
           "#FFA15A",
           "#19d3f3",
           "#FF6692",
           "#B6E880",
           "#FF97FF",
           "#FECB52"
          ],
          "font": {
           "color": "#2a3f5f"
          },
          "geo": {
           "bgcolor": "white",
           "lakecolor": "white",
           "landcolor": "#E5ECF6",
           "showlakes": true,
           "showland": true,
           "subunitcolor": "white"
          },
          "hoverlabel": {
           "align": "left"
          },
          "hovermode": "closest",
          "mapbox": {
           "style": "light"
          },
          "paper_bgcolor": "white",
          "plot_bgcolor": "#E5ECF6",
          "polar": {
           "angularaxis": {
            "gridcolor": "white",
            "linecolor": "white",
            "ticks": ""
           },
           "bgcolor": "#E5ECF6",
           "radialaxis": {
            "gridcolor": "white",
            "linecolor": "white",
            "ticks": ""
           }
          },
          "scene": {
           "xaxis": {
            "backgroundcolor": "#E5ECF6",
            "gridcolor": "white",
            "gridwidth": 2,
            "linecolor": "white",
            "showbackground": true,
            "ticks": "",
            "zerolinecolor": "white"
           },
           "yaxis": {
            "backgroundcolor": "#E5ECF6",
            "gridcolor": "white",
            "gridwidth": 2,
            "linecolor": "white",
            "showbackground": true,
            "ticks": "",
            "zerolinecolor": "white"
           },
           "zaxis": {
            "backgroundcolor": "#E5ECF6",
            "gridcolor": "white",
            "gridwidth": 2,
            "linecolor": "white",
            "showbackground": true,
            "ticks": "",
            "zerolinecolor": "white"
           }
          },
          "shapedefaults": {
           "line": {
            "color": "#2a3f5f"
           }
          },
          "ternary": {
           "aaxis": {
            "gridcolor": "white",
            "linecolor": "white",
            "ticks": ""
           },
           "baxis": {
            "gridcolor": "white",
            "linecolor": "white",
            "ticks": ""
           },
           "bgcolor": "#E5ECF6",
           "caxis": {
            "gridcolor": "white",
            "linecolor": "white",
            "ticks": ""
           }
          },
          "title": {
           "x": 0.05
          },
          "xaxis": {
           "automargin": true,
           "gridcolor": "white",
           "linecolor": "white",
           "ticks": "",
           "title": {
            "standoff": 15
           },
           "zerolinecolor": "white",
           "zerolinewidth": 2
          },
          "yaxis": {
           "automargin": true,
           "gridcolor": "white",
           "linecolor": "white",
           "ticks": "",
           "title": {
            "standoff": 15
           },
           "zerolinecolor": "white",
           "zerolinewidth": 2
          }
         }
        },
        "title": {
         "x": 0.5
        },
        "width": 750
       }
      }
     },
     "metadata": {}
    }
   ],
   "source": [
    "fig = go.Figure(go.Scattermapbox(\n",
    "        lat=Estaciones[\"Latitude\"],\n",
    "        lon=Estaciones[\"Longitude\"],\n",
    "        mode='markers',\n",
    "        marker=go.scattermapbox.Marker(\n",
    "             color= Estaciones[\"BarrioId\"], showscale=True,\n",
    "             colorscale=px.colors.qualitative.Plotly\n",
    "        ),\n",
    "        \n",
    "       text=Estaciones[\"BarrioName\"],\n",
    "        \n",
    "    ))\n",
    "\n",
    "fig.update_layout(\n",
    "    title = dict( \n",
    "        \n",
    "        x=0.5,\n",
    "    ),\n",
    "\n",
    "    autosize=True,\n",
    "    hovermode='closest',\n",
    "    width=750,\n",
    "    height=500,\n",
    "    margin=dict(\n",
    "        l=50,\n",
    "        r=0,\n",
    "        b=50,\n",
    "        t=50\n",
    "        \n",
    "    ),\n",
    "    mapbox=dict(\n",
    "        accesstoken=mapbox_access_token,\n",
    "        bearing=0,\n",
    "        center=dict(\n",
    "            lat=float(Estaciones[\"Latitude\"].iloc[0]),\n",
    "            lon= float(Estaciones[\"Longitude\"].iloc[0])\n",
    "        ),\n",
    "        pitch=0,\n",
    "        zoom=10\n",
    "    ),\n",
    ")\n",
    "\n",
    "fig.show()"
   ]
  },
  {
   "cell_type": "markdown",
   "metadata": {},
   "source": [
    "# Bigger regions (artificial)\n",
    "Cardinal directions"
   ]
  },
  {
   "cell_type": "code",
   "execution_count": 12,
   "metadata": {},
   "outputs": [],
   "source": [
    "from sklearn.cluster import KMeans\n",
    "import matplotlib.pyplot as pt"
   ]
  },
  {
   "cell_type": "code",
   "execution_count": 13,
   "metadata": {},
   "outputs": [
    {
     "output_type": "display_data",
     "data": {
      "text/plain": "<Figure size 432x288 with 1 Axes>",
      "image/svg+xml": "<?xml version=\"1.0\" encoding=\"utf-8\" standalone=\"no\"?>\r\n<!DOCTYPE svg PUBLIC \"-//W3C//DTD SVG 1.1//EN\"\r\n  \"http://www.w3.org/Graphics/SVG/1.1/DTD/svg11.dtd\">\r\n<!-- Created with matplotlib (https://matplotlib.org/) -->\r\n<svg height=\"277.314375pt\" version=\"1.1\" viewBox=\"0 0 400.523437 277.314375\" width=\"400.523437pt\" xmlns=\"http://www.w3.org/2000/svg\" xmlns:xlink=\"http://www.w3.org/1999/xlink\">\r\n <defs>\r\n  <style type=\"text/css\">\r\n*{stroke-linecap:butt;stroke-linejoin:round;}\r\n  </style>\r\n </defs>\r\n <g id=\"figure_1\">\r\n  <g id=\"patch_1\">\r\n   <path d=\"M 0 277.314375 \r\nL 400.523437 277.314375 \r\nL 400.523437 0 \r\nL 0 0 \r\nz\r\n\" style=\"fill:none;\"/>\r\n  </g>\r\n  <g id=\"axes_1\">\r\n   <g id=\"patch_2\">\r\n    <path d=\"M 58.523438 239.758125 \r\nL 393.323438 239.758125 \r\nL 393.323438 22.318125 \r\nL 58.523438 22.318125 \r\nz\r\n\" style=\"fill:#ffffff;\"/>\r\n   </g>\r\n   <g id=\"matplotlib.axis_1\">\r\n    <g id=\"xtick_1\">\r\n     <g id=\"line2d_1\">\r\n      <defs>\r\n       <path d=\"M 0 0 \r\nL 0 3.5 \r\n\" id=\"m76a3e31628\" style=\"stroke:#000000;stroke-width:0.8;\"/>\r\n      </defs>\r\n      <g>\r\n       <use style=\"stroke:#000000;stroke-width:0.8;\" x=\"73.741619\" xlink:href=\"#m76a3e31628\" y=\"239.758125\"/>\r\n      </g>\r\n     </g>\r\n     <g id=\"text_1\">\r\n      <!-- 1 -->\r\n      <defs>\r\n       <path d=\"M 12.40625 8.296875 \r\nL 28.515625 8.296875 \r\nL 28.515625 63.921875 \r\nL 10.984375 60.40625 \r\nL 10.984375 69.390625 \r\nL 28.421875 72.90625 \r\nL 38.28125 72.90625 \r\nL 38.28125 8.296875 \r\nL 54.390625 8.296875 \r\nL 54.390625 0 \r\nL 12.40625 0 \r\nz\r\n\" id=\"DejaVuSans-49\"/>\r\n      </defs>\r\n      <g transform=\"translate(70.560369 254.356562)scale(0.1 -0.1)\">\r\n       <use xlink:href=\"#DejaVuSans-49\"/>\r\n      </g>\r\n     </g>\r\n    </g>\r\n    <g id=\"xtick_2\">\r\n     <g id=\"line2d_2\">\r\n      <g>\r\n       <use style=\"stroke:#000000;stroke-width:0.8;\" x=\"111.787074\" xlink:href=\"#m76a3e31628\" y=\"239.758125\"/>\r\n      </g>\r\n     </g>\r\n     <g id=\"text_2\">\r\n      <!-- 2 -->\r\n      <defs>\r\n       <path d=\"M 19.1875 8.296875 \r\nL 53.609375 8.296875 \r\nL 53.609375 0 \r\nL 7.328125 0 \r\nL 7.328125 8.296875 \r\nQ 12.9375 14.109375 22.625 23.890625 \r\nQ 32.328125 33.6875 34.8125 36.53125 \r\nQ 39.546875 41.84375 41.421875 45.53125 \r\nQ 43.3125 49.21875 43.3125 52.78125 \r\nQ 43.3125 58.59375 39.234375 62.25 \r\nQ 35.15625 65.921875 28.609375 65.921875 \r\nQ 23.96875 65.921875 18.8125 64.3125 \r\nQ 13.671875 62.703125 7.8125 59.421875 \r\nL 7.8125 69.390625 \r\nQ 13.765625 71.78125 18.9375 73 \r\nQ 24.125 74.21875 28.421875 74.21875 \r\nQ 39.75 74.21875 46.484375 68.546875 \r\nQ 53.21875 62.890625 53.21875 53.421875 \r\nQ 53.21875 48.921875 51.53125 44.890625 \r\nQ 49.859375 40.875 45.40625 35.40625 \r\nQ 44.1875 33.984375 37.640625 27.21875 \r\nQ 31.109375 20.453125 19.1875 8.296875 \r\nz\r\n\" id=\"DejaVuSans-50\"/>\r\n      </defs>\r\n      <g transform=\"translate(108.605824 254.356562)scale(0.1 -0.1)\">\r\n       <use xlink:href=\"#DejaVuSans-50\"/>\r\n      </g>\r\n     </g>\r\n    </g>\r\n    <g id=\"xtick_3\">\r\n     <g id=\"line2d_3\">\r\n      <g>\r\n       <use style=\"stroke:#000000;stroke-width:0.8;\" x=\"149.832528\" xlink:href=\"#m76a3e31628\" y=\"239.758125\"/>\r\n      </g>\r\n     </g>\r\n     <g id=\"text_3\">\r\n      <!-- 3 -->\r\n      <defs>\r\n       <path d=\"M 40.578125 39.3125 \r\nQ 47.65625 37.796875 51.625 33 \r\nQ 55.609375 28.21875 55.609375 21.1875 \r\nQ 55.609375 10.40625 48.1875 4.484375 \r\nQ 40.765625 -1.421875 27.09375 -1.421875 \r\nQ 22.515625 -1.421875 17.65625 -0.515625 \r\nQ 12.796875 0.390625 7.625 2.203125 \r\nL 7.625 11.71875 \r\nQ 11.71875 9.328125 16.59375 8.109375 \r\nQ 21.484375 6.890625 26.8125 6.890625 \r\nQ 36.078125 6.890625 40.9375 10.546875 \r\nQ 45.796875 14.203125 45.796875 21.1875 \r\nQ 45.796875 27.640625 41.28125 31.265625 \r\nQ 36.765625 34.90625 28.71875 34.90625 \r\nL 20.21875 34.90625 \r\nL 20.21875 43.015625 \r\nL 29.109375 43.015625 \r\nQ 36.375 43.015625 40.234375 45.921875 \r\nQ 44.09375 48.828125 44.09375 54.296875 \r\nQ 44.09375 59.90625 40.109375 62.90625 \r\nQ 36.140625 65.921875 28.71875 65.921875 \r\nQ 24.65625 65.921875 20.015625 65.03125 \r\nQ 15.375 64.15625 9.8125 62.3125 \r\nL 9.8125 71.09375 \r\nQ 15.4375 72.65625 20.34375 73.4375 \r\nQ 25.25 74.21875 29.59375 74.21875 \r\nQ 40.828125 74.21875 47.359375 69.109375 \r\nQ 53.90625 64.015625 53.90625 55.328125 \r\nQ 53.90625 49.265625 50.4375 45.09375 \r\nQ 46.96875 40.921875 40.578125 39.3125 \r\nz\r\n\" id=\"DejaVuSans-51\"/>\r\n      </defs>\r\n      <g transform=\"translate(146.651278 254.356562)scale(0.1 -0.1)\">\r\n       <use xlink:href=\"#DejaVuSans-51\"/>\r\n      </g>\r\n     </g>\r\n    </g>\r\n    <g id=\"xtick_4\">\r\n     <g id=\"line2d_4\">\r\n      <g>\r\n       <use style=\"stroke:#000000;stroke-width:0.8;\" x=\"187.877983\" xlink:href=\"#m76a3e31628\" y=\"239.758125\"/>\r\n      </g>\r\n     </g>\r\n     <g id=\"text_4\">\r\n      <!-- 4 -->\r\n      <defs>\r\n       <path d=\"M 37.796875 64.3125 \r\nL 12.890625 25.390625 \r\nL 37.796875 25.390625 \r\nz\r\nM 35.203125 72.90625 \r\nL 47.609375 72.90625 \r\nL 47.609375 25.390625 \r\nL 58.015625 25.390625 \r\nL 58.015625 17.1875 \r\nL 47.609375 17.1875 \r\nL 47.609375 0 \r\nL 37.796875 0 \r\nL 37.796875 17.1875 \r\nL 4.890625 17.1875 \r\nL 4.890625 26.703125 \r\nz\r\n\" id=\"DejaVuSans-52\"/>\r\n      </defs>\r\n      <g transform=\"translate(184.696733 254.356562)scale(0.1 -0.1)\">\r\n       <use xlink:href=\"#DejaVuSans-52\"/>\r\n      </g>\r\n     </g>\r\n    </g>\r\n    <g id=\"xtick_5\">\r\n     <g id=\"line2d_5\">\r\n      <g>\r\n       <use style=\"stroke:#000000;stroke-width:0.8;\" x=\"225.923438\" xlink:href=\"#m76a3e31628\" y=\"239.758125\"/>\r\n      </g>\r\n     </g>\r\n     <g id=\"text_5\">\r\n      <!-- 5 -->\r\n      <defs>\r\n       <path d=\"M 10.796875 72.90625 \r\nL 49.515625 72.90625 \r\nL 49.515625 64.59375 \r\nL 19.828125 64.59375 \r\nL 19.828125 46.734375 \r\nQ 21.96875 47.46875 24.109375 47.828125 \r\nQ 26.265625 48.1875 28.421875 48.1875 \r\nQ 40.625 48.1875 47.75 41.5 \r\nQ 54.890625 34.8125 54.890625 23.390625 \r\nQ 54.890625 11.625 47.5625 5.09375 \r\nQ 40.234375 -1.421875 26.90625 -1.421875 \r\nQ 22.3125 -1.421875 17.546875 -0.640625 \r\nQ 12.796875 0.140625 7.71875 1.703125 \r\nL 7.71875 11.625 \r\nQ 12.109375 9.234375 16.796875 8.0625 \r\nQ 21.484375 6.890625 26.703125 6.890625 \r\nQ 35.15625 6.890625 40.078125 11.328125 \r\nQ 45.015625 15.765625 45.015625 23.390625 \r\nQ 45.015625 31 40.078125 35.4375 \r\nQ 35.15625 39.890625 26.703125 39.890625 \r\nQ 22.75 39.890625 18.8125 39.015625 \r\nQ 14.890625 38.140625 10.796875 36.28125 \r\nz\r\n\" id=\"DejaVuSans-53\"/>\r\n      </defs>\r\n      <g transform=\"translate(222.742188 254.356562)scale(0.1 -0.1)\">\r\n       <use xlink:href=\"#DejaVuSans-53\"/>\r\n      </g>\r\n     </g>\r\n    </g>\r\n    <g id=\"xtick_6\">\r\n     <g id=\"line2d_6\">\r\n      <g>\r\n       <use style=\"stroke:#000000;stroke-width:0.8;\" x=\"263.968892\" xlink:href=\"#m76a3e31628\" y=\"239.758125\"/>\r\n      </g>\r\n     </g>\r\n     <g id=\"text_6\">\r\n      <!-- 6 -->\r\n      <defs>\r\n       <path d=\"M 33.015625 40.375 \r\nQ 26.375 40.375 22.484375 35.828125 \r\nQ 18.609375 31.296875 18.609375 23.390625 \r\nQ 18.609375 15.53125 22.484375 10.953125 \r\nQ 26.375 6.390625 33.015625 6.390625 \r\nQ 39.65625 6.390625 43.53125 10.953125 \r\nQ 47.40625 15.53125 47.40625 23.390625 \r\nQ 47.40625 31.296875 43.53125 35.828125 \r\nQ 39.65625 40.375 33.015625 40.375 \r\nz\r\nM 52.59375 71.296875 \r\nL 52.59375 62.3125 \r\nQ 48.875 64.0625 45.09375 64.984375 \r\nQ 41.3125 65.921875 37.59375 65.921875 \r\nQ 27.828125 65.921875 22.671875 59.328125 \r\nQ 17.53125 52.734375 16.796875 39.40625 \r\nQ 19.671875 43.65625 24.015625 45.921875 \r\nQ 28.375 48.1875 33.59375 48.1875 \r\nQ 44.578125 48.1875 50.953125 41.515625 \r\nQ 57.328125 34.859375 57.328125 23.390625 \r\nQ 57.328125 12.15625 50.6875 5.359375 \r\nQ 44.046875 -1.421875 33.015625 -1.421875 \r\nQ 20.359375 -1.421875 13.671875 8.265625 \r\nQ 6.984375 17.96875 6.984375 36.375 \r\nQ 6.984375 53.65625 15.1875 63.9375 \r\nQ 23.390625 74.21875 37.203125 74.21875 \r\nQ 40.921875 74.21875 44.703125 73.484375 \r\nQ 48.484375 72.75 52.59375 71.296875 \r\nz\r\n\" id=\"DejaVuSans-54\"/>\r\n      </defs>\r\n      <g transform=\"translate(260.787642 254.356562)scale(0.1 -0.1)\">\r\n       <use xlink:href=\"#DejaVuSans-54\"/>\r\n      </g>\r\n     </g>\r\n    </g>\r\n    <g id=\"xtick_7\">\r\n     <g id=\"line2d_7\">\r\n      <g>\r\n       <use style=\"stroke:#000000;stroke-width:0.8;\" x=\"302.014347\" xlink:href=\"#m76a3e31628\" y=\"239.758125\"/>\r\n      </g>\r\n     </g>\r\n     <g id=\"text_7\">\r\n      <!-- 7 -->\r\n      <defs>\r\n       <path d=\"M 8.203125 72.90625 \r\nL 55.078125 72.90625 \r\nL 55.078125 68.703125 \r\nL 28.609375 0 \r\nL 18.3125 0 \r\nL 43.21875 64.59375 \r\nL 8.203125 64.59375 \r\nz\r\n\" id=\"DejaVuSans-55\"/>\r\n      </defs>\r\n      <g transform=\"translate(298.833097 254.356562)scale(0.1 -0.1)\">\r\n       <use xlink:href=\"#DejaVuSans-55\"/>\r\n      </g>\r\n     </g>\r\n    </g>\r\n    <g id=\"xtick_8\">\r\n     <g id=\"line2d_8\">\r\n      <g>\r\n       <use style=\"stroke:#000000;stroke-width:0.8;\" x=\"340.059801\" xlink:href=\"#m76a3e31628\" y=\"239.758125\"/>\r\n      </g>\r\n     </g>\r\n     <g id=\"text_8\">\r\n      <!-- 8 -->\r\n      <defs>\r\n       <path d=\"M 31.78125 34.625 \r\nQ 24.75 34.625 20.71875 30.859375 \r\nQ 16.703125 27.09375 16.703125 20.515625 \r\nQ 16.703125 13.921875 20.71875 10.15625 \r\nQ 24.75 6.390625 31.78125 6.390625 \r\nQ 38.8125 6.390625 42.859375 10.171875 \r\nQ 46.921875 13.96875 46.921875 20.515625 \r\nQ 46.921875 27.09375 42.890625 30.859375 \r\nQ 38.875 34.625 31.78125 34.625 \r\nz\r\nM 21.921875 38.8125 \r\nQ 15.578125 40.375 12.03125 44.71875 \r\nQ 8.5 49.078125 8.5 55.328125 \r\nQ 8.5 64.0625 14.71875 69.140625 \r\nQ 20.953125 74.21875 31.78125 74.21875 \r\nQ 42.671875 74.21875 48.875 69.140625 \r\nQ 55.078125 64.0625 55.078125 55.328125 \r\nQ 55.078125 49.078125 51.53125 44.71875 \r\nQ 48 40.375 41.703125 38.8125 \r\nQ 48.828125 37.15625 52.796875 32.3125 \r\nQ 56.78125 27.484375 56.78125 20.515625 \r\nQ 56.78125 9.90625 50.3125 4.234375 \r\nQ 43.84375 -1.421875 31.78125 -1.421875 \r\nQ 19.734375 -1.421875 13.25 4.234375 \r\nQ 6.78125 9.90625 6.78125 20.515625 \r\nQ 6.78125 27.484375 10.78125 32.3125 \r\nQ 14.796875 37.15625 21.921875 38.8125 \r\nz\r\nM 18.3125 54.390625 \r\nQ 18.3125 48.734375 21.84375 45.5625 \r\nQ 25.390625 42.390625 31.78125 42.390625 \r\nQ 38.140625 42.390625 41.71875 45.5625 \r\nQ 45.3125 48.734375 45.3125 54.390625 \r\nQ 45.3125 60.0625 41.71875 63.234375 \r\nQ 38.140625 66.40625 31.78125 66.40625 \r\nQ 25.390625 66.40625 21.84375 63.234375 \r\nQ 18.3125 60.0625 18.3125 54.390625 \r\nz\r\n\" id=\"DejaVuSans-56\"/>\r\n      </defs>\r\n      <g transform=\"translate(336.878551 254.356562)scale(0.1 -0.1)\">\r\n       <use xlink:href=\"#DejaVuSans-56\"/>\r\n      </g>\r\n     </g>\r\n    </g>\r\n    <g id=\"xtick_9\">\r\n     <g id=\"line2d_9\">\r\n      <g>\r\n       <use style=\"stroke:#000000;stroke-width:0.8;\" x=\"378.105256\" xlink:href=\"#m76a3e31628\" y=\"239.758125\"/>\r\n      </g>\r\n     </g>\r\n     <g id=\"text_9\">\r\n      <!-- 9 -->\r\n      <defs>\r\n       <path d=\"M 10.984375 1.515625 \r\nL 10.984375 10.5 \r\nQ 14.703125 8.734375 18.5 7.8125 \r\nQ 22.3125 6.890625 25.984375 6.890625 \r\nQ 35.75 6.890625 40.890625 13.453125 \r\nQ 46.046875 20.015625 46.78125 33.40625 \r\nQ 43.953125 29.203125 39.59375 26.953125 \r\nQ 35.25 24.703125 29.984375 24.703125 \r\nQ 19.046875 24.703125 12.671875 31.3125 \r\nQ 6.296875 37.9375 6.296875 49.421875 \r\nQ 6.296875 60.640625 12.9375 67.421875 \r\nQ 19.578125 74.21875 30.609375 74.21875 \r\nQ 43.265625 74.21875 49.921875 64.515625 \r\nQ 56.59375 54.828125 56.59375 36.375 \r\nQ 56.59375 19.140625 48.40625 8.859375 \r\nQ 40.234375 -1.421875 26.421875 -1.421875 \r\nQ 22.703125 -1.421875 18.890625 -0.6875 \r\nQ 15.09375 0.046875 10.984375 1.515625 \r\nz\r\nM 30.609375 32.421875 \r\nQ 37.25 32.421875 41.125 36.953125 \r\nQ 45.015625 41.5 45.015625 49.421875 \r\nQ 45.015625 57.28125 41.125 61.84375 \r\nQ 37.25 66.40625 30.609375 66.40625 \r\nQ 23.96875 66.40625 20.09375 61.84375 \r\nQ 16.21875 57.28125 16.21875 49.421875 \r\nQ 16.21875 41.5 20.09375 36.953125 \r\nQ 23.96875 32.421875 30.609375 32.421875 \r\nz\r\n\" id=\"DejaVuSans-57\"/>\r\n      </defs>\r\n      <g transform=\"translate(374.924006 254.356562)scale(0.1 -0.1)\">\r\n       <use xlink:href=\"#DejaVuSans-57\"/>\r\n      </g>\r\n     </g>\r\n    </g>\r\n    <g id=\"text_10\">\r\n     <!-- Number of Clusters -->\r\n     <defs>\r\n      <path d=\"M 9.8125 72.90625 \r\nL 23.09375 72.90625 \r\nL 55.421875 11.921875 \r\nL 55.421875 72.90625 \r\nL 64.984375 72.90625 \r\nL 64.984375 0 \r\nL 51.703125 0 \r\nL 19.390625 60.984375 \r\nL 19.390625 0 \r\nL 9.8125 0 \r\nz\r\n\" id=\"DejaVuSans-78\"/>\r\n      <path d=\"M 8.5 21.578125 \r\nL 8.5 54.6875 \r\nL 17.484375 54.6875 \r\nL 17.484375 21.921875 \r\nQ 17.484375 14.15625 20.5 10.265625 \r\nQ 23.53125 6.390625 29.59375 6.390625 \r\nQ 36.859375 6.390625 41.078125 11.03125 \r\nQ 45.3125 15.671875 45.3125 23.6875 \r\nL 45.3125 54.6875 \r\nL 54.296875 54.6875 \r\nL 54.296875 0 \r\nL 45.3125 0 \r\nL 45.3125 8.40625 \r\nQ 42.046875 3.421875 37.71875 1 \r\nQ 33.40625 -1.421875 27.6875 -1.421875 \r\nQ 18.265625 -1.421875 13.375 4.4375 \r\nQ 8.5 10.296875 8.5 21.578125 \r\nz\r\nM 31.109375 56 \r\nz\r\n\" id=\"DejaVuSans-117\"/>\r\n      <path d=\"M 52 44.1875 \r\nQ 55.375 50.25 60.0625 53.125 \r\nQ 64.75 56 71.09375 56 \r\nQ 79.640625 56 84.28125 50.015625 \r\nQ 88.921875 44.046875 88.921875 33.015625 \r\nL 88.921875 0 \r\nL 79.890625 0 \r\nL 79.890625 32.71875 \r\nQ 79.890625 40.578125 77.09375 44.375 \r\nQ 74.3125 48.1875 68.609375 48.1875 \r\nQ 61.625 48.1875 57.5625 43.546875 \r\nQ 53.515625 38.921875 53.515625 30.90625 \r\nL 53.515625 0 \r\nL 44.484375 0 \r\nL 44.484375 32.71875 \r\nQ 44.484375 40.625 41.703125 44.40625 \r\nQ 38.921875 48.1875 33.109375 48.1875 \r\nQ 26.21875 48.1875 22.15625 43.53125 \r\nQ 18.109375 38.875 18.109375 30.90625 \r\nL 18.109375 0 \r\nL 9.078125 0 \r\nL 9.078125 54.6875 \r\nL 18.109375 54.6875 \r\nL 18.109375 46.1875 \r\nQ 21.1875 51.21875 25.484375 53.609375 \r\nQ 29.78125 56 35.6875 56 \r\nQ 41.65625 56 45.828125 52.96875 \r\nQ 50 49.953125 52 44.1875 \r\nz\r\n\" id=\"DejaVuSans-109\"/>\r\n      <path d=\"M 48.6875 27.296875 \r\nQ 48.6875 37.203125 44.609375 42.84375 \r\nQ 40.53125 48.484375 33.40625 48.484375 \r\nQ 26.265625 48.484375 22.1875 42.84375 \r\nQ 18.109375 37.203125 18.109375 27.296875 \r\nQ 18.109375 17.390625 22.1875 11.75 \r\nQ 26.265625 6.109375 33.40625 6.109375 \r\nQ 40.53125 6.109375 44.609375 11.75 \r\nQ 48.6875 17.390625 48.6875 27.296875 \r\nz\r\nM 18.109375 46.390625 \r\nQ 20.953125 51.265625 25.265625 53.625 \r\nQ 29.59375 56 35.59375 56 \r\nQ 45.5625 56 51.78125 48.09375 \r\nQ 58.015625 40.1875 58.015625 27.296875 \r\nQ 58.015625 14.40625 51.78125 6.484375 \r\nQ 45.5625 -1.421875 35.59375 -1.421875 \r\nQ 29.59375 -1.421875 25.265625 0.953125 \r\nQ 20.953125 3.328125 18.109375 8.203125 \r\nL 18.109375 0 \r\nL 9.078125 0 \r\nL 9.078125 75.984375 \r\nL 18.109375 75.984375 \r\nz\r\n\" id=\"DejaVuSans-98\"/>\r\n      <path d=\"M 56.203125 29.59375 \r\nL 56.203125 25.203125 \r\nL 14.890625 25.203125 \r\nQ 15.484375 15.921875 20.484375 11.0625 \r\nQ 25.484375 6.203125 34.421875 6.203125 \r\nQ 39.59375 6.203125 44.453125 7.46875 \r\nQ 49.3125 8.734375 54.109375 11.28125 \r\nL 54.109375 2.78125 \r\nQ 49.265625 0.734375 44.1875 -0.34375 \r\nQ 39.109375 -1.421875 33.890625 -1.421875 \r\nQ 20.796875 -1.421875 13.15625 6.1875 \r\nQ 5.515625 13.8125 5.515625 26.8125 \r\nQ 5.515625 40.234375 12.765625 48.109375 \r\nQ 20.015625 56 32.328125 56 \r\nQ 43.359375 56 49.78125 48.890625 \r\nQ 56.203125 41.796875 56.203125 29.59375 \r\nz\r\nM 47.21875 32.234375 \r\nQ 47.125 39.59375 43.09375 43.984375 \r\nQ 39.0625 48.390625 32.421875 48.390625 \r\nQ 24.90625 48.390625 20.390625 44.140625 \r\nQ 15.875 39.890625 15.1875 32.171875 \r\nz\r\n\" id=\"DejaVuSans-101\"/>\r\n      <path d=\"M 41.109375 46.296875 \r\nQ 39.59375 47.171875 37.8125 47.578125 \r\nQ 36.03125 48 33.890625 48 \r\nQ 26.265625 48 22.1875 43.046875 \r\nQ 18.109375 38.09375 18.109375 28.8125 \r\nL 18.109375 0 \r\nL 9.078125 0 \r\nL 9.078125 54.6875 \r\nL 18.109375 54.6875 \r\nL 18.109375 46.1875 \r\nQ 20.953125 51.171875 25.484375 53.578125 \r\nQ 30.03125 56 36.53125 56 \r\nQ 37.453125 56 38.578125 55.875 \r\nQ 39.703125 55.765625 41.0625 55.515625 \r\nz\r\n\" id=\"DejaVuSans-114\"/>\r\n      <path id=\"DejaVuSans-32\"/>\r\n      <path d=\"M 30.609375 48.390625 \r\nQ 23.390625 48.390625 19.1875 42.75 \r\nQ 14.984375 37.109375 14.984375 27.296875 \r\nQ 14.984375 17.484375 19.15625 11.84375 \r\nQ 23.34375 6.203125 30.609375 6.203125 \r\nQ 37.796875 6.203125 41.984375 11.859375 \r\nQ 46.1875 17.53125 46.1875 27.296875 \r\nQ 46.1875 37.015625 41.984375 42.703125 \r\nQ 37.796875 48.390625 30.609375 48.390625 \r\nz\r\nM 30.609375 56 \r\nQ 42.328125 56 49.015625 48.375 \r\nQ 55.71875 40.765625 55.71875 27.296875 \r\nQ 55.71875 13.875 49.015625 6.21875 \r\nQ 42.328125 -1.421875 30.609375 -1.421875 \r\nQ 18.84375 -1.421875 12.171875 6.21875 \r\nQ 5.515625 13.875 5.515625 27.296875 \r\nQ 5.515625 40.765625 12.171875 48.375 \r\nQ 18.84375 56 30.609375 56 \r\nz\r\n\" id=\"DejaVuSans-111\"/>\r\n      <path d=\"M 37.109375 75.984375 \r\nL 37.109375 68.5 \r\nL 28.515625 68.5 \r\nQ 23.6875 68.5 21.796875 66.546875 \r\nQ 19.921875 64.59375 19.921875 59.515625 \r\nL 19.921875 54.6875 \r\nL 34.71875 54.6875 \r\nL 34.71875 47.703125 \r\nL 19.921875 47.703125 \r\nL 19.921875 0 \r\nL 10.890625 0 \r\nL 10.890625 47.703125 \r\nL 2.296875 47.703125 \r\nL 2.296875 54.6875 \r\nL 10.890625 54.6875 \r\nL 10.890625 58.5 \r\nQ 10.890625 67.625 15.140625 71.796875 \r\nQ 19.390625 75.984375 28.609375 75.984375 \r\nz\r\n\" id=\"DejaVuSans-102\"/>\r\n      <path d=\"M 64.40625 67.28125 \r\nL 64.40625 56.890625 \r\nQ 59.421875 61.53125 53.78125 63.8125 \r\nQ 48.140625 66.109375 41.796875 66.109375 \r\nQ 29.296875 66.109375 22.65625 58.46875 \r\nQ 16.015625 50.828125 16.015625 36.375 \r\nQ 16.015625 21.96875 22.65625 14.328125 \r\nQ 29.296875 6.6875 41.796875 6.6875 \r\nQ 48.140625 6.6875 53.78125 8.984375 \r\nQ 59.421875 11.28125 64.40625 15.921875 \r\nL 64.40625 5.609375 \r\nQ 59.234375 2.09375 53.4375 0.328125 \r\nQ 47.65625 -1.421875 41.21875 -1.421875 \r\nQ 24.65625 -1.421875 15.125 8.703125 \r\nQ 5.609375 18.84375 5.609375 36.375 \r\nQ 5.609375 53.953125 15.125 64.078125 \r\nQ 24.65625 74.21875 41.21875 74.21875 \r\nQ 47.75 74.21875 53.53125 72.484375 \r\nQ 59.328125 70.75 64.40625 67.28125 \r\nz\r\n\" id=\"DejaVuSans-67\"/>\r\n      <path d=\"M 9.421875 75.984375 \r\nL 18.40625 75.984375 \r\nL 18.40625 0 \r\nL 9.421875 0 \r\nz\r\n\" id=\"DejaVuSans-108\"/>\r\n      <path d=\"M 44.28125 53.078125 \r\nL 44.28125 44.578125 \r\nQ 40.484375 46.53125 36.375 47.5 \r\nQ 32.28125 48.484375 27.875 48.484375 \r\nQ 21.1875 48.484375 17.84375 46.4375 \r\nQ 14.5 44.390625 14.5 40.28125 \r\nQ 14.5 37.15625 16.890625 35.375 \r\nQ 19.28125 33.59375 26.515625 31.984375 \r\nL 29.59375 31.296875 \r\nQ 39.15625 29.25 43.1875 25.515625 \r\nQ 47.21875 21.78125 47.21875 15.09375 \r\nQ 47.21875 7.46875 41.1875 3.015625 \r\nQ 35.15625 -1.421875 24.609375 -1.421875 \r\nQ 20.21875 -1.421875 15.453125 -0.5625 \r\nQ 10.6875 0.296875 5.421875 2 \r\nL 5.421875 11.28125 \r\nQ 10.40625 8.6875 15.234375 7.390625 \r\nQ 20.0625 6.109375 24.8125 6.109375 \r\nQ 31.15625 6.109375 34.5625 8.28125 \r\nQ 37.984375 10.453125 37.984375 14.40625 \r\nQ 37.984375 18.0625 35.515625 20.015625 \r\nQ 33.0625 21.96875 24.703125 23.78125 \r\nL 21.578125 24.515625 \r\nQ 13.234375 26.265625 9.515625 29.90625 \r\nQ 5.8125 33.546875 5.8125 39.890625 \r\nQ 5.8125 47.609375 11.28125 51.796875 \r\nQ 16.75 56 26.8125 56 \r\nQ 31.78125 56 36.171875 55.265625 \r\nQ 40.578125 54.546875 44.28125 53.078125 \r\nz\r\n\" id=\"DejaVuSans-115\"/>\r\n      <path d=\"M 18.3125 70.21875 \r\nL 18.3125 54.6875 \r\nL 36.8125 54.6875 \r\nL 36.8125 47.703125 \r\nL 18.3125 47.703125 \r\nL 18.3125 18.015625 \r\nQ 18.3125 11.328125 20.140625 9.421875 \r\nQ 21.96875 7.515625 27.59375 7.515625 \r\nL 36.8125 7.515625 \r\nL 36.8125 0 \r\nL 27.59375 0 \r\nQ 17.1875 0 13.234375 3.875 \r\nQ 9.28125 7.765625 9.28125 18.015625 \r\nL 9.28125 47.703125 \r\nL 2.6875 47.703125 \r\nL 2.6875 54.6875 \r\nL 9.28125 54.6875 \r\nL 9.28125 70.21875 \r\nz\r\n\" id=\"DejaVuSans-116\"/>\r\n     </defs>\r\n     <g transform=\"translate(177.489062 268.034687)scale(0.1 -0.1)\">\r\n      <use xlink:href=\"#DejaVuSans-78\"/>\r\n      <use x=\"74.804688\" xlink:href=\"#DejaVuSans-117\"/>\r\n      <use x=\"138.183594\" xlink:href=\"#DejaVuSans-109\"/>\r\n      <use x=\"235.595703\" xlink:href=\"#DejaVuSans-98\"/>\r\n      <use x=\"299.072266\" xlink:href=\"#DejaVuSans-101\"/>\r\n      <use x=\"360.595703\" xlink:href=\"#DejaVuSans-114\"/>\r\n      <use x=\"401.708984\" xlink:href=\"#DejaVuSans-32\"/>\r\n      <use x=\"433.496094\" xlink:href=\"#DejaVuSans-111\"/>\r\n      <use x=\"494.677734\" xlink:href=\"#DejaVuSans-102\"/>\r\n      <use x=\"529.882812\" xlink:href=\"#DejaVuSans-32\"/>\r\n      <use x=\"561.669922\" xlink:href=\"#DejaVuSans-67\"/>\r\n      <use x=\"631.494141\" xlink:href=\"#DejaVuSans-108\"/>\r\n      <use x=\"659.277344\" xlink:href=\"#DejaVuSans-117\"/>\r\n      <use x=\"722.65625\" xlink:href=\"#DejaVuSans-115\"/>\r\n      <use x=\"774.755859\" xlink:href=\"#DejaVuSans-116\"/>\r\n      <use x=\"813.964844\" xlink:href=\"#DejaVuSans-101\"/>\r\n      <use x=\"875.488281\" xlink:href=\"#DejaVuSans-114\"/>\r\n      <use x=\"916.601562\" xlink:href=\"#DejaVuSans-115\"/>\r\n     </g>\r\n    </g>\r\n   </g>\r\n   <g id=\"matplotlib.axis_2\">\r\n    <g id=\"ytick_1\">\r\n     <g id=\"line2d_10\">\r\n      <defs>\r\n       <path d=\"M 0 0 \r\nL -3.5 0 \r\n\" id=\"m261353e50d\" style=\"stroke:#000000;stroke-width:0.8;\"/>\r\n      </defs>\r\n      <g>\r\n       <use style=\"stroke:#000000;stroke-width:0.8;\" x=\"58.523438\" xlink:href=\"#m261353e50d\" y=\"214.685555\"/>\r\n      </g>\r\n     </g>\r\n     <g id=\"text_11\">\r\n      <!-- −0.05 -->\r\n      <defs>\r\n       <path d=\"M 10.59375 35.5 \r\nL 73.1875 35.5 \r\nL 73.1875 27.203125 \r\nL 10.59375 27.203125 \r\nz\r\n\" id=\"DejaVuSans-8722\"/>\r\n       <path d=\"M 31.78125 66.40625 \r\nQ 24.171875 66.40625 20.328125 58.90625 \r\nQ 16.5 51.421875 16.5 36.375 \r\nQ 16.5 21.390625 20.328125 13.890625 \r\nQ 24.171875 6.390625 31.78125 6.390625 \r\nQ 39.453125 6.390625 43.28125 13.890625 \r\nQ 47.125 21.390625 47.125 36.375 \r\nQ 47.125 51.421875 43.28125 58.90625 \r\nQ 39.453125 66.40625 31.78125 66.40625 \r\nz\r\nM 31.78125 74.21875 \r\nQ 44.046875 74.21875 50.515625 64.515625 \r\nQ 56.984375 54.828125 56.984375 36.375 \r\nQ 56.984375 17.96875 50.515625 8.265625 \r\nQ 44.046875 -1.421875 31.78125 -1.421875 \r\nQ 19.53125 -1.421875 13.0625 8.265625 \r\nQ 6.59375 17.96875 6.59375 36.375 \r\nQ 6.59375 54.828125 13.0625 64.515625 \r\nQ 19.53125 74.21875 31.78125 74.21875 \r\nz\r\n\" id=\"DejaVuSans-48\"/>\r\n       <path d=\"M 10.6875 12.40625 \r\nL 21 12.40625 \r\nL 21 0 \r\nL 10.6875 0 \r\nz\r\n\" id=\"DejaVuSans-46\"/>\r\n      </defs>\r\n      <g transform=\"translate(20.878125 218.484774)scale(0.1 -0.1)\">\r\n       <use xlink:href=\"#DejaVuSans-8722\"/>\r\n       <use x=\"83.789062\" xlink:href=\"#DejaVuSans-48\"/>\r\n       <use x=\"147.412109\" xlink:href=\"#DejaVuSans-46\"/>\r\n       <use x=\"179.199219\" xlink:href=\"#DejaVuSans-48\"/>\r\n       <use x=\"242.822266\" xlink:href=\"#DejaVuSans-53\"/>\r\n      </g>\r\n     </g>\r\n    </g>\r\n    <g id=\"ytick_2\">\r\n     <g id=\"line2d_11\">\r\n      <g>\r\n       <use style=\"stroke:#000000;stroke-width:0.8;\" x=\"58.523438\" xlink:href=\"#m261353e50d\" y=\"177.370333\"/>\r\n      </g>\r\n     </g>\r\n     <g id=\"text_12\">\r\n      <!-- −0.04 -->\r\n      <g transform=\"translate(20.878125 181.169551)scale(0.1 -0.1)\">\r\n       <use xlink:href=\"#DejaVuSans-8722\"/>\r\n       <use x=\"83.789062\" xlink:href=\"#DejaVuSans-48\"/>\r\n       <use x=\"147.412109\" xlink:href=\"#DejaVuSans-46\"/>\r\n       <use x=\"179.199219\" xlink:href=\"#DejaVuSans-48\"/>\r\n       <use x=\"242.822266\" xlink:href=\"#DejaVuSans-52\"/>\r\n      </g>\r\n     </g>\r\n    </g>\r\n    <g id=\"ytick_3\">\r\n     <g id=\"line2d_12\">\r\n      <g>\r\n       <use style=\"stroke:#000000;stroke-width:0.8;\" x=\"58.523438\" xlink:href=\"#m261353e50d\" y=\"140.05511\"/>\r\n      </g>\r\n     </g>\r\n     <g id=\"text_13\">\r\n      <!-- −0.03 -->\r\n      <g transform=\"translate(20.878125 143.854329)scale(0.1 -0.1)\">\r\n       <use xlink:href=\"#DejaVuSans-8722\"/>\r\n       <use x=\"83.789062\" xlink:href=\"#DejaVuSans-48\"/>\r\n       <use x=\"147.412109\" xlink:href=\"#DejaVuSans-46\"/>\r\n       <use x=\"179.199219\" xlink:href=\"#DejaVuSans-48\"/>\r\n       <use x=\"242.822266\" xlink:href=\"#DejaVuSans-51\"/>\r\n      </g>\r\n     </g>\r\n    </g>\r\n    <g id=\"ytick_4\">\r\n     <g id=\"line2d_13\">\r\n      <g>\r\n       <use style=\"stroke:#000000;stroke-width:0.8;\" x=\"58.523438\" xlink:href=\"#m261353e50d\" y=\"102.739888\"/>\r\n      </g>\r\n     </g>\r\n     <g id=\"text_14\">\r\n      <!-- −0.02 -->\r\n      <g transform=\"translate(20.878125 106.539107)scale(0.1 -0.1)\">\r\n       <use xlink:href=\"#DejaVuSans-8722\"/>\r\n       <use x=\"83.789062\" xlink:href=\"#DejaVuSans-48\"/>\r\n       <use x=\"147.412109\" xlink:href=\"#DejaVuSans-46\"/>\r\n       <use x=\"179.199219\" xlink:href=\"#DejaVuSans-48\"/>\r\n       <use x=\"242.822266\" xlink:href=\"#DejaVuSans-50\"/>\r\n      </g>\r\n     </g>\r\n    </g>\r\n    <g id=\"ytick_5\">\r\n     <g id=\"line2d_14\">\r\n      <g>\r\n       <use style=\"stroke:#000000;stroke-width:0.8;\" x=\"58.523438\" xlink:href=\"#m261353e50d\" y=\"65.424666\"/>\r\n      </g>\r\n     </g>\r\n     <g id=\"text_15\">\r\n      <!-- −0.01 -->\r\n      <g transform=\"translate(20.878125 69.223885)scale(0.1 -0.1)\">\r\n       <use xlink:href=\"#DejaVuSans-8722\"/>\r\n       <use x=\"83.789062\" xlink:href=\"#DejaVuSans-48\"/>\r\n       <use x=\"147.412109\" xlink:href=\"#DejaVuSans-46\"/>\r\n       <use x=\"179.199219\" xlink:href=\"#DejaVuSans-48\"/>\r\n       <use x=\"242.822266\" xlink:href=\"#DejaVuSans-49\"/>\r\n      </g>\r\n     </g>\r\n    </g>\r\n    <g id=\"ytick_6\">\r\n     <g id=\"line2d_15\">\r\n      <g>\r\n       <use style=\"stroke:#000000;stroke-width:0.8;\" x=\"58.523438\" xlink:href=\"#m261353e50d\" y=\"28.109444\"/>\r\n      </g>\r\n     </g>\r\n     <g id=\"text_16\">\r\n      <!-- 0.00 -->\r\n      <g transform=\"translate(29.257813 31.908662)scale(0.1 -0.1)\">\r\n       <use xlink:href=\"#DejaVuSans-48\"/>\r\n       <use x=\"63.623047\" xlink:href=\"#DejaVuSans-46\"/>\r\n       <use x=\"95.410156\" xlink:href=\"#DejaVuSans-48\"/>\r\n       <use x=\"159.033203\" xlink:href=\"#DejaVuSans-48\"/>\r\n      </g>\r\n     </g>\r\n    </g>\r\n    <g id=\"text_17\">\r\n     <!-- Score -->\r\n     <defs>\r\n      <path d=\"M 53.515625 70.515625 \r\nL 53.515625 60.890625 \r\nQ 47.90625 63.578125 42.921875 64.890625 \r\nQ 37.9375 66.21875 33.296875 66.21875 \r\nQ 25.25 66.21875 20.875 63.09375 \r\nQ 16.5 59.96875 16.5 54.203125 \r\nQ 16.5 49.359375 19.40625 46.890625 \r\nQ 22.3125 44.4375 30.421875 42.921875 \r\nL 36.375 41.703125 \r\nQ 47.40625 39.59375 52.65625 34.296875 \r\nQ 57.90625 29 57.90625 20.125 \r\nQ 57.90625 9.515625 50.796875 4.046875 \r\nQ 43.703125 -1.421875 29.984375 -1.421875 \r\nQ 24.8125 -1.421875 18.96875 -0.25 \r\nQ 13.140625 0.921875 6.890625 3.21875 \r\nL 6.890625 13.375 \r\nQ 12.890625 10.015625 18.65625 8.296875 \r\nQ 24.421875 6.59375 29.984375 6.59375 \r\nQ 38.421875 6.59375 43.015625 9.90625 \r\nQ 47.609375 13.234375 47.609375 19.390625 \r\nQ 47.609375 24.75 44.3125 27.78125 \r\nQ 41.015625 30.8125 33.5 32.328125 \r\nL 27.484375 33.5 \r\nQ 16.453125 35.6875 11.515625 40.375 \r\nQ 6.59375 45.0625 6.59375 53.421875 \r\nQ 6.59375 63.09375 13.40625 68.65625 \r\nQ 20.21875 74.21875 32.171875 74.21875 \r\nQ 37.3125 74.21875 42.625 73.28125 \r\nQ 47.953125 72.359375 53.515625 70.515625 \r\nz\r\n\" id=\"DejaVuSans-83\"/>\r\n      <path d=\"M 48.78125 52.59375 \r\nL 48.78125 44.1875 \r\nQ 44.96875 46.296875 41.140625 47.34375 \r\nQ 37.3125 48.390625 33.40625 48.390625 \r\nQ 24.65625 48.390625 19.8125 42.84375 \r\nQ 14.984375 37.3125 14.984375 27.296875 \r\nQ 14.984375 17.28125 19.8125 11.734375 \r\nQ 24.65625 6.203125 33.40625 6.203125 \r\nQ 37.3125 6.203125 41.140625 7.25 \r\nQ 44.96875 8.296875 48.78125 10.40625 \r\nL 48.78125 2.09375 \r\nQ 45.015625 0.34375 40.984375 -0.53125 \r\nQ 36.96875 -1.421875 32.421875 -1.421875 \r\nQ 20.0625 -1.421875 12.78125 6.34375 \r\nQ 5.515625 14.109375 5.515625 27.296875 \r\nQ 5.515625 40.671875 12.859375 48.328125 \r\nQ 20.21875 56 33.015625 56 \r\nQ 37.15625 56 41.109375 55.140625 \r\nQ 45.0625 54.296875 48.78125 52.59375 \r\nz\r\n\" id=\"DejaVuSans-99\"/>\r\n     </defs>\r\n     <g transform=\"translate(14.798438 145.040469)rotate(-90)scale(0.1 -0.1)\">\r\n      <use xlink:href=\"#DejaVuSans-83\"/>\r\n      <use x=\"63.476562\" xlink:href=\"#DejaVuSans-99\"/>\r\n      <use x=\"118.457031\" xlink:href=\"#DejaVuSans-111\"/>\r\n      <use x=\"179.638672\" xlink:href=\"#DejaVuSans-114\"/>\r\n      <use x=\"218.501953\" xlink:href=\"#DejaVuSans-101\"/>\r\n     </g>\r\n    </g>\r\n   </g>\r\n   <g id=\"line2d_16\">\r\n    <path clip-path=\"url(#pab7bf78d5b)\" d=\"M 73.741619 229.874489 \r\nL 111.787074 105.326762 \r\nL 149.832528 60.302099 \r\nL 187.877983 47.474611 \r\nL 225.923438 41.098547 \r\nL 263.968892 37.234403 \r\nL 302.014347 34.500526 \r\nL 340.059801 33.13158 \r\nL 378.105256 32.201761 \r\n\" style=\"fill:none;stroke:#1f77b4;stroke-linecap:square;stroke-width:1.5;\"/>\r\n   </g>\r\n   <g id=\"patch_3\">\r\n    <path d=\"M 58.523438 239.758125 \r\nL 58.523438 22.318125 \r\n\" style=\"fill:none;stroke:#000000;stroke-linecap:square;stroke-linejoin:miter;stroke-width:0.8;\"/>\r\n   </g>\r\n   <g id=\"patch_4\">\r\n    <path d=\"M 393.323438 239.758125 \r\nL 393.323438 22.318125 \r\n\" style=\"fill:none;stroke:#000000;stroke-linecap:square;stroke-linejoin:miter;stroke-width:0.8;\"/>\r\n   </g>\r\n   <g id=\"patch_5\">\r\n    <path d=\"M 58.523438 239.758125 \r\nL 393.323438 239.758125 \r\n\" style=\"fill:none;stroke:#000000;stroke-linecap:square;stroke-linejoin:miter;stroke-width:0.8;\"/>\r\n   </g>\r\n   <g id=\"patch_6\">\r\n    <path d=\"M 58.523438 22.318125 \r\nL 393.323438 22.318125 \r\n\" style=\"fill:none;stroke:#000000;stroke-linecap:square;stroke-linejoin:miter;stroke-width:0.8;\"/>\r\n   </g>\r\n   <g id=\"text_18\">\r\n    <!-- Elbow Curve -->\r\n    <defs>\r\n     <path d=\"M 9.8125 72.90625 \r\nL 55.90625 72.90625 \r\nL 55.90625 64.59375 \r\nL 19.671875 64.59375 \r\nL 19.671875 43.015625 \r\nL 54.390625 43.015625 \r\nL 54.390625 34.71875 \r\nL 19.671875 34.71875 \r\nL 19.671875 8.296875 \r\nL 56.78125 8.296875 \r\nL 56.78125 0 \r\nL 9.8125 0 \r\nz\r\n\" id=\"DejaVuSans-69\"/>\r\n     <path d=\"M 4.203125 54.6875 \r\nL 13.1875 54.6875 \r\nL 24.421875 12.015625 \r\nL 35.59375 54.6875 \r\nL 46.1875 54.6875 \r\nL 57.421875 12.015625 \r\nL 68.609375 54.6875 \r\nL 77.59375 54.6875 \r\nL 63.28125 0 \r\nL 52.6875 0 \r\nL 40.921875 44.828125 \r\nL 29.109375 0 \r\nL 18.5 0 \r\nz\r\n\" id=\"DejaVuSans-119\"/>\r\n     <path d=\"M 2.984375 54.6875 \r\nL 12.5 54.6875 \r\nL 29.59375 8.796875 \r\nL 46.6875 54.6875 \r\nL 56.203125 54.6875 \r\nL 35.6875 0 \r\nL 23.484375 0 \r\nz\r\n\" id=\"DejaVuSans-118\"/>\r\n    </defs>\r\n    <g transform=\"translate(188.469375 16.318125)scale(0.12 -0.12)\">\r\n     <use xlink:href=\"#DejaVuSans-69\"/>\r\n     <use x=\"63.183594\" xlink:href=\"#DejaVuSans-108\"/>\r\n     <use x=\"90.966797\" xlink:href=\"#DejaVuSans-98\"/>\r\n     <use x=\"154.443359\" xlink:href=\"#DejaVuSans-111\"/>\r\n     <use x=\"215.625\" xlink:href=\"#DejaVuSans-119\"/>\r\n     <use x=\"297.412109\" xlink:href=\"#DejaVuSans-32\"/>\r\n     <use x=\"329.199219\" xlink:href=\"#DejaVuSans-67\"/>\r\n     <use x=\"399.023438\" xlink:href=\"#DejaVuSans-117\"/>\r\n     <use x=\"462.402344\" xlink:href=\"#DejaVuSans-114\"/>\r\n     <use x=\"503.515625\" xlink:href=\"#DejaVuSans-118\"/>\r\n     <use x=\"562.695312\" xlink:href=\"#DejaVuSans-101\"/>\r\n    </g>\r\n   </g>\r\n  </g>\r\n </g>\r\n <defs>\r\n  <clipPath id=\"pab7bf78d5b\">\r\n   <rect height=\"217.44\" width=\"334.8\" x=\"58.523438\" y=\"22.318125\"/>\r\n  </clipPath>\r\n </defs>\r\n</svg>\r\n",
      "image/png": "[encoded data removed]"
     },
     "metadata": {
      "needs_background": "light"
     }
    }
   ],
   "source": [
    "K_clusters = range(1,10)\n",
    "kmeans = [KMeans(n_clusters=i) for i in K_clusters]\n",
    "Y_axis = Estaciones[['Latitude']]\n",
    "X_axis = Estaciones[['Longitude']]\n",
    "score = [kmeans[i].fit(Y_axis).score(Y_axis) for i in range(len(kmeans))]\n",
    "# Visualize\n",
    "pt.plot(K_clusters, score)\n",
    "pt.xlabel('Number of Clusters')\n",
    "pt.ylabel('Score')\n",
    "pt.title('Elbow Curve')\n",
    "pt.show()"
   ]
  },
  {
   "cell_type": "code",
   "execution_count": 14,
   "metadata": {},
   "outputs": [
    {
     "output_type": "execute_result",
     "data": {
      "text/plain": "    Latitude  Longitude  cluster_label\n0  40.416896  -3.702425              0\n1  40.417001  -3.702421              0\n2  40.420589  -3.705842              0\n3  40.430294  -3.706917              0\n4  40.428552  -3.702587              0\n5  40.428528  -3.702060              0\n6  40.424148  -3.698447              0\n7  40.425191  -3.697771              0\n8  40.427868  -3.695440              0\n9  40.415606  -3.709508              0",
      "text/html": "<div>\n<style scoped>\n    .dataframe tbody tr th:only-of-type {\n        vertical-align: middle;\n    }\n\n    .dataframe tbody tr th {\n        vertical-align: top;\n    }\n\n    .dataframe thead th {\n        text-align: right;\n    }\n</style>\n<table border=\"1\" class=\"dataframe\">\n  <thead>\n    <tr style=\"text-align: right;\">\n      <th></th>\n      <th>Latitude</th>\n      <th>Longitude</th>\n      <th>cluster_label</th>\n    </tr>\n  </thead>\n  <tbody>\n    <tr>\n      <th>0</th>\n      <td>40.416896</td>\n      <td>-3.702425</td>\n      <td>0</td>\n    </tr>\n    <tr>\n      <th>1</th>\n      <td>40.417001</td>\n      <td>-3.702421</td>\n      <td>0</td>\n    </tr>\n    <tr>\n      <th>2</th>\n      <td>40.420589</td>\n      <td>-3.705842</td>\n      <td>0</td>\n    </tr>\n    <tr>\n      <th>3</th>\n      <td>40.430294</td>\n      <td>-3.706917</td>\n      <td>0</td>\n    </tr>\n    <tr>\n      <th>4</th>\n      <td>40.428552</td>\n      <td>-3.702587</td>\n      <td>0</td>\n    </tr>\n    <tr>\n      <th>5</th>\n      <td>40.428528</td>\n      <td>-3.702060</td>\n      <td>0</td>\n    </tr>\n    <tr>\n      <th>6</th>\n      <td>40.424148</td>\n      <td>-3.698447</td>\n      <td>0</td>\n    </tr>\n    <tr>\n      <th>7</th>\n      <td>40.425191</td>\n      <td>-3.697771</td>\n      <td>0</td>\n    </tr>\n    <tr>\n      <th>8</th>\n      <td>40.427868</td>\n      <td>-3.695440</td>\n      <td>0</td>\n    </tr>\n    <tr>\n      <th>9</th>\n      <td>40.415606</td>\n      <td>-3.709508</td>\n      <td>0</td>\n    </tr>\n  </tbody>\n</table>\n</div>"
     },
     "metadata": {},
     "execution_count": 14
    }
   ],
   "source": [
    "kmeans = KMeans(n_clusters = 4)\n",
    "kmeans.fit(Estaciones[['Latitude', \"Longitude\"]]) # Compute k-means clustering.\n",
    "df1 = Estaciones[['Latitude', \"Longitude\"]].copy()\n",
    "df1['cluster_label'] = kmeans.fit_predict(Estaciones[['Latitude', \"Longitude\"]])\n",
    "centers = kmeans.cluster_centers_ # Coordinates of cluster centers.\n",
    "labels = kmeans.predict(Estaciones[['Latitude', \"Longitude\"]]) # Labels of each point\n",
    "df1.head(10)"
   ]
  },
  {
   "cell_type": "code",
   "execution_count": 15,
   "metadata": {},
   "outputs": [
    {
     "output_type": "display_data",
     "data": {
      "application/vnd.plotly.v1+json": {
       "config": {
        "plotlyServerURL": "https://plot.ly"
       },
       "data": [
        {
         "lat": [
          40.4168961,
          40.4170009,
          40.4205886,
          40.4302937,
          40.4285524,
          40.428528,
          40.424147999999995,
          40.4251906,
          40.427868200000006,
          40.4156057,
          40.4250863,
          40.42694829999999,
          40.42842460000001,
          40.4273264,
          40.426095700000005,
          40.426164899999996,
          40.4230721,
          40.4232649,
          40.4207773,
          40.42186160000001,
          40.4192342,
          40.4197872,
          40.419720399999996,
          40.4200783,
          40.4197429,
          40.417908000000004,
          40.4173114,
          40.417278100000004,
          40.423854999999996,
          40.4132798,
          40.418166299999996,
          40.4162619,
          40.419209499999994,
          40.4163638,
          40.4150099,
          40.4157138,
          40.4146755,
          40.414193100000006,
          40.4167281,
          40.41084420000001,
          40.4110406,
          40.4112744,
          40.4138846,
          40.412204700000004,
          40.410708500000005,
          40.4101564,
          40.409761700000004,
          40.407035799999996,
          40.4053153,
          40.404785100000005,
          40.405610700000004,
          40.4060941,
          40.4083684,
          40.407560600000004,
          40.4144226,
          40.4089282,
          40.426682799999995,
          40.42397570000001,
          40.4184192,
          40.4295658,
          40.4222862,
          40.4255495,
          40.419752,
          40.42139829999999,
          40.4213148,
          40.4179237,
          40.416560499999996,
          40.4108472,
          40.412837200000006,
          40.409808,
          40.41530529999999,
          40.4159569,
          40.41574129999999,
          40.411447499999994,
          40.411762700000004,
          40.4082805,
          40.407672600000005,
          40.40635,
          40.400910100000004,
          40.4051451,
          40.4075685,
          40.4074902,
          40.409296999999995,
          40.4084556,
          40.4130243,
          40.4032501,
          40.421501,
          40.4186148,
          40.427735999999996,
          40.4313576,
          40.427258200000004,
          40.4250361,
          40.426134000000005,
          40.4262945,
          40.4257046,
          40.422699,
          40.422658399999996,
          40.422064,
          40.4226906,
          40.4242625,
          40.426185100000005,
          40.424845700000006,
          40.4231526,
          40.4211802,
          40.430305700000005,
          40.4268331,
          40.4267905,
          40.4251002,
          40.424963,
          40.421524600000005,
          40.4273005,
          40.4300481,
          40.4344969,
          40.4337322,
          40.4337036,
          40.432599100000004,
          40.427657,
          40.4277456,
          40.425394399999995,
          40.42402,
          40.42412,
          40.4309797,
          40.400781,
          40.4013216,
          40.4032208,
          40.4017926,
          40.4295863,
          40.4306458,
          40.4220812,
          40.4034076,
          40.4035988,
          40.3919385,
          40.39726160000001,
          40.4591366,
          40.458531799999996,
          40.4572824,
          40.4592351,
          40.4548456,
          40.4527164,
          40.4522938,
          40.4510188,
          40.4480662,
          40.449861299999995,
          40.4488924,
          40.4483269,
          40.4463667,
          40.447125,
          40.4453307,
          40.445411,
          40.4440297,
          40.445741399999996,
          40.4442258,
          40.4412115,
          40.441386,
          40.4415974,
          40.4396792,
          40.438994,
          40.4385316,
          40.4379444,
          40.434473100000005,
          40.435285,
          40.4355143,
          40.4345973,
          40.43340870000001,
          40.4338516,
          40.430952399999995,
          40.4323655,
          40.429887,
          40.457246600000005,
          40.454385200000004,
          40.4138333,
          40.413736,
          40.4044722,
          40.401611100000004,
          40.400999999999996,
          40.39975,
          40.4008888,
          40.398179799999994,
          40.3974444,
          40.396222200000004,
          40.39425,
          40.3914722,
          40.4017222,
          40.3979722,
          40.3941388,
          40.41825,
          40.4186666,
          40.425635,
          40.426,
          40.4250833,
          40.4290555,
          40.4301666,
          40.431194399999995,
          40.4350277,
          40.4343333,
          40.434638799999995,
          40.431861100000006,
          40.4324722,
          40.43725,
          40.4392222,
          40.4441388,
          40.451583299999996,
          40.433111100000005,
          40.434361100000004,
          40.43369439999999,
          40.438694399999996,
          40.4411388,
          40.44175,
          40.447666600000005,
          40.4535,
          40.46075020000001,
          40.4630277,
          40.4663611,
          40.4659166,
          40.419674,
          40.4206389,
          40.398247
         ],
         "lon": [
          -3.7024255,
          -3.7024207000000002,
          -3.7058415,
          -3.7069171,
          -3.7025875,
          -3.7020599,
          -3.6984470000000003,
          -3.6977714999999995,
          -3.6954403,
          -3.7095084000000003,
          -3.6918807,
          -3.7035918,
          -3.7061931000000006,
          -3.7104417,
          -3.713479,
          -3.7073763999999994,
          -3.7075065,
          -3.7038312000000007,
          -3.6996502,
          -3.6954983,
          -3.6954615,
          -3.7014814,
          -3.7015235,
          -3.7065376000000003,
          -3.7080733,
          -3.710692,
          -3.7064809000000003,
          -3.7063837,
          -3.694475,
          -3.6956178,
          -3.6992599999999998,
          -3.6957355000000005,
          -3.711504,
          -3.7068969,
          -3.7061032,
          -3.7031807999999997,
          -3.7036824999999998,
          -3.7103285,
          -3.7124038,
          -3.7144964,
          -3.7120733999999995,
          -3.7088337,
          -3.7049407,
          -3.6991147000000004,
          -3.6982318,
          -3.7025023999999997,
          -3.7040665999999995,
          -3.7110513,
          -3.7071259,
          -3.7028265,
          -3.7022591,
          -3.6992759,
          -3.6933462999999995,
          -3.6935205,
          -3.7007163999999997,
          -3.7008803,
          -3.7004230000000002,
          -3.7020842000000003,
          -3.7032413999999996,
          -3.7126299,
          -3.6978949999999995,
          -3.7043418,
          -3.6883980000000003,
          -3.6752045,
          -3.6724968000000002,
          -3.6708959,
          -3.6904525,
          -3.693225,
          -3.6912023,
          -3.688822,
          -3.6779232000000004,
          -3.6738864999999996,
          -3.6691837999999994,
          -3.6689089,
          -3.6766812999999994,
          -3.6784837999999995,
          -3.6750121,
          -3.6704220000000003,
          -3.6744803999999998,
          -3.6803873999999994,
          -3.6902255,
          -3.6901233999999996,
          -3.691987,
          -3.6697526,
          -3.6751105,
          -3.6726019,
          -3.6800080000000004,
          -3.6926217000000006,
          -3.6832566,
          -3.6838303,
          -3.6752024,
          -3.6837876000000005,
          -3.6787441,
          -3.6865463,
          -3.6893697999999997,
          -3.6909648,
          -3.6870547999999994,
          -3.6821792999999996,
          -3.6801307,
          -3.6753567000000005,
          -3.6738714,
          -3.6738635000000004,
          -3.6691523,
          -3.6840229,
          -3.6865654,
          -3.6895336000000003,
          -3.6873921999999997,
          -3.6877226999999997,
          -3.6877449999999996,
          -3.6884368999999997,
          -3.6706024,
          -3.6816402000000004,
          -3.7206892999999996,
          -3.7175434999999997,
          -3.7175114999999996,
          -3.7246532,
          -3.7205129,
          -3.7174157999999995,
          -3.7170447999999996,
          -3.7116029999999998,
          -3.711703,
          -3.7188898,
          -3.6882406999999997,
          -3.6863218,
          -3.6944767999999995,
          -3.6987665,
          -3.6963983,
          -3.7133412000000003,
          -3.7218482,
          -3.7108108,
          -3.7064516000000003,
          -3.6971828999999996,
          -3.6945025,
          -3.6894150999999997,
          -3.684715,
          -3.7009675000000004,
          -3.691533,
          -3.6946218,
          -3.6990077000000006,
          -3.692651,
          -3.6817962,
          -3.695286,
          -3.6881689,
          -3.6905604,
          -3.6797296000000004,
          -3.7036675000000003,
          -3.7001669,
          -3.690861,
          -3.6853312000000007,
          -3.6956047,
          -3.6917932,
          -3.6787169,
          -3.7039582,
          -3.7016321000000003,
          -3.6927821000000005,
          -3.6907784,
          -3.7154328999999997,
          -3.6982209000000004,
          -3.682862,
          -3.7015686000000003,
          -3.6948626000000004,
          -3.6892367999999993,
          -3.678492,
          -3.6879154,
          -3.708439,
          -3.6993465,
          -3.6758555,
          -3.6712822999999997,
          -3.6763439,
          -3.6835926,
          -3.7135833,
          -3.717487,
          -3.6959166,
          -3.7138055,
          -3.7043611000000003,
          -3.6983888,
          -3.6935833,
          -3.7045805,
          -3.7065277,
          -3.6983055,
          -3.6937222000000003,
          -3.6941943999999998,
          -3.6783055,
          -3.66925,
          -3.6758888,
          -3.6766111000000006,
          -3.6657777,
          -3.669339,
          -3.6653055,
          -3.6615277,
          -3.6782777,
          -3.6638888,
          -3.6590555,
          -3.6555277000000004,
          -3.6835833,
          -3.674,
          -3.6714165999999997,
          -3.6655555,
          -3.6772222,
          -3.6754443999999995,
          -3.6751388,
          -3.6780555,
          -3.6915555,
          -3.7149165999999996,
          -3.7046666,
          -3.7038333,
          -3.7080832999999997,
          -3.7144722000000003,
          -3.7041665999999998,
          -3.7032777,
          -3.6989925,
          -3.6973333,
          -3.6886388,
          -3.6884722,
          -3.7026735,
          -3.7047165,
          -3.716591
         ],
         "marker": {
          "color": [
           0,
           0,
           0,
           0,
           0,
           0,
           0,
           0,
           0,
           0,
           1,
           0,
           0,
           0,
           0,
           0,
           0,
           0,
           0,
           0,
           0,
           0,
           0,
           0,
           0,
           0,
           0,
           0,
           0,
           3,
           0,
           3,
           0,
           0,
           0,
           0,
           0,
           0,
           0,
           0,
           0,
           0,
           0,
           3,
           3,
           3,
           3,
           3,
           3,
           3,
           3,
           3,
           3,
           3,
           3,
           3,
           0,
           0,
           0,
           0,
           0,
           0,
           1,
           1,
           1,
           1,
           3,
           3,
           3,
           3,
           1,
           1,
           1,
           1,
           1,
           1,
           1,
           1,
           1,
           3,
           3,
           3,
           3,
           1,
           1,
           1,
           1,
           3,
           1,
           1,
           1,
           1,
           1,
           1,
           1,
           1,
           1,
           1,
           1,
           1,
           1,
           1,
           1,
           1,
           1,
           1,
           1,
           1,
           1,
           1,
           1,
           1,
           0,
           0,
           0,
           0,
           0,
           0,
           0,
           0,
           0,
           0,
           3,
           3,
           3,
           3,
           0,
           0,
           0,
           3,
           3,
           3,
           3,
           2,
           2,
           2,
           2,
           2,
           2,
           2,
           2,
           2,
           2,
           2,
           2,
           2,
           2,
           2,
           2,
           2,
           2,
           2,
           2,
           2,
           2,
           2,
           0,
           2,
           2,
           0,
           2,
           2,
           1,
           1,
           0,
           0,
           1,
           1,
           2,
           2,
           0,
           0,
           3,
           3,
           3,
           3,
           3,
           3,
           3,
           3,
           3,
           3,
           3,
           1,
           3,
           1,
           1,
           1,
           1,
           1,
           1,
           1,
           1,
           1,
           1,
           1,
           1,
           1,
           1,
           1,
           2,
           2,
           2,
           0,
           0,
           0,
           0,
           0,
           2,
           2,
           2,
           2,
           2,
           2,
           0,
           0,
           3
          ],
          "colorscale": [
           [
            0,
            "#636EFA"
           ],
           [
            0.1111111111111111,
            "#EF553B"
           ],
           [
            0.2222222222222222,
            "#00CC96"
           ],
           [
            0.3333333333333333,
            "#AB63FA"
           ],
           [
            0.4444444444444444,
            "#FFA15A"
           ],
           [
            0.5555555555555556,
            "#19D3F3"
           ],
           [
            0.6666666666666666,
            "#FF6692"
           ],
           [
            0.7777777777777778,
            "#B6E880"
           ],
           [
            0.8888888888888888,
            "#FF97FF"
           ],
           [
            1,
            "#FECB52"
           ]
          ],
          "showscale": true
         },
         "mode": "markers",
         "text": [
          0,
          0,
          0,
          0,
          0,
          0,
          0,
          0,
          0,
          0,
          1,
          0,
          0,
          0,
          0,
          0,
          0,
          0,
          0,
          0,
          0,
          0,
          0,
          0,
          0,
          0,
          0,
          0,
          0,
          3,
          0,
          3,
          0,
          0,
          0,
          0,
          0,
          0,
          0,
          0,
          0,
          0,
          0,
          3,
          3,
          3,
          3,
          3,
          3,
          3,
          3,
          3,
          3,
          3,
          3,
          3,
          0,
          0,
          0,
          0,
          0,
          0,
          1,
          1,
          1,
          1,
          3,
          3,
          3,
          3,
          1,
          1,
          1,
          1,
          1,
          1,
          1,
          1,
          1,
          3,
          3,
          3,
          3,
          1,
          1,
          1,
          1,
          3,
          1,
          1,
          1,
          1,
          1,
          1,
          1,
          1,
          1,
          1,
          1,
          1,
          1,
          1,
          1,
          1,
          1,
          1,
          1,
          1,
          1,
          1,
          1,
          1,
          0,
          0,
          0,
          0,
          0,
          0,
          0,
          0,
          0,
          0,
          3,
          3,
          3,
          3,
          0,
          0,
          0,
          3,
          3,
          3,
          3,
          2,
          2,
          2,
          2,
          2,
          2,
          2,
          2,
          2,
          2,
          2,
          2,
          2,
          2,
          2,
          2,
          2,
          2,
          2,
          2,
          2,
          2,
          2,
          0,
          2,
          2,
          0,
          2,
          2,
          1,
          1,
          0,
          0,
          1,
          1,
          2,
          2,
          0,
          0,
          3,
          3,
          3,
          3,
          3,
          3,
          3,
          3,
          3,
          3,
          3,
          1,
          3,
          1,
          1,
          1,
          1,
          1,
          1,
          1,
          1,
          1,
          1,
          1,
          1,
          1,
          1,
          1,
          2,
          2,
          2,
          0,
          0,
          0,
          0,
          0,
          2,
          2,
          2,
          2,
          2,
          2,
          0,
          0,
          3
         ],
         "type": "scattermapbox"
        }
       ],
       "layout": {
        "autosize": true,
        "height": 500,
        "hovermode": "closest",
        "mapbox": {
         "accesstoken": "pk.eyJ1IjoiamJlbml0b2wiLCJhIjoiY2tkZW92bnNyMDBmeTJ5cXBmcXNxanFxOCJ9.PDhf4kysLJ7TFJZAEjT8wA",
         "bearing": 0,
         "center": {
          "lat": 40.4168961,
          "lon": -3.7024255
         },
         "pitch": 0,
         "zoom": 10
        },
        "margin": {
         "b": 50,
         "l": 50,
         "r": 0,
         "t": 50
        },
        "template": {
         "data": {
          "bar": [
           {
            "error_x": {
             "color": "#2a3f5f"
            },
            "error_y": {
             "color": "#2a3f5f"
            },
            "marker": {
             "line": {
              "color": "#E5ECF6",
              "width": 0.5
             }
            },
            "type": "bar"
           }
          ],
          "barpolar": [
           {
            "marker": {
             "line": {
              "color": "#E5ECF6",
              "width": 0.5
             }
            },
            "type": "barpolar"
           }
          ],
          "carpet": [
           {
            "aaxis": {
             "endlinecolor": "#2a3f5f",
             "gridcolor": "white",
             "linecolor": "white",
             "minorgridcolor": "white",
             "startlinecolor": "#2a3f5f"
            },
            "baxis": {
             "endlinecolor": "#2a3f5f",
             "gridcolor": "white",
             "linecolor": "white",
             "minorgridcolor": "white",
             "startlinecolor": "#2a3f5f"
            },
            "type": "carpet"
           }
          ],
          "choropleth": [
           {
            "colorbar": {
             "outlinewidth": 0,
             "ticks": ""
            },
            "type": "choropleth"
           }
          ],
          "contour": [
           {
            "colorbar": {
             "outlinewidth": 0,
             "ticks": ""
            },
            "colorscale": [
             [
              0,
              "#0d0887"
             ],
             [
              0.1111111111111111,
              "#46039f"
             ],
             [
              0.2222222222222222,
              "#7201a8"
             ],
             [
              0.3333333333333333,
              "#9c179e"
             ],
             [
              0.4444444444444444,
              "#bd3786"
             ],
             [
              0.5555555555555556,
              "#d8576b"
             ],
             [
              0.6666666666666666,
              "#ed7953"
             ],
             [
              0.7777777777777778,
              "#fb9f3a"
             ],
             [
              0.8888888888888888,
              "#fdca26"
             ],
             [
              1,
              "#f0f921"
             ]
            ],
            "type": "contour"
           }
          ],
          "contourcarpet": [
           {
            "colorbar": {
             "outlinewidth": 0,
             "ticks": ""
            },
            "type": "contourcarpet"
           }
          ],
          "heatmap": [
           {
            "colorbar": {
             "outlinewidth": 0,
             "ticks": ""
            },
            "colorscale": [
             [
              0,
              "#0d0887"
             ],
             [
              0.1111111111111111,
              "#46039f"
             ],
             [
              0.2222222222222222,
              "#7201a8"
             ],
             [
              0.3333333333333333,
              "#9c179e"
             ],
             [
              0.4444444444444444,
              "#bd3786"
             ],
             [
              0.5555555555555556,
              "#d8576b"
             ],
             [
              0.6666666666666666,
              "#ed7953"
             ],
             [
              0.7777777777777778,
              "#fb9f3a"
             ],
             [
              0.8888888888888888,
              "#fdca26"
             ],
             [
              1,
              "#f0f921"
             ]
            ],
            "type": "heatmap"
           }
          ],
          "heatmapgl": [
           {
            "colorbar": {
             "outlinewidth": 0,
             "ticks": ""
            },
            "colorscale": [
             [
              0,
              "#0d0887"
             ],
             [
              0.1111111111111111,
              "#46039f"
             ],
             [
              0.2222222222222222,
              "#7201a8"
             ],
             [
              0.3333333333333333,
              "#9c179e"
             ],
             [
              0.4444444444444444,
              "#bd3786"
             ],
             [
              0.5555555555555556,
              "#d8576b"
             ],
             [
              0.6666666666666666,
              "#ed7953"
             ],
             [
              0.7777777777777778,
              "#fb9f3a"
             ],
             [
              0.8888888888888888,
              "#fdca26"
             ],
             [
              1,
              "#f0f921"
             ]
            ],
            "type": "heatmapgl"
           }
          ],
          "histogram": [
           {
            "marker": {
             "colorbar": {
              "outlinewidth": 0,
              "ticks": ""
             }
            },
            "type": "histogram"
           }
          ],
          "histogram2d": [
           {
            "colorbar": {
             "outlinewidth": 0,
             "ticks": ""
            },
            "colorscale": [
             [
              0,
              "#0d0887"
             ],
             [
              0.1111111111111111,
              "#46039f"
             ],
             [
              0.2222222222222222,
              "#7201a8"
             ],
             [
              0.3333333333333333,
              "#9c179e"
             ],
             [
              0.4444444444444444,
              "#bd3786"
             ],
             [
              0.5555555555555556,
              "#d8576b"
             ],
             [
              0.6666666666666666,
              "#ed7953"
             ],
             [
              0.7777777777777778,
              "#fb9f3a"
             ],
             [
              0.8888888888888888,
              "#fdca26"
             ],
             [
              1,
              "#f0f921"
             ]
            ],
            "type": "histogram2d"
           }
          ],
          "histogram2dcontour": [
           {
            "colorbar": {
             "outlinewidth": 0,
             "ticks": ""
            },
            "colorscale": [
             [
              0,
              "#0d0887"
             ],
             [
              0.1111111111111111,
              "#46039f"
             ],
             [
              0.2222222222222222,
              "#7201a8"
             ],
             [
              0.3333333333333333,
              "#9c179e"
             ],
             [
              0.4444444444444444,
              "#bd3786"
             ],
             [
              0.5555555555555556,
              "#d8576b"
             ],
             [
              0.6666666666666666,
              "#ed7953"
             ],
             [
              0.7777777777777778,
              "#fb9f3a"
             ],
             [
              0.8888888888888888,
              "#fdca26"
             ],
             [
              1,
              "#f0f921"
             ]
            ],
            "type": "histogram2dcontour"
           }
          ],
          "mesh3d": [
           {
            "colorbar": {
             "outlinewidth": 0,
             "ticks": ""
            },
            "type": "mesh3d"
           }
          ],
          "parcoords": [
           {
            "line": {
             "colorbar": {
              "outlinewidth": 0,
              "ticks": ""
             }
            },
            "type": "parcoords"
           }
          ],
          "pie": [
           {
            "automargin": true,
            "type": "pie"
           }
          ],
          "scatter": [
           {
            "marker": {
             "colorbar": {
              "outlinewidth": 0,
              "ticks": ""
             }
            },
            "type": "scatter"
           }
          ],
          "scatter3d": [
           {
            "line": {
             "colorbar": {
              "outlinewidth": 0,
              "ticks": ""
             }
            },
            "marker": {
             "colorbar": {
              "outlinewidth": 0,
              "ticks": ""
             }
            },
            "type": "scatter3d"
           }
          ],
          "scattercarpet": [
           {
            "marker": {
             "colorbar": {
              "outlinewidth": 0,
              "ticks": ""
             }
            },
            "type": "scattercarpet"
           }
          ],
          "scattergeo": [
           {
            "marker": {
             "colorbar": {
              "outlinewidth": 0,
              "ticks": ""
             }
            },
            "type": "scattergeo"
           }
          ],
          "scattergl": [
           {
            "marker": {
             "colorbar": {
              "outlinewidth": 0,
              "ticks": ""
             }
            },
            "type": "scattergl"
           }
          ],
          "scattermapbox": [
           {
            "marker": {
             "colorbar": {
              "outlinewidth": 0,
              "ticks": ""
             }
            },
            "type": "scattermapbox"
           }
          ],
          "scatterpolar": [
           {
            "marker": {
             "colorbar": {
              "outlinewidth": 0,
              "ticks": ""
             }
            },
            "type": "scatterpolar"
           }
          ],
          "scatterpolargl": [
           {
            "marker": {
             "colorbar": {
              "outlinewidth": 0,
              "ticks": ""
             }
            },
            "type": "scatterpolargl"
           }
          ],
          "scatterternary": [
           {
            "marker": {
             "colorbar": {
              "outlinewidth": 0,
              "ticks": ""
             }
            },
            "type": "scatterternary"
           }
          ],
          "surface": [
           {
            "colorbar": {
             "outlinewidth": 0,
             "ticks": ""
            },
            "colorscale": [
             [
              0,
              "#0d0887"
             ],
             [
              0.1111111111111111,
              "#46039f"
             ],
             [
              0.2222222222222222,
              "#7201a8"
             ],
             [
              0.3333333333333333,
              "#9c179e"
             ],
             [
              0.4444444444444444,
              "#bd3786"
             ],
             [
              0.5555555555555556,
              "#d8576b"
             ],
             [
              0.6666666666666666,
              "#ed7953"
             ],
             [
              0.7777777777777778,
              "#fb9f3a"
             ],
             [
              0.8888888888888888,
              "#fdca26"
             ],
             [
              1,
              "#f0f921"
             ]
            ],
            "type": "surface"
           }
          ],
          "table": [
           {
            "cells": {
             "fill": {
              "color": "#EBF0F8"
             },
             "line": {
              "color": "white"
             }
            },
            "header": {
             "fill": {
              "color": "#C8D4E3"
             },
             "line": {
              "color": "white"
             }
            },
            "type": "table"
           }
          ]
         },
         "layout": {
          "annotationdefaults": {
           "arrowcolor": "#2a3f5f",
           "arrowhead": 0,
           "arrowwidth": 1
          },
          "coloraxis": {
           "colorbar": {
            "outlinewidth": 0,
            "ticks": ""
           }
          },
          "colorscale": {
           "diverging": [
            [
             0,
             "#8e0152"
            ],
            [
             0.1,
             "#c51b7d"
            ],
            [
             0.2,
             "#de77ae"
            ],
            [
             0.3,
             "#f1b6da"
            ],
            [
             0.4,
             "#fde0ef"
            ],
            [
             0.5,
             "#f7f7f7"
            ],
            [
             0.6,
             "#e6f5d0"
            ],
            [
             0.7,
             "#b8e186"
            ],
            [
             0.8,
             "#7fbc41"
            ],
            [
             0.9,
             "#4d9221"
            ],
            [
             1,
             "#276419"
            ]
           ],
           "sequential": [
            [
             0,
             "#0d0887"
            ],
            [
             0.1111111111111111,
             "#46039f"
            ],
            [
             0.2222222222222222,
             "#7201a8"
            ],
            [
             0.3333333333333333,
             "#9c179e"
            ],
            [
             0.4444444444444444,
             "#bd3786"
            ],
            [
             0.5555555555555556,
             "#d8576b"
            ],
            [
             0.6666666666666666,
             "#ed7953"
            ],
            [
             0.7777777777777778,
             "#fb9f3a"
            ],
            [
             0.8888888888888888,
             "#fdca26"
            ],
            [
             1,
             "#f0f921"
            ]
           ],
           "sequentialminus": [
            [
             0,
             "#0d0887"
            ],
            [
             0.1111111111111111,
             "#46039f"
            ],
            [
             0.2222222222222222,
             "#7201a8"
            ],
            [
             0.3333333333333333,
             "#9c179e"
            ],
            [
             0.4444444444444444,
             "#bd3786"
            ],
            [
             0.5555555555555556,
             "#d8576b"
            ],
            [
             0.6666666666666666,
             "#ed7953"
            ],
            [
             0.7777777777777778,
             "#fb9f3a"
            ],
            [
             0.8888888888888888,
             "#fdca26"
            ],
            [
             1,
             "#f0f921"
            ]
           ]
          },
          "colorway": [
           "#636efa",
           "#EF553B",
           "#00cc96",
           "#ab63fa",
           "#FFA15A",
           "#19d3f3",
           "#FF6692",
           "#B6E880",
           "#FF97FF",
           "#FECB52"
          ],
          "font": {
           "color": "#2a3f5f"
          },
          "geo": {
           "bgcolor": "white",
           "lakecolor": "white",
           "landcolor": "#E5ECF6",
           "showlakes": true,
           "showland": true,
           "subunitcolor": "white"
          },
          "hoverlabel": {
           "align": "left"
          },
          "hovermode": "closest",
          "mapbox": {
           "style": "light"
          },
          "paper_bgcolor": "white",
          "plot_bgcolor": "#E5ECF6",
          "polar": {
           "angularaxis": {
            "gridcolor": "white",
            "linecolor": "white",
            "ticks": ""
           },
           "bgcolor": "#E5ECF6",
           "radialaxis": {
            "gridcolor": "white",
            "linecolor": "white",
            "ticks": ""
           }
          },
          "scene": {
           "xaxis": {
            "backgroundcolor": "#E5ECF6",
            "gridcolor": "white",
            "gridwidth": 2,
            "linecolor": "white",
            "showbackground": true,
            "ticks": "",
            "zerolinecolor": "white"
           },
           "yaxis": {
            "backgroundcolor": "#E5ECF6",
            "gridcolor": "white",
            "gridwidth": 2,
            "linecolor": "white",
            "showbackground": true,
            "ticks": "",
            "zerolinecolor": "white"
           },
           "zaxis": {
            "backgroundcolor": "#E5ECF6",
            "gridcolor": "white",
            "gridwidth": 2,
            "linecolor": "white",
            "showbackground": true,
            "ticks": "",
            "zerolinecolor": "white"
           }
          },
          "shapedefaults": {
           "line": {
            "color": "#2a3f5f"
           }
          },
          "ternary": {
           "aaxis": {
            "gridcolor": "white",
            "linecolor": "white",
            "ticks": ""
           },
           "baxis": {
            "gridcolor": "white",
            "linecolor": "white",
            "ticks": ""
           },
           "bgcolor": "#E5ECF6",
           "caxis": {
            "gridcolor": "white",
            "linecolor": "white",
            "ticks": ""
           }
          },
          "title": {
           "x": 0.05
          },
          "xaxis": {
           "automargin": true,
           "gridcolor": "white",
           "linecolor": "white",
           "ticks": "",
           "title": {
            "standoff": 15
           },
           "zerolinecolor": "white",
           "zerolinewidth": 2
          },
          "yaxis": {
           "automargin": true,
           "gridcolor": "white",
           "linecolor": "white",
           "ticks": "",
           "title": {
            "standoff": 15
           },
           "zerolinecolor": "white",
           "zerolinewidth": 2
          }
         }
        },
        "title": {
         "x": 0.5
        },
        "width": 750
       }
      }
     },
     "metadata": {}
    }
   ],
   "source": [
    "fig = go.Figure(go.Scattermapbox(\n",
    "        lat=df1[\"Latitude\"],\n",
    "        lon=df1[\"Longitude\"],\n",
    "        mode='markers',\n",
    "        marker=go.scattermapbox.Marker(\n",
    "             color= df1[\"cluster_label\"], showscale=True,\n",
    "             colorscale=px.colors.qualitative.Plotly\n",
    "        ),\n",
    "         text = df1[\"cluster_label\"]\n",
    "       \n",
    "        \n",
    "    ))\n",
    "\n",
    "fig.update_layout(\n",
    "    title = dict( \n",
    "        \n",
    "        x=0.5,\n",
    "    ),\n",
    "\n",
    "    autosize=True,\n",
    "    hovermode='closest',\n",
    "    width=750,\n",
    "    height=500,\n",
    "    margin=dict(\n",
    "        l=50,\n",
    "        r=0,\n",
    "        b=50,\n",
    "        t=50\n",
    "        \n",
    "    ),\n",
    "    mapbox=dict(\n",
    "        accesstoken=mapbox_access_token,\n",
    "        bearing=0,\n",
    "        center=dict(\n",
    "            lat=float(df1[\"Latitude\"].iloc[0]),\n",
    "            lon= float(df1[\"Longitude\"].iloc[0])\n",
    "        ),\n",
    "        pitch=0,\n",
    "        zoom=10\n",
    "    ),\n",
    ")\n",
    "\n",
    "fig.show()"
   ]
  },
  {
   "cell_type": "code",
   "execution_count": 16,
   "metadata": {},
   "outputs": [
    {
     "output_type": "execute_result",
     "data": {
      "text/plain": "   ID Number                        Address   Latitude  Longitude  DistritoId  \\\n0   1     1a            Puerta del Sol nº 1  40.416896  -3.702425           1   \n1   2     1b            Puerta del Sol nº 1  40.417001  -3.702421           1   \n2   3      2         Calle Miguel Moya nº 1  40.420589  -3.705842           1   \n3   4      3  Plaza del Conde Suchil nº 2-4  40.430294  -3.706917           1   \n4   5      4    Calle Manuela Malasaña nº 5  40.428552  -3.702587           1   \n\n  DistritoName  BarrioId   BarrioName  CardinalId CardinalName  \n0       Centro         6          Sol           0            O  \n1       Centro         6          Sol           0            O  \n2       Centro         6          Sol           0            O  \n3       Centro         5  Universidad           0            O  \n4       Centro         5  Universidad           0            O  ",
      "text/html": "<div>\n<style scoped>\n    .dataframe tbody tr th:only-of-type {\n        vertical-align: middle;\n    }\n\n    .dataframe tbody tr th {\n        vertical-align: top;\n    }\n\n    .dataframe thead th {\n        text-align: right;\n    }\n</style>\n<table border=\"1\" class=\"dataframe\">\n  <thead>\n    <tr style=\"text-align: right;\">\n      <th></th>\n      <th>ID</th>\n      <th>Number</th>\n      <th>Address</th>\n      <th>Latitude</th>\n      <th>Longitude</th>\n      <th>DistritoId</th>\n      <th>DistritoName</th>\n      <th>BarrioId</th>\n      <th>BarrioName</th>\n      <th>CardinalId</th>\n      <th>CardinalName</th>\n    </tr>\n  </thead>\n  <tbody>\n    <tr>\n      <th>0</th>\n      <td>1</td>\n      <td>1a</td>\n      <td>Puerta del Sol nº 1</td>\n      <td>40.416896</td>\n      <td>-3.702425</td>\n      <td>1</td>\n      <td>Centro</td>\n      <td>6</td>\n      <td>Sol</td>\n      <td>0</td>\n      <td>O</td>\n    </tr>\n    <tr>\n      <th>1</th>\n      <td>2</td>\n      <td>1b</td>\n      <td>Puerta del Sol nº 1</td>\n      <td>40.417001</td>\n      <td>-3.702421</td>\n      <td>1</td>\n      <td>Centro</td>\n      <td>6</td>\n      <td>Sol</td>\n      <td>0</td>\n      <td>O</td>\n    </tr>\n    <tr>\n      <th>2</th>\n      <td>3</td>\n      <td>2</td>\n      <td>Calle Miguel Moya nº 1</td>\n      <td>40.420589</td>\n      <td>-3.705842</td>\n      <td>1</td>\n      <td>Centro</td>\n      <td>6</td>\n      <td>Sol</td>\n      <td>0</td>\n      <td>O</td>\n    </tr>\n    <tr>\n      <th>3</th>\n      <td>4</td>\n      <td>3</td>\n      <td>Plaza del Conde Suchil nº 2-4</td>\n      <td>40.430294</td>\n      <td>-3.706917</td>\n      <td>1</td>\n      <td>Centro</td>\n      <td>5</td>\n      <td>Universidad</td>\n      <td>0</td>\n      <td>O</td>\n    </tr>\n    <tr>\n      <th>4</th>\n      <td>5</td>\n      <td>4</td>\n      <td>Calle Manuela Malasaña nº 5</td>\n      <td>40.428552</td>\n      <td>-3.702587</td>\n      <td>1</td>\n      <td>Centro</td>\n      <td>5</td>\n      <td>Universidad</td>\n      <td>0</td>\n      <td>O</td>\n    </tr>\n  </tbody>\n</table>\n</div>"
     },
     "metadata": {},
     "execution_count": 16
    }
   ],
   "source": [
    "Estaciones[\"CardinalId\"] =df1[\"cluster_label\"]\n",
    "Estaciones[\"CardinalName\"] =Estaciones[\"CardinalId\"].replace({3:\"S\", 2:\"N\", 0:\"O\", 1:\"E\"}) \n",
    "Estaciones[\"CardinalId\"] =Estaciones[\"CardinalName\"].replace({\"O\":0, \"N\":1, \"E\":2, \"S\":3}) \n",
    "\n",
    "Estaciones.head(5)"
   ]
  },
  {
   "cell_type": "code",
   "execution_count": 120,
   "metadata": {},
   "outputs": [],
   "source": []
  },
  {
   "cell_type": "markdown",
   "metadata": {},
   "source": [
    "# Cardinal Regions (with center)"
   ]
  },
  {
   "cell_type": "code",
   "execution_count": 17,
   "metadata": {
    "tags": []
   },
   "outputs": [
    {
     "output_type": "stream",
     "name": "stdout",
     "text": "[-3.7075  40.42307]\n[-3.69179 40.4457 ]\n[-3.67386 40.42484]\n[-3.6959166 40.4044   ]\n[-3.69546 40.4192 ]\n"
    }
   ],
   "source": [
    "initia = np.array([[-3.7075, 40.42307], [-3.69179, 40.4457], [-3.67386, 40.42484], [-3.6959166, 40.4044], [-3.69546, 40.4192]])\n",
    "len(initia)\n",
    "for i, j in enumerate(initia): \n",
    "    print(j)"
   ]
  },
  {
   "cell_type": "code",
   "execution_count": 18,
   "metadata": {},
   "outputs": [],
   "source": [
    "def haversine_distance(lat1, lon1, lat2, lon2):\n",
    "   r = 6371\n",
    "   phi1 = np.radians(lat1)\n",
    "   phi2 = np.radians(lat2)\n",
    "   delta_phi = np.radians(lat2 - lat1)\n",
    "   delta_lambda = np.radians(lon2 - lon1)\n",
    "   a = np.sin(delta_phi / 2)**2 + np.cos(phi1) * np.cos(phi2) *   np.sin(delta_lambda / 2)**2\n",
    "   res = r * (2 * np.arctan2(np.sqrt(a), np.sqrt(1 - a)))\n",
    "   return np.round(res, 2)"
   ]
  },
  {
   "cell_type": "code",
   "execution_count": 53,
   "metadata": {},
   "outputs": [
    {
     "output_type": "execute_result",
     "data": {
      "text/plain": "4.57"
     },
     "metadata": {},
     "execution_count": 53
    }
   ],
   "source": [
    "haversine_distance(initia[0][0], initia[0][1], initia[1][0], initia[1][1])"
   ]
  },
  {
   "cell_type": "code",
   "execution_count": 19,
   "metadata": {},
   "outputs": [],
   "source": [
    "def cluster(lat2, lon2):\n",
    "    val=np.zeros([len(initia)])\n",
    "    for i, j in enumerate(initia): \n",
    "        val[i] = haversine_distance(j[0], j[1], lat2, lon2)\n",
    "    return np.argmin(val)"
   ]
  },
  {
   "cell_type": "code",
   "execution_count": 76,
   "metadata": {},
   "outputs": [
    {
     "output_type": "execute_result",
     "data": {
      "text/plain": "4"
     },
     "metadata": {},
     "execution_count": 76
    }
   ],
   "source": [
    "cluster(initia[4][0], initia[4][1])"
   ]
  },
  {
   "cell_type": "code",
   "execution_count": 20,
   "metadata": {},
   "outputs": [],
   "source": [
    "Estaciones[\"RegionId\"] = Estaciones['Longitude'].combine(Estaciones['Latitude'], lambda x1, x2:cluster(x1,x2))\n",
    "Estaciones[\"RegionName\"] =Estaciones[\"RegionId\"].replace({0:\"O\", 1:\"N\", 2:\"E\", 3:\"S\", 4:\"C\"}) "
   ]
  },
  {
   "cell_type": "code",
   "execution_count": 21,
   "metadata": {},
   "outputs": [
    {
     "output_type": "execute_result",
     "data": {
      "text/plain": "          ID  Number  Address  Latitude  Longitude  DistritoId  DistritoName  \\\nRegionId                                                                       \n0         55      55       55        55         55          55            55   \n1         41      41       41        41         41          41            41   \n2         49      49       49        49         49          49            49   \n3         39      39       39        39         39          39            39   \n4         33      33       33        33         33          33            33   \n\n          BarrioId  BarrioName  CardinalId  CardinalName  RegionName  \nRegionId                                                              \n0               55          55          55            55          55  \n1               41          41          41            41          41  \n2               49          49          49            49          49  \n3               39          39          39            39          39  \n4               33          33          33            33          33  ",
      "text/html": "<div>\n<style scoped>\n    .dataframe tbody tr th:only-of-type {\n        vertical-align: middle;\n    }\n\n    .dataframe tbody tr th {\n        vertical-align: top;\n    }\n\n    .dataframe thead th {\n        text-align: right;\n    }\n</style>\n<table border=\"1\" class=\"dataframe\">\n  <thead>\n    <tr style=\"text-align: right;\">\n      <th></th>\n      <th>ID</th>\n      <th>Number</th>\n      <th>Address</th>\n      <th>Latitude</th>\n      <th>Longitude</th>\n      <th>DistritoId</th>\n      <th>DistritoName</th>\n      <th>BarrioId</th>\n      <th>BarrioName</th>\n      <th>CardinalId</th>\n      <th>CardinalName</th>\n      <th>RegionName</th>\n    </tr>\n    <tr>\n      <th>RegionId</th>\n      <th></th>\n      <th></th>\n      <th></th>\n      <th></th>\n      <th></th>\n      <th></th>\n      <th></th>\n      <th></th>\n      <th></th>\n      <th></th>\n      <th></th>\n      <th></th>\n    </tr>\n  </thead>\n  <tbody>\n    <tr>\n      <th>0</th>\n      <td>55</td>\n      <td>55</td>\n      <td>55</td>\n      <td>55</td>\n      <td>55</td>\n      <td>55</td>\n      <td>55</td>\n      <td>55</td>\n      <td>55</td>\n      <td>55</td>\n      <td>55</td>\n      <td>55</td>\n    </tr>\n    <tr>\n      <th>1</th>\n      <td>41</td>\n      <td>41</td>\n      <td>41</td>\n      <td>41</td>\n      <td>41</td>\n      <td>41</td>\n      <td>41</td>\n      <td>41</td>\n      <td>41</td>\n      <td>41</td>\n      <td>41</td>\n      <td>41</td>\n    </tr>\n    <tr>\n      <th>2</th>\n      <td>49</td>\n      <td>49</td>\n      <td>49</td>\n      <td>49</td>\n      <td>49</td>\n      <td>49</td>\n      <td>49</td>\n      <td>49</td>\n      <td>49</td>\n      <td>49</td>\n      <td>49</td>\n      <td>49</td>\n    </tr>\n    <tr>\n      <th>3</th>\n      <td>39</td>\n      <td>39</td>\n      <td>39</td>\n      <td>39</td>\n      <td>39</td>\n      <td>39</td>\n      <td>39</td>\n      <td>39</td>\n      <td>39</td>\n      <td>39</td>\n      <td>39</td>\n      <td>39</td>\n    </tr>\n    <tr>\n      <th>4</th>\n      <td>33</td>\n      <td>33</td>\n      <td>33</td>\n      <td>33</td>\n      <td>33</td>\n      <td>33</td>\n      <td>33</td>\n      <td>33</td>\n      <td>33</td>\n      <td>33</td>\n      <td>33</td>\n      <td>33</td>\n    </tr>\n  </tbody>\n</table>\n</div>"
     },
     "metadata": {},
     "execution_count": 21
    }
   ],
   "source": [
    "Estaciones.groupby(by=\"RegionId\").count()"
   ]
  },
  {
   "cell_type": "code",
   "execution_count": 22,
   "metadata": {},
   "outputs": [
    {
     "output_type": "display_data",
     "data": {
      "application/vnd.plotly.v1+json": {
       "config": {
        "plotlyServerURL": "https://plot.ly"
       },
       "data": [
        {
         "lat": [
          40.4168961,
          40.4170009,
          40.4205886,
          40.4302937,
          40.4285524,
          40.428528,
          40.424147999999995,
          40.4251906,
          40.427868200000006,
          40.4156057,
          40.4250863,
          40.42694829999999,
          40.42842460000001,
          40.4273264,
          40.426095700000005,
          40.426164899999996,
          40.4230721,
          40.4232649,
          40.4207773,
          40.42186160000001,
          40.4192342,
          40.4197872,
          40.419720399999996,
          40.4200783,
          40.4197429,
          40.417908000000004,
          40.4173114,
          40.417278100000004,
          40.423854999999996,
          40.4132798,
          40.418166299999996,
          40.4162619,
          40.419209499999994,
          40.4163638,
          40.4150099,
          40.4157138,
          40.4146755,
          40.414193100000006,
          40.4167281,
          40.41084420000001,
          40.4110406,
          40.4112744,
          40.4138846,
          40.412204700000004,
          40.410708500000005,
          40.4101564,
          40.409761700000004,
          40.407035799999996,
          40.4053153,
          40.404785100000005,
          40.405610700000004,
          40.4060941,
          40.4083684,
          40.407560600000004,
          40.4144226,
          40.4089282,
          40.426682799999995,
          40.42397570000001,
          40.4184192,
          40.4295658,
          40.4222862,
          40.4255495,
          40.419752,
          40.42139829999999,
          40.4213148,
          40.4179237,
          40.416560499999996,
          40.4108472,
          40.412837200000006,
          40.409808,
          40.41530529999999,
          40.4159569,
          40.41574129999999,
          40.411447499999994,
          40.411762700000004,
          40.4082805,
          40.407672600000005,
          40.40635,
          40.400910100000004,
          40.4051451,
          40.4075685,
          40.4074902,
          40.409296999999995,
          40.4084556,
          40.4130243,
          40.4032501,
          40.421501,
          40.4186148,
          40.427735999999996,
          40.4313576,
          40.427258200000004,
          40.4250361,
          40.426134000000005,
          40.4262945,
          40.4257046,
          40.422699,
          40.422658399999996,
          40.422064,
          40.4226906,
          40.4242625,
          40.426185100000005,
          40.424845700000006,
          40.4231526,
          40.4211802,
          40.430305700000005,
          40.4268331,
          40.4267905,
          40.4251002,
          40.424963,
          40.421524600000005,
          40.4273005,
          40.4300481,
          40.4344969,
          40.4337322,
          40.4337036,
          40.432599100000004,
          40.427657,
          40.4277456,
          40.425394399999995,
          40.42402,
          40.42412,
          40.4309797,
          40.400781,
          40.4013216,
          40.4032208,
          40.4017926,
          40.4295863,
          40.4306458,
          40.4220812,
          40.4034076,
          40.4035988,
          40.3919385,
          40.39726160000001,
          40.4591366,
          40.458531799999996,
          40.4572824,
          40.4592351,
          40.4548456,
          40.4527164,
          40.4522938,
          40.4510188,
          40.4480662,
          40.449861299999995,
          40.4488924,
          40.4483269,
          40.4463667,
          40.447125,
          40.4453307,
          40.445411,
          40.4440297,
          40.445741399999996,
          40.4442258,
          40.4412115,
          40.441386,
          40.4415974,
          40.4396792,
          40.438994,
          40.4385316,
          40.4379444,
          40.434473100000005,
          40.435285,
          40.4355143,
          40.4345973,
          40.43340870000001,
          40.4338516,
          40.430952399999995,
          40.4323655,
          40.429887,
          40.457246600000005,
          40.454385200000004,
          40.4138333,
          40.413736,
          40.4044722,
          40.401611100000004,
          40.400999999999996,
          40.39975,
          40.4008888,
          40.398179799999994,
          40.3974444,
          40.396222200000004,
          40.39425,
          40.3914722,
          40.4017222,
          40.3979722,
          40.3941388,
          40.41825,
          40.4186666,
          40.425635,
          40.426,
          40.4250833,
          40.4290555,
          40.4301666,
          40.431194399999995,
          40.4350277,
          40.4343333,
          40.434638799999995,
          40.431861100000006,
          40.4324722,
          40.43725,
          40.4392222,
          40.4441388,
          40.451583299999996,
          40.433111100000005,
          40.434361100000004,
          40.43369439999999,
          40.438694399999996,
          40.4411388,
          40.44175,
          40.447666600000005,
          40.4535,
          40.46075020000001,
          40.4630277,
          40.4663611,
          40.4659166,
          40.419674,
          40.4206389,
          40.398247
         ],
         "lon": [
          -3.7024255,
          -3.7024207000000002,
          -3.7058415,
          -3.7069171,
          -3.7025875,
          -3.7020599,
          -3.6984470000000003,
          -3.6977714999999995,
          -3.6954403,
          -3.7095084000000003,
          -3.6918807,
          -3.7035918,
          -3.7061931000000006,
          -3.7104417,
          -3.713479,
          -3.7073763999999994,
          -3.7075065,
          -3.7038312000000007,
          -3.6996502,
          -3.6954983,
          -3.6954615,
          -3.7014814,
          -3.7015235,
          -3.7065376000000003,
          -3.7080733,
          -3.710692,
          -3.7064809000000003,
          -3.7063837,
          -3.694475,
          -3.6956178,
          -3.6992599999999998,
          -3.6957355000000005,
          -3.711504,
          -3.7068969,
          -3.7061032,
          -3.7031807999999997,
          -3.7036824999999998,
          -3.7103285,
          -3.7124038,
          -3.7144964,
          -3.7120733999999995,
          -3.7088337,
          -3.7049407,
          -3.6991147000000004,
          -3.6982318,
          -3.7025023999999997,
          -3.7040665999999995,
          -3.7110513,
          -3.7071259,
          -3.7028265,
          -3.7022591,
          -3.6992759,
          -3.6933462999999995,
          -3.6935205,
          -3.7007163999999997,
          -3.7008803,
          -3.7004230000000002,
          -3.7020842000000003,
          -3.7032413999999996,
          -3.7126299,
          -3.6978949999999995,
          -3.7043418,
          -3.6883980000000003,
          -3.6752045,
          -3.6724968000000002,
          -3.6708959,
          -3.6904525,
          -3.693225,
          -3.6912023,
          -3.688822,
          -3.6779232000000004,
          -3.6738864999999996,
          -3.6691837999999994,
          -3.6689089,
          -3.6766812999999994,
          -3.6784837999999995,
          -3.6750121,
          -3.6704220000000003,
          -3.6744803999999998,
          -3.6803873999999994,
          -3.6902255,
          -3.6901233999999996,
          -3.691987,
          -3.6697526,
          -3.6751105,
          -3.6726019,
          -3.6800080000000004,
          -3.6926217000000006,
          -3.6832566,
          -3.6838303,
          -3.6752024,
          -3.6837876000000005,
          -3.6787441,
          -3.6865463,
          -3.6893697999999997,
          -3.6909648,
          -3.6870547999999994,
          -3.6821792999999996,
          -3.6801307,
          -3.6753567000000005,
          -3.6738714,
          -3.6738635000000004,
          -3.6691523,
          -3.6840229,
          -3.6865654,
          -3.6895336000000003,
          -3.6873921999999997,
          -3.6877226999999997,
          -3.6877449999999996,
          -3.6884368999999997,
          -3.6706024,
          -3.6816402000000004,
          -3.7206892999999996,
          -3.7175434999999997,
          -3.7175114999999996,
          -3.7246532,
          -3.7205129,
          -3.7174157999999995,
          -3.7170447999999996,
          -3.7116029999999998,
          -3.711703,
          -3.7188898,
          -3.6882406999999997,
          -3.6863218,
          -3.6944767999999995,
          -3.6987665,
          -3.6963983,
          -3.7133412000000003,
          -3.7218482,
          -3.7108108,
          -3.7064516000000003,
          -3.6971828999999996,
          -3.6945025,
          -3.6894150999999997,
          -3.684715,
          -3.7009675000000004,
          -3.691533,
          -3.6946218,
          -3.6990077000000006,
          -3.692651,
          -3.6817962,
          -3.695286,
          -3.6881689,
          -3.6905604,
          -3.6797296000000004,
          -3.7036675000000003,
          -3.7001669,
          -3.690861,
          -3.6853312000000007,
          -3.6956047,
          -3.6917932,
          -3.6787169,
          -3.7039582,
          -3.7016321000000003,
          -3.6927821000000005,
          -3.6907784,
          -3.7154328999999997,
          -3.6982209000000004,
          -3.682862,
          -3.7015686000000003,
          -3.6948626000000004,
          -3.6892367999999993,
          -3.678492,
          -3.6879154,
          -3.708439,
          -3.6993465,
          -3.6758555,
          -3.6712822999999997,
          -3.6763439,
          -3.6835926,
          -3.7135833,
          -3.717487,
          -3.6959166,
          -3.7138055,
          -3.7043611000000003,
          -3.6983888,
          -3.6935833,
          -3.7045805,
          -3.7065277,
          -3.6983055,
          -3.6937222000000003,
          -3.6941943999999998,
          -3.6783055,
          -3.66925,
          -3.6758888,
          -3.6766111000000006,
          -3.6657777,
          -3.669339,
          -3.6653055,
          -3.6615277,
          -3.6782777,
          -3.6638888,
          -3.6590555,
          -3.6555277000000004,
          -3.6835833,
          -3.674,
          -3.6714165999999997,
          -3.6655555,
          -3.6772222,
          -3.6754443999999995,
          -3.6751388,
          -3.6780555,
          -3.6915555,
          -3.7149165999999996,
          -3.7046666,
          -3.7038333,
          -3.7080832999999997,
          -3.7144722000000003,
          -3.7041665999999998,
          -3.7032777,
          -3.6989925,
          -3.6973333,
          -3.6886388,
          -3.6884722,
          -3.7026735,
          -3.7047165,
          -3.716591
         ],
         "marker": {
          "color": [
           4,
           4,
           0,
           0,
           0,
           0,
           4,
           4,
           4,
           0,
           4,
           0,
           0,
           0,
           0,
           0,
           0,
           0,
           4,
           4,
           4,
           4,
           4,
           0,
           0,
           0,
           0,
           0,
           4,
           4,
           4,
           4,
           0,
           0,
           0,
           4,
           0,
           0,
           0,
           0,
           0,
           0,
           0,
           4,
           3,
           3,
           3,
           3,
           3,
           3,
           3,
           3,
           3,
           3,
           4,
           3,
           0,
           0,
           0,
           0,
           4,
           0,
           4,
           2,
           2,
           2,
           4,
           3,
           4,
           3,
           2,
           2,
           2,
           2,
           2,
           2,
           2,
           2,
           3,
           3,
           3,
           3,
           3,
           2,
           2,
           2,
           2,
           4,
           2,
           2,
           2,
           2,
           2,
           4,
           4,
           4,
           4,
           2,
           2,
           2,
           2,
           2,
           2,
           2,
           2,
           4,
           4,
           4,
           4,
           4,
           2,
           2,
           0,
           0,
           0,
           0,
           0,
           0,
           0,
           0,
           0,
           0,
           3,
           3,
           3,
           3,
           4,
           0,
           0,
           3,
           3,
           3,
           3,
           1,
           1,
           1,
           1,
           1,
           1,
           1,
           1,
           1,
           1,
           1,
           1,
           1,
           1,
           1,
           1,
           1,
           1,
           1,
           1,
           1,
           1,
           1,
           0,
           1,
           1,
           0,
           1,
           1,
           2,
           1,
           0,
           0,
           2,
           2,
           1,
           1,
           0,
           0,
           3,
           3,
           3,
           3,
           3,
           3,
           3,
           3,
           3,
           3,
           3,
           2,
           3,
           2,
           2,
           2,
           2,
           2,
           2,
           2,
           2,
           2,
           2,
           2,
           2,
           2,
           2,
           2,
           1,
           1,
           1,
           0,
           0,
           1,
           1,
           0,
           1,
           1,
           1,
           1,
           1,
           1,
           0,
           0,
           3
          ],
          "colorscale": [
           [
            0,
            "#636EFA"
           ],
           [
            0.1111111111111111,
            "#EF553B"
           ],
           [
            0.2222222222222222,
            "#00CC96"
           ],
           [
            0.3333333333333333,
            "#AB63FA"
           ],
           [
            0.4444444444444444,
            "#FFA15A"
           ],
           [
            0.5555555555555556,
            "#19D3F3"
           ],
           [
            0.6666666666666666,
            "#FF6692"
           ],
           [
            0.7777777777777778,
            "#B6E880"
           ],
           [
            0.8888888888888888,
            "#FF97FF"
           ],
           [
            1,
            "#FECB52"
           ]
          ],
          "showscale": true
         },
         "mode": "markers",
         "text": [
          4,
          4,
          0,
          0,
          0,
          0,
          4,
          4,
          4,
          0,
          4,
          0,
          0,
          0,
          0,
          0,
          0,
          0,
          4,
          4,
          4,
          4,
          4,
          0,
          0,
          0,
          0,
          0,
          4,
          4,
          4,
          4,
          0,
          0,
          0,
          4,
          0,
          0,
          0,
          0,
          0,
          0,
          0,
          4,
          3,
          3,
          3,
          3,
          3,
          3,
          3,
          3,
          3,
          3,
          4,
          3,
          0,
          0,
          0,
          0,
          4,
          0,
          4,
          2,
          2,
          2,
          4,
          3,
          4,
          3,
          2,
          2,
          2,
          2,
          2,
          2,
          2,
          2,
          3,
          3,
          3,
          3,
          3,
          2,
          2,
          2,
          2,
          4,
          2,
          2,
          2,
          2,
          2,
          4,
          4,
          4,
          4,
          2,
          2,
          2,
          2,
          2,
          2,
          2,
          2,
          4,
          4,
          4,
          4,
          4,
          2,
          2,
          0,
          0,
          0,
          0,
          0,
          0,
          0,
          0,
          0,
          0,
          3,
          3,
          3,
          3,
          4,
          0,
          0,
          3,
          3,
          3,
          3,
          1,
          1,
          1,
          1,
          1,
          1,
          1,
          1,
          1,
          1,
          1,
          1,
          1,
          1,
          1,
          1,
          1,
          1,
          1,
          1,
          1,
          1,
          1,
          0,
          1,
          1,
          0,
          1,
          1,
          2,
          1,
          0,
          0,
          2,
          2,
          1,
          1,
          0,
          0,
          3,
          3,
          3,
          3,
          3,
          3,
          3,
          3,
          3,
          3,
          3,
          2,
          3,
          2,
          2,
          2,
          2,
          2,
          2,
          2,
          2,
          2,
          2,
          2,
          2,
          2,
          2,
          2,
          1,
          1,
          1,
          0,
          0,
          1,
          1,
          0,
          1,
          1,
          1,
          1,
          1,
          1,
          0,
          0,
          3
         ],
         "type": "scattermapbox"
        }
       ],
       "layout": {
        "autosize": true,
        "height": 500,
        "hovermode": "closest",
        "mapbox": {
         "accesstoken": "pk.eyJ1IjoiamJlbml0b2wiLCJhIjoiY2tkZW92bnNyMDBmeTJ5cXBmcXNxanFxOCJ9.PDhf4kysLJ7TFJZAEjT8wA",
         "bearing": 0,
         "center": {
          "lat": 40.4168961,
          "lon": -3.7024255
         },
         "pitch": 0,
         "zoom": 10
        },
        "margin": {
         "b": 50,
         "l": 50,
         "r": 0,
         "t": 50
        },
        "template": {
         "data": {
          "bar": [
           {
            "error_x": {
             "color": "#2a3f5f"
            },
            "error_y": {
             "color": "#2a3f5f"
            },
            "marker": {
             "line": {
              "color": "#E5ECF6",
              "width": 0.5
             }
            },
            "type": "bar"
           }
          ],
          "barpolar": [
           {
            "marker": {
             "line": {
              "color": "#E5ECF6",
              "width": 0.5
             }
            },
            "type": "barpolar"
           }
          ],
          "carpet": [
           {
            "aaxis": {
             "endlinecolor": "#2a3f5f",
             "gridcolor": "white",
             "linecolor": "white",
             "minorgridcolor": "white",
             "startlinecolor": "#2a3f5f"
            },
            "baxis": {
             "endlinecolor": "#2a3f5f",
             "gridcolor": "white",
             "linecolor": "white",
             "minorgridcolor": "white",
             "startlinecolor": "#2a3f5f"
            },
            "type": "carpet"
           }
          ],
          "choropleth": [
           {
            "colorbar": {
             "outlinewidth": 0,
             "ticks": ""
            },
            "type": "choropleth"
           }
          ],
          "contour": [
           {
            "colorbar": {
             "outlinewidth": 0,
             "ticks": ""
            },
            "colorscale": [
             [
              0,
              "#0d0887"
             ],
             [
              0.1111111111111111,
              "#46039f"
             ],
             [
              0.2222222222222222,
              "#7201a8"
             ],
             [
              0.3333333333333333,
              "#9c179e"
             ],
             [
              0.4444444444444444,
              "#bd3786"
             ],
             [
              0.5555555555555556,
              "#d8576b"
             ],
             [
              0.6666666666666666,
              "#ed7953"
             ],
             [
              0.7777777777777778,
              "#fb9f3a"
             ],
             [
              0.8888888888888888,
              "#fdca26"
             ],
             [
              1,
              "#f0f921"
             ]
            ],
            "type": "contour"
           }
          ],
          "contourcarpet": [
           {
            "colorbar": {
             "outlinewidth": 0,
             "ticks": ""
            },
            "type": "contourcarpet"
           }
          ],
          "heatmap": [
           {
            "colorbar": {
             "outlinewidth": 0,
             "ticks": ""
            },
            "colorscale": [
             [
              0,
              "#0d0887"
             ],
             [
              0.1111111111111111,
              "#46039f"
             ],
             [
              0.2222222222222222,
              "#7201a8"
             ],
             [
              0.3333333333333333,
              "#9c179e"
             ],
             [
              0.4444444444444444,
              "#bd3786"
             ],
             [
              0.5555555555555556,
              "#d8576b"
             ],
             [
              0.6666666666666666,
              "#ed7953"
             ],
             [
              0.7777777777777778,
              "#fb9f3a"
             ],
             [
              0.8888888888888888,
              "#fdca26"
             ],
             [
              1,
              "#f0f921"
             ]
            ],
            "type": "heatmap"
           }
          ],
          "heatmapgl": [
           {
            "colorbar": {
             "outlinewidth": 0,
             "ticks": ""
            },
            "colorscale": [
             [
              0,
              "#0d0887"
             ],
             [
              0.1111111111111111,
              "#46039f"
             ],
             [
              0.2222222222222222,
              "#7201a8"
             ],
             [
              0.3333333333333333,
              "#9c179e"
             ],
             [
              0.4444444444444444,
              "#bd3786"
             ],
             [
              0.5555555555555556,
              "#d8576b"
             ],
             [
              0.6666666666666666,
              "#ed7953"
             ],
             [
              0.7777777777777778,
              "#fb9f3a"
             ],
             [
              0.8888888888888888,
              "#fdca26"
             ],
             [
              1,
              "#f0f921"
             ]
            ],
            "type": "heatmapgl"
           }
          ],
          "histogram": [
           {
            "marker": {
             "colorbar": {
              "outlinewidth": 0,
              "ticks": ""
             }
            },
            "type": "histogram"
           }
          ],
          "histogram2d": [
           {
            "colorbar": {
             "outlinewidth": 0,
             "ticks": ""
            },
            "colorscale": [
             [
              0,
              "#0d0887"
             ],
             [
              0.1111111111111111,
              "#46039f"
             ],
             [
              0.2222222222222222,
              "#7201a8"
             ],
             [
              0.3333333333333333,
              "#9c179e"
             ],
             [
              0.4444444444444444,
              "#bd3786"
             ],
             [
              0.5555555555555556,
              "#d8576b"
             ],
             [
              0.6666666666666666,
              "#ed7953"
             ],
             [
              0.7777777777777778,
              "#fb9f3a"
             ],
             [
              0.8888888888888888,
              "#fdca26"
             ],
             [
              1,
              "#f0f921"
             ]
            ],
            "type": "histogram2d"
           }
          ],
          "histogram2dcontour": [
           {
            "colorbar": {
             "outlinewidth": 0,
             "ticks": ""
            },
            "colorscale": [
             [
              0,
              "#0d0887"
             ],
             [
              0.1111111111111111,
              "#46039f"
             ],
             [
              0.2222222222222222,
              "#7201a8"
             ],
             [
              0.3333333333333333,
              "#9c179e"
             ],
             [
              0.4444444444444444,
              "#bd3786"
             ],
             [
              0.5555555555555556,
              "#d8576b"
             ],
             [
              0.6666666666666666,
              "#ed7953"
             ],
             [
              0.7777777777777778,
              "#fb9f3a"
             ],
             [
              0.8888888888888888,
              "#fdca26"
             ],
             [
              1,
              "#f0f921"
             ]
            ],
            "type": "histogram2dcontour"
           }
          ],
          "mesh3d": [
           {
            "colorbar": {
             "outlinewidth": 0,
             "ticks": ""
            },
            "type": "mesh3d"
           }
          ],
          "parcoords": [
           {
            "line": {
             "colorbar": {
              "outlinewidth": 0,
              "ticks": ""
             }
            },
            "type": "parcoords"
           }
          ],
          "pie": [
           {
            "automargin": true,
            "type": "pie"
           }
          ],
          "scatter": [
           {
            "marker": {
             "colorbar": {
              "outlinewidth": 0,
              "ticks": ""
             }
            },
            "type": "scatter"
           }
          ],
          "scatter3d": [
           {
            "line": {
             "colorbar": {
              "outlinewidth": 0,
              "ticks": ""
             }
            },
            "marker": {
             "colorbar": {
              "outlinewidth": 0,
              "ticks": ""
             }
            },
            "type": "scatter3d"
           }
          ],
          "scattercarpet": [
           {
            "marker": {
             "colorbar": {
              "outlinewidth": 0,
              "ticks": ""
             }
            },
            "type": "scattercarpet"
           }
          ],
          "scattergeo": [
           {
            "marker": {
             "colorbar": {
              "outlinewidth": 0,
              "ticks": ""
             }
            },
            "type": "scattergeo"
           }
          ],
          "scattergl": [
           {
            "marker": {
             "colorbar": {
              "outlinewidth": 0,
              "ticks": ""
             }
            },
            "type": "scattergl"
           }
          ],
          "scattermapbox": [
           {
            "marker": {
             "colorbar": {
              "outlinewidth": 0,
              "ticks": ""
             }
            },
            "type": "scattermapbox"
           }
          ],
          "scatterpolar": [
           {
            "marker": {
             "colorbar": {
              "outlinewidth": 0,
              "ticks": ""
             }
            },
            "type": "scatterpolar"
           }
          ],
          "scatterpolargl": [
           {
            "marker": {
             "colorbar": {
              "outlinewidth": 0,
              "ticks": ""
             }
            },
            "type": "scatterpolargl"
           }
          ],
          "scatterternary": [
           {
            "marker": {
             "colorbar": {
              "outlinewidth": 0,
              "ticks": ""
             }
            },
            "type": "scatterternary"
           }
          ],
          "surface": [
           {
            "colorbar": {
             "outlinewidth": 0,
             "ticks": ""
            },
            "colorscale": [
             [
              0,
              "#0d0887"
             ],
             [
              0.1111111111111111,
              "#46039f"
             ],
             [
              0.2222222222222222,
              "#7201a8"
             ],
             [
              0.3333333333333333,
              "#9c179e"
             ],
             [
              0.4444444444444444,
              "#bd3786"
             ],
             [
              0.5555555555555556,
              "#d8576b"
             ],
             [
              0.6666666666666666,
              "#ed7953"
             ],
             [
              0.7777777777777778,
              "#fb9f3a"
             ],
             [
              0.8888888888888888,
              "#fdca26"
             ],
             [
              1,
              "#f0f921"
             ]
            ],
            "type": "surface"
           }
          ],
          "table": [
           {
            "cells": {
             "fill": {
              "color": "#EBF0F8"
             },
             "line": {
              "color": "white"
             }
            },
            "header": {
             "fill": {
              "color": "#C8D4E3"
             },
             "line": {
              "color": "white"
             }
            },
            "type": "table"
           }
          ]
         },
         "layout": {
          "annotationdefaults": {
           "arrowcolor": "#2a3f5f",
           "arrowhead": 0,
           "arrowwidth": 1
          },
          "coloraxis": {
           "colorbar": {
            "outlinewidth": 0,
            "ticks": ""
           }
          },
          "colorscale": {
           "diverging": [
            [
             0,
             "#8e0152"
            ],
            [
             0.1,
             "#c51b7d"
            ],
            [
             0.2,
             "#de77ae"
            ],
            [
             0.3,
             "#f1b6da"
            ],
            [
             0.4,
             "#fde0ef"
            ],
            [
             0.5,
             "#f7f7f7"
            ],
            [
             0.6,
             "#e6f5d0"
            ],
            [
             0.7,
             "#b8e186"
            ],
            [
             0.8,
             "#7fbc41"
            ],
            [
             0.9,
             "#4d9221"
            ],
            [
             1,
             "#276419"
            ]
           ],
           "sequential": [
            [
             0,
             "#0d0887"
            ],
            [
             0.1111111111111111,
             "#46039f"
            ],
            [
             0.2222222222222222,
             "#7201a8"
            ],
            [
             0.3333333333333333,
             "#9c179e"
            ],
            [
             0.4444444444444444,
             "#bd3786"
            ],
            [
             0.5555555555555556,
             "#d8576b"
            ],
            [
             0.6666666666666666,
             "#ed7953"
            ],
            [
             0.7777777777777778,
             "#fb9f3a"
            ],
            [
             0.8888888888888888,
             "#fdca26"
            ],
            [
             1,
             "#f0f921"
            ]
           ],
           "sequentialminus": [
            [
             0,
             "#0d0887"
            ],
            [
             0.1111111111111111,
             "#46039f"
            ],
            [
             0.2222222222222222,
             "#7201a8"
            ],
            [
             0.3333333333333333,
             "#9c179e"
            ],
            [
             0.4444444444444444,
             "#bd3786"
            ],
            [
             0.5555555555555556,
             "#d8576b"
            ],
            [
             0.6666666666666666,
             "#ed7953"
            ],
            [
             0.7777777777777778,
             "#fb9f3a"
            ],
            [
             0.8888888888888888,
             "#fdca26"
            ],
            [
             1,
             "#f0f921"
            ]
           ]
          },
          "colorway": [
           "#636efa",
           "#EF553B",
           "#00cc96",
           "#ab63fa",
           "#FFA15A",
           "#19d3f3",
           "#FF6692",
           "#B6E880",
           "#FF97FF",
           "#FECB52"
          ],
          "font": {
           "color": "#2a3f5f"
          },
          "geo": {
           "bgcolor": "white",
           "lakecolor": "white",
           "landcolor": "#E5ECF6",
           "showlakes": true,
           "showland": true,
           "subunitcolor": "white"
          },
          "hoverlabel": {
           "align": "left"
          },
          "hovermode": "closest",
          "mapbox": {
           "style": "light"
          },
          "paper_bgcolor": "white",
          "plot_bgcolor": "#E5ECF6",
          "polar": {
           "angularaxis": {
            "gridcolor": "white",
            "linecolor": "white",
            "ticks": ""
           },
           "bgcolor": "#E5ECF6",
           "radialaxis": {
            "gridcolor": "white",
            "linecolor": "white",
            "ticks": ""
           }
          },
          "scene": {
           "xaxis": {
            "backgroundcolor": "#E5ECF6",
            "gridcolor": "white",
            "gridwidth": 2,
            "linecolor": "white",
            "showbackground": true,
            "ticks": "",
            "zerolinecolor": "white"
           },
           "yaxis": {
            "backgroundcolor": "#E5ECF6",
            "gridcolor": "white",
            "gridwidth": 2,
            "linecolor": "white",
            "showbackground": true,
            "ticks": "",
            "zerolinecolor": "white"
           },
           "zaxis": {
            "backgroundcolor": "#E5ECF6",
            "gridcolor": "white",
            "gridwidth": 2,
            "linecolor": "white",
            "showbackground": true,
            "ticks": "",
            "zerolinecolor": "white"
           }
          },
          "shapedefaults": {
           "line": {
            "color": "#2a3f5f"
           }
          },
          "ternary": {
           "aaxis": {
            "gridcolor": "white",
            "linecolor": "white",
            "ticks": ""
           },
           "baxis": {
            "gridcolor": "white",
            "linecolor": "white",
            "ticks": ""
           },
           "bgcolor": "#E5ECF6",
           "caxis": {
            "gridcolor": "white",
            "linecolor": "white",
            "ticks": ""
           }
          },
          "title": {
           "x": 0.05
          },
          "xaxis": {
           "automargin": true,
           "gridcolor": "white",
           "linecolor": "white",
           "ticks": "",
           "title": {
            "standoff": 15
           },
           "zerolinecolor": "white",
           "zerolinewidth": 2
          },
          "yaxis": {
           "automargin": true,
           "gridcolor": "white",
           "linecolor": "white",
           "ticks": "",
           "title": {
            "standoff": 15
           },
           "zerolinecolor": "white",
           "zerolinewidth": 2
          }
         }
        },
        "title": {
         "x": 0.5
        },
        "width": 750
       }
      }
     },
     "metadata": {}
    }
   ],
   "source": [
    "fig = go.Figure(go.Scattermapbox(\n",
    "        lat=Estaciones[\"Latitude\"],\n",
    "        lon=Estaciones[\"Longitude\"],\n",
    "        mode='markers',\n",
    "        marker=go.scattermapbox.Marker(\n",
    "             color= Estaciones[\"RegionId\"], showscale=True,\n",
    "             colorscale=px.colors.qualitative.Plotly\n",
    "        ),\n",
    "        \n",
    "       text=Estaciones[\"RegionId\"],\n",
    "        \n",
    "    ))\n",
    "\n",
    "fig.update_layout(\n",
    "    title = dict( \n",
    "        \n",
    "        x=0.5,\n",
    "    ),\n",
    "\n",
    "    autosize=True,\n",
    "    hovermode='closest',\n",
    "    width=750,\n",
    "    height=500,\n",
    "    margin=dict(\n",
    "        l=50,\n",
    "        r=0,\n",
    "        b=50,\n",
    "        t=50\n",
    "        \n",
    "    ),\n",
    "    mapbox=dict(\n",
    "        accesstoken=mapbox_access_token,\n",
    "        bearing=0,\n",
    "        center=dict(\n",
    "            lat=float(Estaciones[\"Latitude\"].iloc[0]),\n",
    "            lon= float(Estaciones[\"Longitude\"].iloc[0])\n",
    "        ),\n",
    "        pitch=0,\n",
    "        zoom=10\n",
    "    ),\n",
    ")\n",
    "\n",
    "fig.show()"
   ]
  },
  {
   "cell_type": "code",
   "execution_count": 127,
   "metadata": {},
   "outputs": [
    {
     "output_type": "execute_result",
     "data": {
      "text/plain": "      ID Number                             Address   Latitude  Longitude  \\\n0      1     1a                 Puerta del Sol nº 1  40.416896  -3.702425   \n1      2     1b                 Puerta del Sol nº 1  40.417001  -3.702421   \n2      3      2              Calle Miguel Moya nº 1  40.420589  -3.705842   \n3      4      3       Plaza del Conde Suchil nº 2-4  40.430294  -3.706917   \n4      5      4         Calle Manuela Malasaña nº 5  40.428552  -3.702587   \n..   ...    ...                                 ...        ...        ...   \n212  216    208               Paseo Castellana, 216  40.466361  -3.688639   \n213  217    209  Paseo Castellana (Fundación Canal)  40.465917  -3.688472   \n214  218    210                       Tres Cruces 7  40.419674  -3.702673   \n215  219    211                         Desengaño 1  40.420639  -3.704716   \n216  220    212               Marqués de Vadillo, 9  40.398247  -3.716591   \n\n     DistritoId DistritoName  BarrioId   BarrioName  CardinalId CardinalName  \\\n0             1       Centro         6          Sol           0            O   \n1             1       Centro         6          Sol           0            O   \n2             1       Centro         6          Sol           0            O   \n3             1       Centro         5  Universidad           0            O   \n4             1       Centro         5  Universidad           0            O   \n..          ...          ...       ...          ...         ...          ...   \n212           6       Tetuan        34  Castillejos           1            N   \n213           6       Tetuan        34  Castillejos           1            N   \n214           1       Centro         6          Sol           0            O   \n215           1       Centro         6          Sol           0            O   \n216          11  Carabanchel        68   San Isidro           3            S   \n\n     RegionId RegionName  \n0           4          O  \n1           4          O  \n2           0          O  \n3           0          O  \n4           0          O  \n..        ...        ...  \n212         1          N  \n213         1          N  \n214         0          O  \n215         0          O  \n216         3          S  \n\n[217 rows x 13 columns]",
      "text/html": "<div>\n<style scoped>\n    .dataframe tbody tr th:only-of-type {\n        vertical-align: middle;\n    }\n\n    .dataframe tbody tr th {\n        vertical-align: top;\n    }\n\n    .dataframe thead th {\n        text-align: right;\n    }\n</style>\n<table border=\"1\" class=\"dataframe\">\n  <thead>\n    <tr style=\"text-align: right;\">\n      <th></th>\n      <th>ID</th>\n      <th>Number</th>\n      <th>Address</th>\n      <th>Latitude</th>\n      <th>Longitude</th>\n      <th>DistritoId</th>\n      <th>DistritoName</th>\n      <th>BarrioId</th>\n      <th>BarrioName</th>\n      <th>CardinalId</th>\n      <th>CardinalName</th>\n      <th>RegionId</th>\n      <th>RegionName</th>\n    </tr>\n  </thead>\n  <tbody>\n    <tr>\n      <th>0</th>\n      <td>1</td>\n      <td>1a</td>\n      <td>Puerta del Sol nº 1</td>\n      <td>40.416896</td>\n      <td>-3.702425</td>\n      <td>1</td>\n      <td>Centro</td>\n      <td>6</td>\n      <td>Sol</td>\n      <td>0</td>\n      <td>O</td>\n      <td>4</td>\n      <td>O</td>\n    </tr>\n    <tr>\n      <th>1</th>\n      <td>2</td>\n      <td>1b</td>\n      <td>Puerta del Sol nº 1</td>\n      <td>40.417001</td>\n      <td>-3.702421</td>\n      <td>1</td>\n      <td>Centro</td>\n      <td>6</td>\n      <td>Sol</td>\n      <td>0</td>\n      <td>O</td>\n      <td>4</td>\n      <td>O</td>\n    </tr>\n    <tr>\n      <th>2</th>\n      <td>3</td>\n      <td>2</td>\n      <td>Calle Miguel Moya nº 1</td>\n      <td>40.420589</td>\n      <td>-3.705842</td>\n      <td>1</td>\n      <td>Centro</td>\n      <td>6</td>\n      <td>Sol</td>\n      <td>0</td>\n      <td>O</td>\n      <td>0</td>\n      <td>O</td>\n    </tr>\n    <tr>\n      <th>3</th>\n      <td>4</td>\n      <td>3</td>\n      <td>Plaza del Conde Suchil nº 2-4</td>\n      <td>40.430294</td>\n      <td>-3.706917</td>\n      <td>1</td>\n      <td>Centro</td>\n      <td>5</td>\n      <td>Universidad</td>\n      <td>0</td>\n      <td>O</td>\n      <td>0</td>\n      <td>O</td>\n    </tr>\n    <tr>\n      <th>4</th>\n      <td>5</td>\n      <td>4</td>\n      <td>Calle Manuela Malasaña nº 5</td>\n      <td>40.428552</td>\n      <td>-3.702587</td>\n      <td>1</td>\n      <td>Centro</td>\n      <td>5</td>\n      <td>Universidad</td>\n      <td>0</td>\n      <td>O</td>\n      <td>0</td>\n      <td>O</td>\n    </tr>\n    <tr>\n      <th>...</th>\n      <td>...</td>\n      <td>...</td>\n      <td>...</td>\n      <td>...</td>\n      <td>...</td>\n      <td>...</td>\n      <td>...</td>\n      <td>...</td>\n      <td>...</td>\n      <td>...</td>\n      <td>...</td>\n      <td>...</td>\n      <td>...</td>\n    </tr>\n    <tr>\n      <th>212</th>\n      <td>216</td>\n      <td>208</td>\n      <td>Paseo Castellana, 216</td>\n      <td>40.466361</td>\n      <td>-3.688639</td>\n      <td>6</td>\n      <td>Tetuan</td>\n      <td>34</td>\n      <td>Castillejos</td>\n      <td>1</td>\n      <td>N</td>\n      <td>1</td>\n      <td>N</td>\n    </tr>\n    <tr>\n      <th>213</th>\n      <td>217</td>\n      <td>209</td>\n      <td>Paseo Castellana (Fundación Canal)</td>\n      <td>40.465917</td>\n      <td>-3.688472</td>\n      <td>6</td>\n      <td>Tetuan</td>\n      <td>34</td>\n      <td>Castillejos</td>\n      <td>1</td>\n      <td>N</td>\n      <td>1</td>\n      <td>N</td>\n    </tr>\n    <tr>\n      <th>214</th>\n      <td>218</td>\n      <td>210</td>\n      <td>Tres Cruces 7</td>\n      <td>40.419674</td>\n      <td>-3.702673</td>\n      <td>1</td>\n      <td>Centro</td>\n      <td>6</td>\n      <td>Sol</td>\n      <td>0</td>\n      <td>O</td>\n      <td>0</td>\n      <td>O</td>\n    </tr>\n    <tr>\n      <th>215</th>\n      <td>219</td>\n      <td>211</td>\n      <td>Desengaño 1</td>\n      <td>40.420639</td>\n      <td>-3.704716</td>\n      <td>1</td>\n      <td>Centro</td>\n      <td>6</td>\n      <td>Sol</td>\n      <td>0</td>\n      <td>O</td>\n      <td>0</td>\n      <td>O</td>\n    </tr>\n    <tr>\n      <th>216</th>\n      <td>220</td>\n      <td>212</td>\n      <td>Marqués de Vadillo, 9</td>\n      <td>40.398247</td>\n      <td>-3.716591</td>\n      <td>11</td>\n      <td>Carabanchel</td>\n      <td>68</td>\n      <td>San Isidro</td>\n      <td>3</td>\n      <td>S</td>\n      <td>3</td>\n      <td>S</td>\n    </tr>\n  </tbody>\n</table>\n<p>217 rows × 13 columns</p>\n</div>"
     },
     "metadata": {},
     "execution_count": 127
    }
   ],
   "source": [
    "Estaciones"
   ]
  },
  {
   "cell_type": "code",
   "execution_count": 23,
   "metadata": {},
   "outputs": [],
   "source": [
    "Estaciones.to_csv( \"../DataFrames/DatosEstaticos.txt\", encoding=\"latin1\")"
   ]
  },
  {
   "cell_type": "code",
   "execution_count": 24,
   "metadata": {},
   "outputs": [],
   "source": [
    "Estaciones = pd.read_csv(\"../DataFrames/DatosEstaticos.txt\", encoding=\"latin1\")"
   ]
  },
  {
   "cell_type": "code",
   "execution_count": 25,
   "metadata": {},
   "outputs": [
    {
     "output_type": "execute_result",
     "data": {
      "text/plain": "     Unnamed: 0   ID Number                             Address   Latitude  \\\n0             0    1     1a                 Puerta del Sol nº 1  40.416896   \n1             1    2     1b                 Puerta del Sol nº 1  40.417001   \n2             2    3      2              Calle Miguel Moya nº 1  40.420589   \n3             3    4      3       Plaza del Conde Suchil nº 2-4  40.430294   \n4             4    5      4         Calle Manuela Malasaña nº 5  40.428552   \n..          ...  ...    ...                                 ...        ...   \n212         212  216    208               Paseo Castellana, 216  40.466361   \n213         213  217    209  Paseo Castellana (Fundación Canal)  40.465917   \n214         214  218    210                       Tres Cruces 7  40.419674   \n215         215  219    211                         Desengaño 1  40.420639   \n216         216  220    212               Marqués de Vadillo, 9  40.398247   \n\n     Longitude  DistritoId DistritoName  BarrioId   BarrioName  CardinalId  \\\n0    -3.702425           1       Centro         6          Sol           0   \n1    -3.702421           1       Centro         6          Sol           0   \n2    -3.705842           1       Centro         6          Sol           0   \n3    -3.706917           1       Centro         5  Universidad           0   \n4    -3.702587           1       Centro         5  Universidad           0   \n..         ...         ...          ...       ...          ...         ...   \n212  -3.688639           6       Tetuan        34  Castillejos           1   \n213  -3.688472           6       Tetuan        34  Castillejos           1   \n214  -3.702673           1       Centro         6          Sol           0   \n215  -3.704716           1       Centro         6          Sol           0   \n216  -3.716591          11  Carabanchel        68   San Isidro           3   \n\n    CardinalName  RegionId RegionName  \n0              O         4          C  \n1              O         4          C  \n2              O         0          O  \n3              O         0          O  \n4              O         0          O  \n..           ...       ...        ...  \n212            N         1          N  \n213            N         1          N  \n214            O         0          O  \n215            O         0          O  \n216            S         3          S  \n\n[217 rows x 14 columns]",
      "text/html": "<div>\n<style scoped>\n    .dataframe tbody tr th:only-of-type {\n        vertical-align: middle;\n    }\n\n    .dataframe tbody tr th {\n        vertical-align: top;\n    }\n\n    .dataframe thead th {\n        text-align: right;\n    }\n</style>\n<table border=\"1\" class=\"dataframe\">\n  <thead>\n    <tr style=\"text-align: right;\">\n      <th></th>\n      <th>Unnamed: 0</th>\n      <th>ID</th>\n      <th>Number</th>\n      <th>Address</th>\n      <th>Latitude</th>\n      <th>Longitude</th>\n      <th>DistritoId</th>\n      <th>DistritoName</th>\n      <th>BarrioId</th>\n      <th>BarrioName</th>\n      <th>CardinalId</th>\n      <th>CardinalName</th>\n      <th>RegionId</th>\n      <th>RegionName</th>\n    </tr>\n  </thead>\n  <tbody>\n    <tr>\n      <th>0</th>\n      <td>0</td>\n      <td>1</td>\n      <td>1a</td>\n      <td>Puerta del Sol nº 1</td>\n      <td>40.416896</td>\n      <td>-3.702425</td>\n      <td>1</td>\n      <td>Centro</td>\n      <td>6</td>\n      <td>Sol</td>\n      <td>0</td>\n      <td>O</td>\n      <td>4</td>\n      <td>C</td>\n    </tr>\n    <tr>\n      <th>1</th>\n      <td>1</td>\n      <td>2</td>\n      <td>1b</td>\n      <td>Puerta del Sol nº 1</td>\n      <td>40.417001</td>\n      <td>-3.702421</td>\n      <td>1</td>\n      <td>Centro</td>\n      <td>6</td>\n      <td>Sol</td>\n      <td>0</td>\n      <td>O</td>\n      <td>4</td>\n      <td>C</td>\n    </tr>\n    <tr>\n      <th>2</th>\n      <td>2</td>\n      <td>3</td>\n      <td>2</td>\n      <td>Calle Miguel Moya nº 1</td>\n      <td>40.420589</td>\n      <td>-3.705842</td>\n      <td>1</td>\n      <td>Centro</td>\n      <td>6</td>\n      <td>Sol</td>\n      <td>0</td>\n      <td>O</td>\n      <td>0</td>\n      <td>O</td>\n    </tr>\n    <tr>\n      <th>3</th>\n      <td>3</td>\n      <td>4</td>\n      <td>3</td>\n      <td>Plaza del Conde Suchil nº 2-4</td>\n      <td>40.430294</td>\n      <td>-3.706917</td>\n      <td>1</td>\n      <td>Centro</td>\n      <td>5</td>\n      <td>Universidad</td>\n      <td>0</td>\n      <td>O</td>\n      <td>0</td>\n      <td>O</td>\n    </tr>\n    <tr>\n      <th>4</th>\n      <td>4</td>\n      <td>5</td>\n      <td>4</td>\n      <td>Calle Manuela Malasaña nº 5</td>\n      <td>40.428552</td>\n      <td>-3.702587</td>\n      <td>1</td>\n      <td>Centro</td>\n      <td>5</td>\n      <td>Universidad</td>\n      <td>0</td>\n      <td>O</td>\n      <td>0</td>\n      <td>O</td>\n    </tr>\n    <tr>\n      <th>...</th>\n      <td>...</td>\n      <td>...</td>\n      <td>...</td>\n      <td>...</td>\n      <td>...</td>\n      <td>...</td>\n      <td>...</td>\n      <td>...</td>\n      <td>...</td>\n      <td>...</td>\n      <td>...</td>\n      <td>...</td>\n      <td>...</td>\n      <td>...</td>\n    </tr>\n    <tr>\n      <th>212</th>\n      <td>212</td>\n      <td>216</td>\n      <td>208</td>\n      <td>Paseo Castellana, 216</td>\n      <td>40.466361</td>\n      <td>-3.688639</td>\n      <td>6</td>\n      <td>Tetuan</td>\n      <td>34</td>\n      <td>Castillejos</td>\n      <td>1</td>\n      <td>N</td>\n      <td>1</td>\n      <td>N</td>\n    </tr>\n    <tr>\n      <th>213</th>\n      <td>213</td>\n      <td>217</td>\n      <td>209</td>\n      <td>Paseo Castellana (Fundación Canal)</td>\n      <td>40.465917</td>\n      <td>-3.688472</td>\n      <td>6</td>\n      <td>Tetuan</td>\n      <td>34</td>\n      <td>Castillejos</td>\n      <td>1</td>\n      <td>N</td>\n      <td>1</td>\n      <td>N</td>\n    </tr>\n    <tr>\n      <th>214</th>\n      <td>214</td>\n      <td>218</td>\n      <td>210</td>\n      <td>Tres Cruces 7</td>\n      <td>40.419674</td>\n      <td>-3.702673</td>\n      <td>1</td>\n      <td>Centro</td>\n      <td>6</td>\n      <td>Sol</td>\n      <td>0</td>\n      <td>O</td>\n      <td>0</td>\n      <td>O</td>\n    </tr>\n    <tr>\n      <th>215</th>\n      <td>215</td>\n      <td>219</td>\n      <td>211</td>\n      <td>Desengaño 1</td>\n      <td>40.420639</td>\n      <td>-3.704716</td>\n      <td>1</td>\n      <td>Centro</td>\n      <td>6</td>\n      <td>Sol</td>\n      <td>0</td>\n      <td>O</td>\n      <td>0</td>\n      <td>O</td>\n    </tr>\n    <tr>\n      <th>216</th>\n      <td>216</td>\n      <td>220</td>\n      <td>212</td>\n      <td>Marqués de Vadillo, 9</td>\n      <td>40.398247</td>\n      <td>-3.716591</td>\n      <td>11</td>\n      <td>Carabanchel</td>\n      <td>68</td>\n      <td>San Isidro</td>\n      <td>3</td>\n      <td>S</td>\n      <td>3</td>\n      <td>S</td>\n    </tr>\n  </tbody>\n</table>\n<p>217 rows × 14 columns</p>\n</div>"
     },
     "metadata": {},
     "execution_count": 25
    }
   ],
   "source": [
    "Estaciones"
   ]
  }
 ]
}