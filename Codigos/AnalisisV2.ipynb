{
 "metadata": {
  "language_info": {
   "codemirror_mode": {
    "name": "ipython",
    "version": 3
   },
   "file_extension": ".py",
   "mimetype": "text/x-python",
   "name": "python",
   "nbconvert_exporter": "python",
   "pygments_lexer": "ipython3",
   "version": "3.7.7-final"
  },
  "orig_nbformat": 2,
  "kernelspec": {
   "name": "python37764bitdatacondadc3d4e752f5544e9b20925fdd8c32237",
   "display_name": "Python 3.7.7 64-bit ('Data': conda)"
  }
 },
 "nbformat": 4,
 "nbformat_minor": 2,
 "cells": [
  {
   "cell_type": "code",
   "execution_count": 1,
   "metadata": {},
   "outputs": [],
   "source": [
    "import pandas as pd\n",
    "import numpy as np\n",
    "\n",
    "import InfoTrayectosModule as Tracks\n",
    "from DecoderModule import Decoder\n",
    "import InfoStationsModule as Stations\n"
   ]
  },
  {
   "cell_type": "markdown",
   "metadata": {},
   "source": [
    "# Download all files from web\n",
    "Using updateFiles(), we compare the list of links with ../Raw/DownloadedFiles.txt. Not listed links are downloaded and uncompress in: ../Raw/(Stations/Tracks)"
   ]
  },
  {
   "cell_type": "code",
   "execution_count": 4,
   "metadata": {
    "tags": []
   },
   "outputs": [
    {
     "output_type": "stream",
     "name": "stdout",
     "text": "/getattachment/8bb73c41-eab0-4e6a-ac92-80c8c68aacc2/201704_Usage_Bicimad.aspx is already saved\n/getattachment/11054216-35d1-4003-b76b-8421c4a46eb4/201705_Usage_Bicimad.aspx is already saved\n/getattachment/c3a71f16-490a-42f9-b02e-384e08ceac2a/201706_Usage_Bicimad.aspx is already saved\n/getattachment/360dcfb0-78a2-49ae-8454-49e97530c1e4/201707_Usage_Bicimad.aspx is already saved\n/getattachment/90cba892-9dc8-4120-b3e1-ca99d783bb5d/201708_Usage_Bicimad.aspx is already saved\n/getattachment/4ec0d958-b441-4da0-8730-b9b5d763cdf9/201709_Usage_Bicimad.aspx is already saved\n/getattachment/b237a0fc-2785-4930-8fa2-11225d839ff9/201710_Usage_Bicimad.aspx is already saved\n/getattachment/dfb84318-8479-4bf1-93a8-957e7f7951e5/201711_Usage_Bicimad.aspx is already saved\n/getattachment/b3df7d48-90a7-4817-a800-e84e5bfd3118/201712_Usage_Bicimad.aspx is already saved\n/getattachment/4a6fa0af-d067-4d1a-84f4-a65fc4579640/201801_Usage_Bicimad.aspx is already saved\n/getattachment/830d666c-62ad-4378-b3a8-2a47ea62e8f2/201802_Usage_Bicimad.aspx is already saved\n/getattachment/f27d2161-32d2-4bfb-9918-15a2222174fe/201803_Usage_Bicimad.aspx is already saved\n/getattachment/bdf3f6fd-e722-45f4-ac40-caecd8b218d8/201804_Usage_Bicimad.aspx is already saved\n/getattachment/f3246f28-a810-4562-a58e-0a413aef37cd/201805_Usage_Bicimad.aspx is already saved\n/getattachment/7e34f639-54b5-4965-a5ee-aaa29a5075f7/201806_Usage_Bicimad.aspx is already saved\n/getattachment/1c6e2098-02c8-4964-958f-753f1a4232ee/201807_Usage_Bicimad.aspx is already saved\n/getattachment/ab8ae136-2c06-4eef-b1a0-786dfbbd32e1/201808_Usage_Bicimad.aspx is already saved\n/getattachment/8d36b898-a09f-442c-9a5d-8c83c056eae8/201809_Usage_Bicimad-(1).aspx is already saved\n/getattachment/037ee8a5-b824-43b1-ac7b-76225c783993/201810_Usage_Bicimad.aspx is already saved\n/getattachment/8fa52e7e-c578-4fc9-afd9-1d263d6f5391/201811_Usage_Bicimad.aspx is already saved\n/getattachment/e62e5702-cdd5-4e23-9600-ead2711e24cb/201812_Usage_Bicimad.aspx is already saved\n/getattachment/2ebcc70a-4914-43c6-9ada-a0f0520032a4/201901_Usage_Bicimad.aspx is already saved\n/getattachment/aa8c34d2-ddba-46d9-b6db-882c0b4a12f0/201902_Usage_Bicimad.aspx is already saved\n/getattachment/9407161f-c66e-4b80-ac22-0d58fe3e7a63/201903_Usage_Bicimad.aspx is already saved\n/getattachment/fe6d4549-6e3d-4efe-8cb7-1669f8dd1c3d/201904_Usage_Bicimad.aspx is already saved\n/getattachment/cda2be99-80ac-4bc9-b3a5-97c6c5e92f61/201905_Usage_Bicimad.aspx is already saved\n/getattachment/7517a650-ccdf-4ab1-b1b0-a1d13694472e/201906_Usage_Bicimad.aspx is already saved\n/getattachment/5b7ce07f-045c-41d0-b244-6e4f76b69842/Bicimad_Estacions_201807.aspx is already saved\n/getattachment/8321277e-4f8b-4a45-89fd-63cbeefa1cf1/Bicimad_Estacions_201808.aspx is already saved\n/getattachment/d736a911-2964-48bf-944d-323a252197aa/Bicimad_Stations_201809.aspx is already saved\n/getattachment/1f9f8c49-b935-4b73-9407-1399cc4dcace/Bicimad_Stations_201810.aspx is already saved\n/getattachment/f86a47fe-efe3-4b0e-ba3d-1db2e4f5da12/Bicimad_Stations_201811.aspx is already saved\n/getattachment/1a73b8d3-e2c6-4306-8ac3-9ce2f032bef1/Bicimad_Stations_201812.aspx is already saved\n/getattachment/17206b97-1de9-4c95-a20f-3331d699d2fa/Bicimad_Stations_201901.aspx is already saved\n/getattachment/97a8bc50-124f-487b-8c24-902241ae8e24/Bicimad_Stations_201902.aspx is already saved\n/getattachment/7be1ee81-a3d5-4b2e-8e7a-57725f191cb5/Bicimad_Stations_201903.aspx is already saved\n/getattachment/a2db1369-6546-4dbe-acd4-c02abc97b58b/Bicimad_Stations_201904.aspx is already saved\n/getattachment/0f82facc-f98d-4be4-a3ff-59930b810fdb/Bicimad_Stations_201905.aspx is already saved\n/getattachment/8ed37748-d63f-44f0-a1bd-89e43e70f35a/Bicimad_Stations_201906.aspx is already saved\n/getattachment/c9b6b3e1-0479-4809-8188-3c57ffff6944/BiciMAD_stations_2019_7_12.aspx is already saved\n/getattachment/39c051f0-ad39-43df-a007-bf660912cc71/BiciMAD_stations_2020_1_5.aspx is already saved\n/getattachment/fdf6b8d5-7fef-428c-b886-a21bf65f41c4/BiciMAD_movements_2020_1_5.aspx is already saved\n/getattachment/e9675b04-3664-4a06-b35f-97f9ce8bbd18/BiciMAD_movements_2019_7_12.aspx is already saved\n/getattachment/aa7ee49d-6156-4b37-825d-0eeca235de4f/202006_stations.aspx is already saved\n/getattachment/c569c188-ca83-46fc-9fc3-95e6701140b2/202006_movements.aspx is already saved\n"
    }
   ],
   "source": [
    "import LocalAutomation as aut\n",
    "\n",
    "\n",
    "aut.updateFiles()"
   ]
  },
  {
   "cell_type": "markdown",
   "metadata": {},
   "source": [
    "# Stations\n",
    "\n",
    "There is a problem with 2018-07 station file. Erase it!"
   ]
  },
  {
   "cell_type": "markdown",
   "metadata": {},
   "source": [
    "## From json to pickle\n",
    "Take all files from ../Raw/Stations and transform them to pickle creating a table."
   ]
  },
  {
   "cell_type": "code",
   "execution_count": 3,
   "metadata": {
    "tags": []
   },
   "outputs": [
    {
     "output_type": "stream",
     "name": "stdout",
     "text": "Finished!\n"
    }
   ],
   "source": [
    "filePath= \"../Raw/Stations\"\n",
    "\n",
    "Stations.fromJSONtoPickle(filePath)"
   ]
  },
  {
   "cell_type": "markdown",
   "metadata": {},
   "source": [
    "## Concatenation of pickles files\n",
    "Concatenate all pkl files from Station. In order not overload memory it uses yield. It is also convinient, to choose the variable to use.<br>\n",
    "As Stations.concatenateAll(filePath)['DockBikes']"
   ]
  },
  {
   "cell_type": "code",
   "execution_count": 23,
   "metadata": {
    "tags": []
   },
   "outputs": [
    {
     "output_type": "stream",
     "name": "stdout",
     "text": "1\n['201907.pkl', '201908.pkl', '201909.pkl', '201910.pkl', '201911.pkl', '201912.pkl', '202001.pkl', '202002.pkl', '202003.pkl', '202004.pkl', '202005.pkl', '202006_stations.pkl', 'Bicimad_Estacions_201808.pkl', 'Bicimad_Estacions_201809.pkl', 'Bicimad_Estacions_201810.pkl', 'Bicimad_Stations_201811.pkl', 'Bicimad_Stations_201812.pkl', 'Bicimad_Stations_201901.pkl', 'Bicimad_Stations_201902.pkl', 'Bicimad_Stations_201903.pkl', 'Bicimad_Stations_201904.pkl', 'Bicimad_Stations_201905.pkl', 'Bicimad_Stations_201906.pkl']\n"
    }
   ],
   "source": [
    "filePath= \"../DataFrames/Stations/\"\n",
    "data=Stations.concatenateAll(filePath)"
   ]
  },
  {
   "cell_type": "markdown",
   "metadata": {},
   "source": [
    "## Decoder creation\n",
    "\n",
    "Index file from web, to check Ids, names, coordinates etc... is outdated. Ids do not change, but as the stations may change over time, it is important to have an updated list. With Station file is possible to obtain it. I dont think is necessary to keep it it in the main table of Stations, because is repeated information.\n",
    "\n",
    "It is not necessary to repeat this operation in a daily routine. Everytime a new station file is available would be the best. With savedecoderList() all files are\n",
    "concatenate, and obtain the info of ID, Address, Longitude and Latitude that is saved in ../DataFrame/DatosEstaticos.txt\n",
    "\n"
   ]
  },
  {
   "cell_type": "code",
   "execution_count": 3,
   "metadata": {
    "tags": []
   },
   "outputs": [
    {
     "output_type": "stream",
     "name": "stdout",
     "text": "1\n['201907.pkl', '201908.pkl', '201909.pkl', '201910.pkl', '201911.pkl', '201912.pkl', '202001.pkl', '202002.pkl', '202003.pkl', '202004.pkl', '202005.pkl', '202006_stations.pkl', 'Bicimad_Estacions_201808.pkl', 'Bicimad_Estacions_201809.pkl', 'Bicimad_Estacions_201810.pkl', 'Bicimad_Stations_201811.pkl', 'Bicimad_Stations_201812.pkl', 'Bicimad_Stations_201901.pkl', 'Bicimad_Stations_201902.pkl', 'Bicimad_Stations_201903.pkl', 'Bicimad_Stations_201904.pkl', 'Bicimad_Stations_201905.pkl', 'Bicimad_Stations_201906.pkl']\nConcatenado\n"
    },
    {
     "output_type": "execute_result",
     "data": {
      "text/plain": "0"
     },
     "metadata": {},
     "execution_count": 3
    }
   ],
   "source": [
    "Stations.SaveDecoderList()"
   ]
  },
  {
   "cell_type": "markdown",
   "metadata": {},
   "source": [
    "## Reduced data\n",
    "\n",
    "Functions to treat data:\n",
    "\n",
    "ChooseRange: User choose a value to show in a daterange. This function ALWAYS must be called<br>\n",
    "\n",
    "ChooseInterval: Set the accuracy of the chosen range\n",
    "\n",
    "ChooseComparator: In case user wanted to compare data: days, weekday, business...\n",
    "\n",
    "\n"
   ]
  },
  {
   "cell_type": "code",
   "execution_count": 49,
   "metadata": {
    "tags": []
   },
   "outputs": [
    {
     "output_type": "execute_result",
     "data": {
      "text/plain": "ID         1    2    3     4    5    6    7    8    9    10   ...  211   212  \\\nDate Date                                                     ...              \n1    0     3.0  5.0  2.0   8.0  3.0  4.0  6.0  5.0  0.0  6.0  ...  8.0  13.0   \n     1     3.0  5.0  2.0   8.0  3.0  4.0  5.0  5.0  0.0  6.0  ...  9.0  15.0   \n     2     3.0  4.0  2.0   8.0  0.0  4.0  6.0  5.0  0.0  6.0  ...  9.0  14.0   \n     3     3.0  4.0  2.0   8.0  0.0  4.0  6.0  5.0  0.0  7.0  ...  9.0  14.0   \n     4     3.0  4.0  2.0   8.0  0.0  4.0  6.0  5.0  0.0  7.0  ...  9.0  14.0   \n...        ...  ...  ...   ...  ...  ...  ...  ...  ...  ...  ...  ...   ...   \n31   19    8.0  3.0  1.0  12.0  3.0  5.0  5.0  1.0  0.0  3.0  ...  9.0   2.0   \n     20    8.0  4.0  0.0  13.0  0.0  2.0  5.0  4.0  3.0  4.0  ...  8.0   2.0   \n     21    9.0  8.0  0.0  14.0  1.0  7.0  5.0  3.0  2.0  4.0  ...  7.0   5.0   \n     22    9.0  8.0  1.0  10.0  2.0  9.0  5.0  3.0  2.0  7.0  ...  6.0  10.0   \n     23    9.0  5.0  0.0  10.0  2.0  5.0  7.0  3.0  1.0  6.0  ...  7.0  12.0   \n\nID          213   214   215  216   217  218   219  220  \nDate Date                                               \n1    0     15.0  18.0  11.0  2.0  20.0  1.0  11.0  NaN  \n     1     16.0  20.0  12.0  4.0  20.0  1.0  12.0  NaN  \n     2     16.0  21.0  12.0  4.0  20.0  1.0  11.0  NaN  \n     3     16.0  21.0  12.0  4.0  21.0  2.0  11.0  NaN  \n     4      1.0  21.0  12.0  4.0  21.0  2.0  11.0  NaN  \n...         ...   ...   ...  ...   ...  ...   ...  ...  \n31   19    13.0  13.0   8.0  5.0  23.0  4.0  13.0  NaN  \n     20    14.0  15.0   3.0  6.0  24.0  5.0  14.0  NaN  \n     21    13.0  14.0   3.0  8.0  23.0  6.0  13.0  NaN  \n     22    18.0  15.0   9.0  2.0  22.0  3.0  11.0  NaN  \n     23    18.0  16.0  10.0  2.0  22.0  2.0  11.0  NaN  \n\n[735 rows x 217 columns]",
      "text/html": "<div>\n<style scoped>\n    .dataframe tbody tr th:only-of-type {\n        vertical-align: middle;\n    }\n\n    .dataframe tbody tr th {\n        vertical-align: top;\n    }\n\n    .dataframe thead th {\n        text-align: right;\n    }\n</style>\n<table border=\"1\" class=\"dataframe\">\n  <thead>\n    <tr style=\"text-align: right;\">\n      <th></th>\n      <th>ID</th>\n      <th>1</th>\n      <th>2</th>\n      <th>3</th>\n      <th>4</th>\n      <th>5</th>\n      <th>6</th>\n      <th>7</th>\n      <th>8</th>\n      <th>9</th>\n      <th>10</th>\n      <th>...</th>\n      <th>211</th>\n      <th>212</th>\n      <th>213</th>\n      <th>214</th>\n      <th>215</th>\n      <th>216</th>\n      <th>217</th>\n      <th>218</th>\n      <th>219</th>\n      <th>220</th>\n    </tr>\n    <tr>\n      <th>Date</th>\n      <th>Date</th>\n      <th></th>\n      <th></th>\n      <th></th>\n      <th></th>\n      <th></th>\n      <th></th>\n      <th></th>\n      <th></th>\n      <th></th>\n      <th></th>\n      <th></th>\n      <th></th>\n      <th></th>\n      <th></th>\n      <th></th>\n      <th></th>\n      <th></th>\n      <th></th>\n      <th></th>\n      <th></th>\n      <th></th>\n    </tr>\n  </thead>\n  <tbody>\n    <tr>\n      <th rowspan=\"5\" valign=\"top\">1</th>\n      <th>0</th>\n      <td>3.0</td>\n      <td>5.0</td>\n      <td>2.0</td>\n      <td>8.0</td>\n      <td>3.0</td>\n      <td>4.0</td>\n      <td>6.0</td>\n      <td>5.0</td>\n      <td>0.0</td>\n      <td>6.0</td>\n      <td>...</td>\n      <td>8.0</td>\n      <td>13.0</td>\n      <td>15.0</td>\n      <td>18.0</td>\n      <td>11.0</td>\n      <td>2.0</td>\n      <td>20.0</td>\n      <td>1.0</td>\n      <td>11.0</td>\n      <td>NaN</td>\n    </tr>\n    <tr>\n      <th>1</th>\n      <td>3.0</td>\n      <td>5.0</td>\n      <td>2.0</td>\n      <td>8.0</td>\n      <td>3.0</td>\n      <td>4.0</td>\n      <td>5.0</td>\n      <td>5.0</td>\n      <td>0.0</td>\n      <td>6.0</td>\n      <td>...</td>\n      <td>9.0</td>\n      <td>15.0</td>\n      <td>16.0</td>\n      <td>20.0</td>\n      <td>12.0</td>\n      <td>4.0</td>\n      <td>20.0</td>\n      <td>1.0</td>\n      <td>12.0</td>\n      <td>NaN</td>\n    </tr>\n    <tr>\n      <th>2</th>\n      <td>3.0</td>\n      <td>4.0</td>\n      <td>2.0</td>\n      <td>8.0</td>\n      <td>0.0</td>\n      <td>4.0</td>\n      <td>6.0</td>\n      <td>5.0</td>\n      <td>0.0</td>\n      <td>6.0</td>\n      <td>...</td>\n      <td>9.0</td>\n      <td>14.0</td>\n      <td>16.0</td>\n      <td>21.0</td>\n      <td>12.0</td>\n      <td>4.0</td>\n      <td>20.0</td>\n      <td>1.0</td>\n      <td>11.0</td>\n      <td>NaN</td>\n    </tr>\n    <tr>\n      <th>3</th>\n      <td>3.0</td>\n      <td>4.0</td>\n      <td>2.0</td>\n      <td>8.0</td>\n      <td>0.0</td>\n      <td>4.0</td>\n      <td>6.0</td>\n      <td>5.0</td>\n      <td>0.0</td>\n      <td>7.0</td>\n      <td>...</td>\n      <td>9.0</td>\n      <td>14.0</td>\n      <td>16.0</td>\n      <td>21.0</td>\n      <td>12.0</td>\n      <td>4.0</td>\n      <td>21.0</td>\n      <td>2.0</td>\n      <td>11.0</td>\n      <td>NaN</td>\n    </tr>\n    <tr>\n      <th>4</th>\n      <td>3.0</td>\n      <td>4.0</td>\n      <td>2.0</td>\n      <td>8.0</td>\n      <td>0.0</td>\n      <td>4.0</td>\n      <td>6.0</td>\n      <td>5.0</td>\n      <td>0.0</td>\n      <td>7.0</td>\n      <td>...</td>\n      <td>9.0</td>\n      <td>14.0</td>\n      <td>1.0</td>\n      <td>21.0</td>\n      <td>12.0</td>\n      <td>4.0</td>\n      <td>21.0</td>\n      <td>2.0</td>\n      <td>11.0</td>\n      <td>NaN</td>\n    </tr>\n    <tr>\n      <th>...</th>\n      <th>...</th>\n      <td>...</td>\n      <td>...</td>\n      <td>...</td>\n      <td>...</td>\n      <td>...</td>\n      <td>...</td>\n      <td>...</td>\n      <td>...</td>\n      <td>...</td>\n      <td>...</td>\n      <td>...</td>\n      <td>...</td>\n      <td>...</td>\n      <td>...</td>\n      <td>...</td>\n      <td>...</td>\n      <td>...</td>\n      <td>...</td>\n      <td>...</td>\n      <td>...</td>\n      <td>...</td>\n    </tr>\n    <tr>\n      <th rowspan=\"5\" valign=\"top\">31</th>\n      <th>19</th>\n      <td>8.0</td>\n      <td>3.0</td>\n      <td>1.0</td>\n      <td>12.0</td>\n      <td>3.0</td>\n      <td>5.0</td>\n      <td>5.0</td>\n      <td>1.0</td>\n      <td>0.0</td>\n      <td>3.0</td>\n      <td>...</td>\n      <td>9.0</td>\n      <td>2.0</td>\n      <td>13.0</td>\n      <td>13.0</td>\n      <td>8.0</td>\n      <td>5.0</td>\n      <td>23.0</td>\n      <td>4.0</td>\n      <td>13.0</td>\n      <td>NaN</td>\n    </tr>\n    <tr>\n      <th>20</th>\n      <td>8.0</td>\n      <td>4.0</td>\n      <td>0.0</td>\n      <td>13.0</td>\n      <td>0.0</td>\n      <td>2.0</td>\n      <td>5.0</td>\n      <td>4.0</td>\n      <td>3.0</td>\n      <td>4.0</td>\n      <td>...</td>\n      <td>8.0</td>\n      <td>2.0</td>\n      <td>14.0</td>\n      <td>15.0</td>\n      <td>3.0</td>\n      <td>6.0</td>\n      <td>24.0</td>\n      <td>5.0</td>\n      <td>14.0</td>\n      <td>NaN</td>\n    </tr>\n    <tr>\n      <th>21</th>\n      <td>9.0</td>\n      <td>8.0</td>\n      <td>0.0</td>\n      <td>14.0</td>\n      <td>1.0</td>\n      <td>7.0</td>\n      <td>5.0</td>\n      <td>3.0</td>\n      <td>2.0</td>\n      <td>4.0</td>\n      <td>...</td>\n      <td>7.0</td>\n      <td>5.0</td>\n      <td>13.0</td>\n      <td>14.0</td>\n      <td>3.0</td>\n      <td>8.0</td>\n      <td>23.0</td>\n      <td>6.0</td>\n      <td>13.0</td>\n      <td>NaN</td>\n    </tr>\n    <tr>\n      <th>22</th>\n      <td>9.0</td>\n      <td>8.0</td>\n      <td>1.0</td>\n      <td>10.0</td>\n      <td>2.0</td>\n      <td>9.0</td>\n      <td>5.0</td>\n      <td>3.0</td>\n      <td>2.0</td>\n      <td>7.0</td>\n      <td>...</td>\n      <td>6.0</td>\n      <td>10.0</td>\n      <td>18.0</td>\n      <td>15.0</td>\n      <td>9.0</td>\n      <td>2.0</td>\n      <td>22.0</td>\n      <td>3.0</td>\n      <td>11.0</td>\n      <td>NaN</td>\n    </tr>\n    <tr>\n      <th>23</th>\n      <td>9.0</td>\n      <td>5.0</td>\n      <td>0.0</td>\n      <td>10.0</td>\n      <td>2.0</td>\n      <td>5.0</td>\n      <td>7.0</td>\n      <td>3.0</td>\n      <td>1.0</td>\n      <td>6.0</td>\n      <td>...</td>\n      <td>7.0</td>\n      <td>12.0</td>\n      <td>18.0</td>\n      <td>16.0</td>\n      <td>10.0</td>\n      <td>2.0</td>\n      <td>22.0</td>\n      <td>2.0</td>\n      <td>11.0</td>\n      <td>NaN</td>\n    </tr>\n  </tbody>\n</table>\n<p>735 rows × 217 columns</p>\n</div>"
     },
     "metadata": {},
     "execution_count": 49
    }
   ],
   "source": [
    "def ChooseRange(df, StartDate, EndDate, Value ):\n",
    "    c0 = df.index.to_series().between(StartDate, EndDate)\n",
    "    return df[c0][Value]\n",
    "def ChooseAccuracy(df, Accuracy):\n",
    "    return df.resample(Accuracy).median()\n",
    "\n",
    "def ChooseComparison(df, Comparator, Interval=''):\n",
    "        Decisions={'Y': df.index.year,\n",
    "                  'M': df.index.month,\n",
    "                  'd': df.index.day,\n",
    "                  'dow':df.index.dayofweek,\n",
    "                  'h': df.index.hour,\n",
    "                  'bd': df.index.dayofweek<5\n",
    "        }\n",
    "        if Comparator=='':\n",
    "            return df.groupby([Decisions[Comparator]]).median()\n",
    "        else:\n",
    "            \n",
    "            return df.groupby([Decisions[Comparator], Decisions[Interval]]).median()\n",
    "\n",
    "\n",
    "\n",
    "StartDate = '2020-5-06 00:48'\n",
    "EndDate = '2020-6-06 00:50'\n",
    "Value='DockBikes'\n",
    "Comparator = 'd'\n",
    "Accuracy = \"h\"\n",
    "Interval=''\n",
    "\n",
    "\n",
    "\n",
    "\n",
    "df = reducedDataRange(data, StartDate, EndDate, Value)\n",
    "ChooseComparison(df, Comparator, Accuracy )\n",
    "# df = df.groupby([df.index.day, df.index.hour]).median()\n",
    "\n",
    "# ChooseInterval(df, 'd')"
   ]
  },
  {
   "cell_type": "markdown",
   "metadata": {},
   "source": []
  },
  {
   "cell_type": "markdown",
   "metadata": {},
   "source": [
    "# class Ploteo\n",
    "\n",
    "Para obtener datos finales y que se pueda meter facilmente en las graficas. Solo funciona para unafecha determinada, no puedes meter una tabla entera."
   ]
  },
  {
   "cell_type": "code",
   "execution_count": 3,
   "metadata": {},
   "outputs": [],
   "source": [
    "toPlot = Stations.Ploteo(df.iloc[0], Decode)\n",
    "toPlot.Value\n",
    "toPlot.Latitude\n",
    "toPlot.Longitude\n",
    "toPlot.Address\n",
    "toPlot.Date\n",
    "toPlot.Index"
   ]
  },
  {
   "cell_type": "markdown",
   "metadata": {},
   "source": [
    "# Decoder Info"
   ]
  },
  {
   "cell_type": "code",
   "execution_count": 13,
   "metadata": {},
   "outputs": [],
   "source": [
    "Decode = Decoder('../DataFrames/DatosEstaticos.txt')\n",
    "Decode.infoStation(['Lavapiés'])"
   ]
  },
  {
   "cell_type": "code",
   "execution_count": 38,
   "metadata": {
    "tags": []
   },
   "outputs": [
    {
     "output_type": "execute_result",
     "data": {
      "text/plain": "ID\n1      40.4168961\n2      40.4170009\n3      40.4205886\n4      40.4302937\n5      40.4285524\n          ...    \n200    40.4318611\n201    40.4324722\n207    40.4343611\n211      40.44175\n213       40.4535\nName: Latitude, Length: 184, dtype: object"
     },
     "metadata": {},
     "execution_count": 38
    }
   ],
   "source": [
    "Decode._obj['Latitude'].loc[data.iloc[0]['DockBikes'].dropna().index]\n"
   ]
  },
  {
   "cell_type": "code",
   "execution_count": 36,
   "metadata": {},
   "outputs": [
    {
     "output_type": "execute_result",
     "data": {
      "text/plain": "Int64Index([  1,   2,   3,   4,   5,   6,   7,   8,   9,  10,\n            ...\n            184, 185, 189, 190, 191, 200, 201, 207, 211, 213],\n           dtype='int64', name='ID', length=1656)"
     },
     "metadata": {},
     "execution_count": 36
    }
   ],
   "source": [
    "data.iloc[0].dropna().index.get_level_values(1)"
   ]
  },
  {
   "cell_type": "code",
   "execution_count": 37,
   "metadata": {},
   "outputs": [
    {
     "output_type": "execute_result",
     "data": {
      "text/plain": "Int64Index([  1,   2,   3,   4,   5,   6,   7,   8,   9,  10,\n            ...\n            184, 185, 189, 190, 191, 200, 201, 207, 211, 213],\n           dtype='int64', name='ID', length=184)"
     },
     "metadata": {},
     "execution_count": 37
    }
   ],
   "source": [
    "data.iloc[0]['DockBikes'].dropna().index"
   ]
  }
 ]
}