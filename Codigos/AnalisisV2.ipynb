{
 "metadata": {
  "language_info": {
   "codemirror_mode": {
    "name": "ipython",
    "version": 3
   },
   "file_extension": ".py",
   "mimetype": "text/x-python",
   "name": "python",
   "nbconvert_exporter": "python",
   "pygments_lexer": "ipython3",
   "version": "3.7.7-final"
  },
  "orig_nbformat": 2,
  "kernelspec": {
   "name": "python37764bitdatacondadc3d4e752f5544e9b20925fdd8c32237",
   "display_name": "Python 3.7.7 64-bit ('Data': conda)"
  }
 },
 "nbformat": 4,
 "nbformat_minor": 2,
 "cells": [
  {
   "cell_type": "code",
   "execution_count": 4,
   "metadata": {},
   "outputs": [],
   "source": [
    "import pandas as pd\n",
    "import numpy as np\n",
    "\n",
    "import InfoTrayectosModule as Tracks\n",
    "from DecoderModule import Decoder\n",
    "import InfoStationsModule as Stations\n"
   ]
  },
  {
   "cell_type": "markdown",
   "metadata": {},
   "source": [
    "# Download all files from web\n",
    "Using updateFiles(), we compare the list of links with ../Raw/DownloadedFiles.txt. Not listed links are downloaded and uncompress in: ../Raw/(Stations/Tracks)"
   ]
  },
  {
   "cell_type": "code",
   "execution_count": 4,
   "metadata": {
    "tags": []
   },
   "outputs": [
    {
     "output_type": "stream",
     "name": "stdout",
     "text": "/getattachment/8bb73c41-eab0-4e6a-ac92-80c8c68aacc2/201704_Usage_Bicimad.aspx is already saved\n/getattachment/11054216-35d1-4003-b76b-8421c4a46eb4/201705_Usage_Bicimad.aspx is already saved\n/getattachment/c3a71f16-490a-42f9-b02e-384e08ceac2a/201706_Usage_Bicimad.aspx is already saved\n/getattachment/360dcfb0-78a2-49ae-8454-49e97530c1e4/201707_Usage_Bicimad.aspx is already saved\n/getattachment/90cba892-9dc8-4120-b3e1-ca99d783bb5d/201708_Usage_Bicimad.aspx is already saved\n/getattachment/4ec0d958-b441-4da0-8730-b9b5d763cdf9/201709_Usage_Bicimad.aspx is already saved\n/getattachment/b237a0fc-2785-4930-8fa2-11225d839ff9/201710_Usage_Bicimad.aspx is already saved\n/getattachment/dfb84318-8479-4bf1-93a8-957e7f7951e5/201711_Usage_Bicimad.aspx is already saved\n/getattachment/b3df7d48-90a7-4817-a800-e84e5bfd3118/201712_Usage_Bicimad.aspx is already saved\n/getattachment/4a6fa0af-d067-4d1a-84f4-a65fc4579640/201801_Usage_Bicimad.aspx is already saved\n/getattachment/830d666c-62ad-4378-b3a8-2a47ea62e8f2/201802_Usage_Bicimad.aspx is already saved\n/getattachment/f27d2161-32d2-4bfb-9918-15a2222174fe/201803_Usage_Bicimad.aspx is already saved\n/getattachment/bdf3f6fd-e722-45f4-ac40-caecd8b218d8/201804_Usage_Bicimad.aspx is already saved\n/getattachment/f3246f28-a810-4562-a58e-0a413aef37cd/201805_Usage_Bicimad.aspx is already saved\n/getattachment/7e34f639-54b5-4965-a5ee-aaa29a5075f7/201806_Usage_Bicimad.aspx is already saved\n/getattachment/1c6e2098-02c8-4964-958f-753f1a4232ee/201807_Usage_Bicimad.aspx is already saved\n/getattachment/ab8ae136-2c06-4eef-b1a0-786dfbbd32e1/201808_Usage_Bicimad.aspx is already saved\n/getattachment/8d36b898-a09f-442c-9a5d-8c83c056eae8/201809_Usage_Bicimad-(1).aspx is already saved\n/getattachment/037ee8a5-b824-43b1-ac7b-76225c783993/201810_Usage_Bicimad.aspx is already saved\n/getattachment/8fa52e7e-c578-4fc9-afd9-1d263d6f5391/201811_Usage_Bicimad.aspx is already saved\n/getattachment/e62e5702-cdd5-4e23-9600-ead2711e24cb/201812_Usage_Bicimad.aspx is already saved\n/getattachment/2ebcc70a-4914-43c6-9ada-a0f0520032a4/201901_Usage_Bicimad.aspx is already saved\n/getattachment/aa8c34d2-ddba-46d9-b6db-882c0b4a12f0/201902_Usage_Bicimad.aspx is already saved\n/getattachment/9407161f-c66e-4b80-ac22-0d58fe3e7a63/201903_Usage_Bicimad.aspx is already saved\n/getattachment/fe6d4549-6e3d-4efe-8cb7-1669f8dd1c3d/201904_Usage_Bicimad.aspx is already saved\n/getattachment/cda2be99-80ac-4bc9-b3a5-97c6c5e92f61/201905_Usage_Bicimad.aspx is already saved\n/getattachment/7517a650-ccdf-4ab1-b1b0-a1d13694472e/201906_Usage_Bicimad.aspx is already saved\n/getattachment/5b7ce07f-045c-41d0-b244-6e4f76b69842/Bicimad_Estacions_201807.aspx is already saved\n/getattachment/8321277e-4f8b-4a45-89fd-63cbeefa1cf1/Bicimad_Estacions_201808.aspx is already saved\n/getattachment/d736a911-2964-48bf-944d-323a252197aa/Bicimad_Stations_201809.aspx is already saved\n/getattachment/1f9f8c49-b935-4b73-9407-1399cc4dcace/Bicimad_Stations_201810.aspx is already saved\n/getattachment/f86a47fe-efe3-4b0e-ba3d-1db2e4f5da12/Bicimad_Stations_201811.aspx is already saved\n/getattachment/1a73b8d3-e2c6-4306-8ac3-9ce2f032bef1/Bicimad_Stations_201812.aspx is already saved\n/getattachment/17206b97-1de9-4c95-a20f-3331d699d2fa/Bicimad_Stations_201901.aspx is already saved\n/getattachment/97a8bc50-124f-487b-8c24-902241ae8e24/Bicimad_Stations_201902.aspx is already saved\n/getattachment/7be1ee81-a3d5-4b2e-8e7a-57725f191cb5/Bicimad_Stations_201903.aspx is already saved\n/getattachment/a2db1369-6546-4dbe-acd4-c02abc97b58b/Bicimad_Stations_201904.aspx is already saved\n/getattachment/0f82facc-f98d-4be4-a3ff-59930b810fdb/Bicimad_Stations_201905.aspx is already saved\n/getattachment/8ed37748-d63f-44f0-a1bd-89e43e70f35a/Bicimad_Stations_201906.aspx is already saved\n/getattachment/c9b6b3e1-0479-4809-8188-3c57ffff6944/BiciMAD_stations_2019_7_12.aspx is already saved\n/getattachment/39c051f0-ad39-43df-a007-bf660912cc71/BiciMAD_stations_2020_1_5.aspx is already saved\n/getattachment/fdf6b8d5-7fef-428c-b886-a21bf65f41c4/BiciMAD_movements_2020_1_5.aspx is already saved\n/getattachment/e9675b04-3664-4a06-b35f-97f9ce8bbd18/BiciMAD_movements_2019_7_12.aspx is already saved\n/getattachment/aa7ee49d-6156-4b37-825d-0eeca235de4f/202006_stations.aspx is already saved\n/getattachment/c569c188-ca83-46fc-9fc3-95e6701140b2/202006_movements.aspx is already saved\n"
    }
   ],
   "source": [
    "import LocalAutomation as aut\n",
    "\n",
    "\n",
    "aut.updateFiles()"
   ]
  },
  {
   "cell_type": "markdown",
   "metadata": {},
   "source": [
    "# Stations\n",
    "\n",
    "There is a problem with 2018-07 station file. Erase it!"
   ]
  },
  {
   "cell_type": "markdown",
   "metadata": {},
   "source": [
    "## From json to pickle\n",
    "Take all files from ../Raw/Stations and transform them to pickle creating a table. "
   ]
  },
  {
   "cell_type": "code",
   "execution_count": 5,
   "metadata": {
    "tags": []
   },
   "outputs": [
    {
     "output_type": "stream",
     "name": "stdout",
     "text": "Finished!\n"
    }
   ],
   "source": [
    "filePath= \"../Raw/Stations\"\n",
    "\n",
    "Stations.fromJSONtoPickle(filePath)"
   ]
  },
  {
   "cell_type": "markdown",
   "metadata": {},
   "source": [
    "## Concatenation of pickles files\n",
    "Concatenate all pkl files from Station. In order not overload memory it uses yield. It is also convinient, to choose the variable to use.<br>\n",
    "As Stations.concatenateAll(filePath)['DockBikes']"
   ]
  },
  {
   "cell_type": "code",
   "execution_count": 6,
   "metadata": {
    "tags": []
   },
   "outputs": [
    {
     "output_type": "stream",
     "name": "stdout",
     "text": "1\n['201907.pkl', '201908.pkl', '201909.pkl', '201910.pkl', '201911.pkl', '201912.pkl', '202001.pkl', '202002.pkl', '202003.pkl', '202004.pkl', '202005.pkl', '202006_stations.pkl', 'Bicimad_Estacions_201808.pkl', 'Bicimad_Estacions_201809.pkl', 'Bicimad_Estacions_201810.pkl', 'Bicimad_Stations_201811.pkl', 'Bicimad_Stations_201812.pkl', 'Bicimad_Stations_201901.pkl', 'Bicimad_Stations_201902.pkl', 'Bicimad_Stations_201903.pkl', 'Bicimad_Stations_201904.pkl', 'Bicimad_Stations_201905.pkl', 'Bicimad_Stations_201906.pkl']\n"
    }
   ],
   "source": [
    "filePath= \"../DataFrames/Stations/\"\n",
    "data=Stations.concatenateAll(filePath)"
   ]
  },
  {
   "cell_type": "markdown",
   "metadata": {},
   "source": [
    "## Decoder creation\n",
    "\n",
    "Index file from web, to check Ids, names, coordinates etc... is outdated. Ids do not change, but as the stations may change over time, it is important to have an updated list. With Station file is possible to obtain it. I dont think is necessary to keep it it in the main table of Stations, because is repeated information.\n",
    "\n",
    "It is not necessary to repeat this operation in a daily routine. Everytime a new station file is available would be the best. With savedecoderList() all files are\n",
    "concatenate, and obtain the info of ID, Address, Longitude and Latitude that is saved in ../DataFrame/DatosEstaticos.txt\n",
    "\n"
   ]
  },
  {
   "cell_type": "code",
   "execution_count": 3,
   "metadata": {
    "tags": []
   },
   "outputs": [
    {
     "output_type": "stream",
     "name": "stdout",
     "text": "1\n['201907.pkl', '201908.pkl', '201909.pkl', '201910.pkl', '201911.pkl', '201912.pkl', '202001.pkl', '202002.pkl', '202003.pkl', '202004.pkl', '202005.pkl', '202006_stations.pkl', 'Bicimad_Estacions_201808.pkl', 'Bicimad_Estacions_201809.pkl', 'Bicimad_Estacions_201810.pkl', 'Bicimad_Stations_201811.pkl', 'Bicimad_Stations_201812.pkl', 'Bicimad_Stations_201901.pkl', 'Bicimad_Stations_201902.pkl', 'Bicimad_Stations_201903.pkl', 'Bicimad_Stations_201904.pkl', 'Bicimad_Stations_201905.pkl', 'Bicimad_Stations_201906.pkl']\nConcatenado\n"
    },
    {
     "output_type": "execute_result",
     "data": {
      "text/plain": "0"
     },
     "metadata": {},
     "execution_count": 3
    }
   ],
   "source": [
    "Stations.SaveDecoderList()"
   ]
  },
  {
   "cell_type": "markdown",
   "metadata": {},
   "source": [
    "## Reduced data\n",
    "\n",
    "Functions to treat data:\n",
    "\n",
    "ChooseRange: User choose a value to show in a daterange. This function ALWAYS must be called<br>\n",
    "\n",
    "ChooseInterval: Set the accuracy of the chosen range\n",
    "\n",
    "ChooseComparator: In case user wanted to compare data: days, weekday, business...\n",
    "\n",
    "\n"
   ]
  },
  {
   "cell_type": "code",
   "execution_count": 18,
   "metadata": {
    "tags": []
   },
   "outputs": [
    {
     "output_type": "execute_result",
     "data": {
      "text/plain": "ID                              C      E      N      O      S\nDate                                                         \n2020-05-06 01:26:07.581958  294.0  585.0  499.0  642.0  419.0\n2020-05-06 02:26:08.586676  282.0  607.0  494.0  634.0  442.0\n2020-05-06 03:26:10.610401  274.0  606.0  488.0  634.0  460.0\n2020-05-06 04:26:13.764521  273.0  602.0  488.0  634.0  464.0\n2020-05-06 05:26:15.421163  274.0  611.0  491.0  642.0  473.0\n...                           ...    ...    ...    ...    ...\n2020-06-05 20:48:02.338223  364.0  314.0  265.0  574.0  168.0\n2020-06-05 21:48:02.498090  346.0  352.0  296.0  632.0  185.0\n2020-06-05 22:48:04.242737  334.0  374.0  348.0  679.0  298.0\n2020-06-05 23:48:07.040615  289.0  407.0  392.0  679.0  352.0\n2020-06-06 00:48:09.035955  253.0  458.0  408.0  654.0  356.0\n\n[738 rows x 5 columns]",
      "text/html": "<div>\n<style scoped>\n    .dataframe tbody tr th:only-of-type {\n        vertical-align: middle;\n    }\n\n    .dataframe tbody tr th {\n        vertical-align: top;\n    }\n\n    .dataframe thead th {\n        text-align: right;\n    }\n</style>\n<table border=\"1\" class=\"dataframe\">\n  <thead>\n    <tr style=\"text-align: right;\">\n      <th>ID</th>\n      <th>C</th>\n      <th>E</th>\n      <th>N</th>\n      <th>O</th>\n      <th>S</th>\n    </tr>\n    <tr>\n      <th>Date</th>\n      <th></th>\n      <th></th>\n      <th></th>\n      <th></th>\n      <th></th>\n    </tr>\n  </thead>\n  <tbody>\n    <tr>\n      <th>2020-05-06 01:26:07.581958</th>\n      <td>294.0</td>\n      <td>585.0</td>\n      <td>499.0</td>\n      <td>642.0</td>\n      <td>419.0</td>\n    </tr>\n    <tr>\n      <th>2020-05-06 02:26:08.586676</th>\n      <td>282.0</td>\n      <td>607.0</td>\n      <td>494.0</td>\n      <td>634.0</td>\n      <td>442.0</td>\n    </tr>\n    <tr>\n      <th>2020-05-06 03:26:10.610401</th>\n      <td>274.0</td>\n      <td>606.0</td>\n      <td>488.0</td>\n      <td>634.0</td>\n      <td>460.0</td>\n    </tr>\n    <tr>\n      <th>2020-05-06 04:26:13.764521</th>\n      <td>273.0</td>\n      <td>602.0</td>\n      <td>488.0</td>\n      <td>634.0</td>\n      <td>464.0</td>\n    </tr>\n    <tr>\n      <th>2020-05-06 05:26:15.421163</th>\n      <td>274.0</td>\n      <td>611.0</td>\n      <td>491.0</td>\n      <td>642.0</td>\n      <td>473.0</td>\n    </tr>\n    <tr>\n      <th>...</th>\n      <td>...</td>\n      <td>...</td>\n      <td>...</td>\n      <td>...</td>\n      <td>...</td>\n    </tr>\n    <tr>\n      <th>2020-06-05 20:48:02.338223</th>\n      <td>364.0</td>\n      <td>314.0</td>\n      <td>265.0</td>\n      <td>574.0</td>\n      <td>168.0</td>\n    </tr>\n    <tr>\n      <th>2020-06-05 21:48:02.498090</th>\n      <td>346.0</td>\n      <td>352.0</td>\n      <td>296.0</td>\n      <td>632.0</td>\n      <td>185.0</td>\n    </tr>\n    <tr>\n      <th>2020-06-05 22:48:04.242737</th>\n      <td>334.0</td>\n      <td>374.0</td>\n      <td>348.0</td>\n      <td>679.0</td>\n      <td>298.0</td>\n    </tr>\n    <tr>\n      <th>2020-06-05 23:48:07.040615</th>\n      <td>289.0</td>\n      <td>407.0</td>\n      <td>392.0</td>\n      <td>679.0</td>\n      <td>352.0</td>\n    </tr>\n    <tr>\n      <th>2020-06-06 00:48:09.035955</th>\n      <td>253.0</td>\n      <td>458.0</td>\n      <td>408.0</td>\n      <td>654.0</td>\n      <td>356.0</td>\n    </tr>\n  </tbody>\n</table>\n<p>738 rows × 5 columns</p>\n</div>"
     },
     "metadata": {},
     "execution_count": 18
    }
   ],
   "source": [
    "def ChooseRange(df, StartDate, EndDate, Value ):\n",
    "    c0 = df.index.to_series().between(StartDate, EndDate)\n",
    "    return df[c0][Value]\n",
    "def ChooseAccuracy(df, Accuracy):\n",
    "    return df.resample(Accuracy).median()\n",
    "\n",
    "def ChooseComparison(df, Comparator, Interval=''):\n",
    "        Decisions={'Y': df.index.year,\n",
    "                  'M': df.index.month,\n",
    "                  'd': df.index.day,\n",
    "                  'dow':df.index.dayofweek,\n",
    "                  'h': df.index.hour,\n",
    "                  'bd': df.index.dayofweek<5\n",
    "        }\n",
    "        if Comparator=='':\n",
    "            return df.groupby([Decisions[Comparator]]).median()\n",
    "        else:\n",
    "            \n",
    "            return df.groupby([Decisions[Comparator], Decisions[Interval]]).median()\n",
    "\n",
    "def Clusterization(df, cluster, op, Decode):\n",
    "    df = df.rename(columns = lambda x: Decode.get(x, cluster))\n",
    "    if op==\"median\":\n",
    "        return df.groupby(df.columns, axis=1).median()\n",
    "    if op==\"mean\":\n",
    "        return df.groupby(df.columns, axis=1).mean()\n",
    "    if op==\"sum\":\n",
    "        return df.groupby(df.columns, axis=1).sum()\n",
    "    else:\n",
    "        return \"No se que funcion me has dado\"\n",
    "\n",
    "\n",
    "\n",
    "StartDate = '2020-5-06 00:48'\n",
    "EndDate = '2020-6-06 00:50'\n",
    "Value='DockBikes'\n",
    "Comparator = 'd'\n",
    "Accuracy = \"h\"\n",
    "Interval=''\n",
    "\n",
    "\n",
    "\n",
    "\n",
    "df = ChooseRange(data, StartDate, EndDate, Value)\n",
    "ChooseComparison(df, Comparator, Accuracy )\n",
    "# df = df.groupby([df.index.day, df.index.hour]).median()\n",
    "Decode = Decoder('../DataFrames/DatosEstaticos.txt')\n",
    "\n",
    "# ChooseInterval(df, 'd')\n",
    "Clusterization(df, 'RegionName', 'sum', Decode)"
   ]
  },
  {
   "cell_type": "markdown",
   "metadata": {},
   "source": []
  },
  {
   "cell_type": "markdown",
   "metadata": {},
   "source": [
    "# class Ploteo\n",
    "\n",
    "Para obtener datos finales y que se pueda meter facilmente en las graficas. Solo funciona para unafecha determinada, no puedes meter una tabla entera."
   ]
  },
  {
   "cell_type": "code",
   "execution_count": 3,
   "metadata": {},
   "outputs": [],
   "source": [
    "toPlot = Stations.Ploteo(df.iloc[0], Decode)\n",
    "toPlot.Value\n",
    "toPlot.Latitude\n",
    "toPlot.Longitude\n",
    "toPlot.Address\n",
    "toPlot.Date\n",
    "toPlot.Index"
   ]
  },
  {
   "cell_type": "markdown",
   "metadata": {},
   "source": [
    "# Decoder Info"
   ]
  },
  {
   "cell_type": "code",
   "execution_count": 13,
   "metadata": {},
   "outputs": [],
   "source": [
    "Decode = Decoder('../DataFrames/DatosEstaticos.txt')\n",
    "Decode.infoStation(['Lavapiés'])"
   ]
  },
  {
   "cell_type": "code",
   "execution_count": 38,
   "metadata": {
    "tags": []
   },
   "outputs": [
    {
     "output_type": "execute_result",
     "data": {
      "text/plain": "ID\n1      40.4168961\n2      40.4170009\n3      40.4205886\n4      40.4302937\n5      40.4285524\n          ...    \n200    40.4318611\n201    40.4324722\n207    40.4343611\n211      40.44175\n213       40.4535\nName: Latitude, Length: 184, dtype: object"
     },
     "metadata": {},
     "execution_count": 38
    }
   ],
   "source": [
    "Decode._obj['Latitude'].loc[data.iloc[0]['DockBikes'].dropna().index]\n"
   ]
  },
  {
   "cell_type": "code",
   "execution_count": 36,
   "metadata": {},
   "outputs": [
    {
     "output_type": "execute_result",
     "data": {
      "text/plain": "Int64Index([  1,   2,   3,   4,   5,   6,   7,   8,   9,  10,\n            ...\n            184, 185, 189, 190, 191, 200, 201, 207, 211, 213],\n           dtype='int64', name='ID', length=1656)"
     },
     "metadata": {},
     "execution_count": 36
    }
   ],
   "source": [
    "data.iloc[0].dropna().index.get_level_values(1)"
   ]
  },
  {
   "cell_type": "code",
   "execution_count": 37,
   "metadata": {},
   "outputs": [
    {
     "output_type": "execute_result",
     "data": {
      "text/plain": "Int64Index([  1,   2,   3,   4,   5,   6,   7,   8,   9,  10,\n            ...\n            184, 185, 189, 190, 191, 200, 201, 207, 211, 213],\n           dtype='int64', name='ID', length=184)"
     },
     "metadata": {},
     "execution_count": 37
    }
   ],
   "source": [
    "data.iloc[0]['DockBikes'].dropna().index"
   ]
  }
 ]
}