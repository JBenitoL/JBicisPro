{
 "cells": [
  {
   "cell_type": "code",
   "execution_count": 64,
   "metadata": {},
   "outputs": [],
   "source": [
    "import pandas as pd\n",
    "import numpy as np"
   ]
  },
  {
   "cell_type": "markdown",
   "metadata": {},
   "source": [
    "# Function to obtain a requiered info"
   ]
  },
  {
   "cell_type": "code",
   "execution_count": 69,
   "metadata": {},
   "outputs": [],
   "source": [
    "Decoder = pd.read_excel('IndiceBases.xlsx',   sep=';', encoding = 'latin')\n",
    "Decoder = Decoder.set_index('id')\n",
    "\n",
    "def indexOfName(name, ListOfNames):\n",
    "    for i in range(0, len(ListOfNames)):\n",
    "        if name in ListOfNames[i]:\n",
    "            return i\n",
    "\n",
    "def getData(value, columnName, Decoder):   \n",
    "    \n",
    "    if type(value)==int:\n",
    "        return Decoder.loc[value][columnName]\n",
    "    \n",
    "    if type(value)==str:\n",
    "        ind = indexOfName(value, Decoder['name'].to_list())\n",
    "        Decoder = Decoder.reset_index()\n",
    "        return Decoder.iloc[ind][columnName]"
   ]
  },
  {
   "cell_type": "code",
   "execution_count": 70,
   "metadata": {},
   "outputs": [
    {
     "data": {
      "text/plain": [
       "-3.7008803"
      ]
     },
     "execution_count": 70,
     "metadata": {},
     "output_type": "execute_result"
    }
   ],
   "source": [
    "idToData('Lavapiés','longitude', Decoder )"
   ]
  },
  {
   "cell_type": "code",
   "execution_count": 71,
   "metadata": {},
   "outputs": [
    {
     "data": {
      "text/plain": [
       "-3.7008803"
      ]
     },
     "execution_count": 71,
     "metadata": {},
     "output_type": "execute_result"
    }
   ],
   "source": [
    "idToData(57,'longitude', Decoder )"
   ]
  }
 ],
 "metadata": {
  "kernelspec": {
   "display_name": "Python 3.7.7 64-bit ('Data': conda)",
   "language": "python",
   "name": "python37764bitdatacondadc3d4e752f5544e9b20925fdd8c32237"
  },
  "language_info": {
   "codemirror_mode": {
    "name": "ipython",
    "version": 3
   },
   "file_extension": ".py",
   "mimetype": "text/x-python",
   "name": "python",
   "nbconvert_exporter": "python",
   "pygments_lexer": "ipython3",
   "version": "3.7.7"
  }
 },
 "nbformat": 4,
 "nbformat_minor": 4
}
