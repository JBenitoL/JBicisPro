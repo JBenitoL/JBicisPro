{
 "cells": [
  {
   "cell_type": "code",
   "execution_count": 3,
   "metadata": {},
   "outputs": [],
   "source": [
    "import pandas as pd\n",
    "import numpy as np"
   ]
  },
  {
   "cell_type": "markdown",
   "metadata": {},
   "source": [
    "# Function to obtain a requiered info\n",
    "\n",
    "With getData, we obtain the required attribute (columnName) using the id/name (value) of the station."
   ]
  },
  {
   "cell_type": "code",
   "execution_count": 6,
   "metadata": {},
   "outputs": [],
   "source": [
    "Decoder = pd.read_excel('IndiceBases.xlsx',   sep=';', encoding = 'latin')\n",
    "Decoder = Decoder.set_index('id')\n",
    "\n",
    "def indexOfName(name, ListOfNames):\n",
    "    for i in range(0, len(ListOfNames)):\n",
    "        if name in ListOfNames[i]:\n",
    "            return i\n",
    "\n",
    "def getData(value, columnName, Decoder):   \n",
    "    \n",
    "    if type(value)==int:\n",
    "        return Decoder.loc[value][columnName]\n",
    "    \n",
    "    if type(value)==str:\n",
    "        ind = indexOfName(value, Decoder['name'].to_list())\n",
    "        Decoder = Decoder.reset_index()\n",
    "        return Decoder.iloc[ind][columnName]"
   ]
  },
  {
   "cell_type": "markdown",
   "metadata": {},
   "source": [
    "# Uses examples"
   ]
  },
  {
   "cell_type": "code",
   "execution_count": 8,
   "metadata": {},
   "outputs": [
    {
     "output_type": "execute_result",
     "data": {
      "text/plain": "-3.7008803"
     },
     "metadata": {},
     "execution_count": 8
    }
   ],
   "source": [
    "getData('Lavapiés','longitude', Decoder )"
   ]
  },
  {
   "cell_type": "code",
   "execution_count": 9,
   "metadata": {},
   "outputs": [
    {
     "output_type": "execute_result",
     "data": {
      "text/plain": "'Plaza de Lavapiés'"
     },
     "metadata": {},
     "execution_count": 9
    }
   ],
   "source": [
    "getData(57,'name', Decoder )"
   ]
  }
 ],
 "metadata": {
  "kernelspec": {
   "display_name": "Python 3.7.7 64-bit ('Data': conda)",
   "language": "python",
   "name": "python37764bitdatacondadc3d4e752f5544e9b20925fdd8c32237"
  },
  "language_info": {
   "codemirror_mode": {
    "name": "ipython",
    "version": 3
   },
   "file_extension": ".py",
   "mimetype": "text/x-python",
   "name": "python",
   "nbconvert_exporter": "python",
   "pygments_lexer": "ipython3",
   "version": "3.7.7-final"
  }
 },
 "nbformat": 4,
 "nbformat_minor": 4
}